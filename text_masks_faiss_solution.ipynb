{
  "metadata": {
    "kernelspec": {
      "language": "python",
      "display_name": "Python 3",
      "name": "python3"
    },
    "language_info": {
      "name": "python",
      "version": "3.10.13",
      "mimetype": "text/x-python",
      "codemirror_mode": {
        "name": "ipython",
        "version": 3
      },
      "pygments_lexer": "ipython3",
      "nbconvert_exporter": "python",
      "file_extension": ".py"
    },
    "kaggle": {
      "accelerator": "gpu",
      "dataSources": [
        {
          "sourceId": 8846701,
          "sourceType": "datasetVersion",
          "datasetId": 5324734
        }
      ],
      "dockerImageVersionId": 30733,
      "isInternetEnabled": true,
      "language": "python",
      "sourceType": "notebook",
      "isGpuEnabled": true
    },
    "colab": {
      "provenance": []
    }
  },
  "nbformat_minor": 0,
  "nbformat": 4,
  "cells": [
    {
      "cell_type": "code",
      "source": [
        "!nvidia-smi"
      ],
      "metadata": {
        "_uuid": "8f2839f25d086af736a60e9eeb907d3b93b6e0e5",
        "_cell_guid": "b1076dfc-b9ad-4769-8c92-a6c4dae69d19",
        "execution": {
          "iopub.status.busy": "2024-07-03T15:16:25.322608Z",
          "iopub.execute_input": "2024-07-03T15:16:25.323429Z",
          "iopub.status.idle": "2024-07-03T15:16:26.465748Z",
          "shell.execute_reply.started": "2024-07-03T15:16:25.323383Z",
          "shell.execute_reply": "2024-07-03T15:16:26.464490Z"
        },
        "trusted": true,
        "id": "mGSKbZ-1IIus",
        "outputId": "573f5163-0397-4a02-ecdd-10420cbe18b2"
      },
      "execution_count": null,
      "outputs": [
        {
          "name": "stdout",
          "text": "Wed Jul  3 15:16:26 2024       \n+---------------------------------------------------------------------------------------+\n| NVIDIA-SMI 535.129.03             Driver Version: 535.129.03   CUDA Version: 12.2     |\n|-----------------------------------------+----------------------+----------------------+\n| GPU  Name                 Persistence-M | Bus-Id        Disp.A | Volatile Uncorr. ECC |\n| Fan  Temp   Perf          Pwr:Usage/Cap |         Memory-Usage | GPU-Util  Compute M. |\n|                                         |                      |               MIG M. |\n|=========================================+======================+======================|\n|   0  Tesla P100-PCIE-16GB           Off | 00000000:00:04.0 Off |                    0 |\n| N/A   35C    P0              25W / 250W |      0MiB / 16384MiB |      0%      Default |\n|                                         |                      |                  N/A |\n+-----------------------------------------+----------------------+----------------------+\n                                                                                         \n+---------------------------------------------------------------------------------------+\n| Processes:                                                                            |\n|  GPU   GI   CI        PID   Type   Process name                            GPU Memory |\n|        ID   ID                                                             Usage      |\n|=======================================================================================|\n|  No running processes found                                                           |\n+---------------------------------------------------------------------------------------+\n",
          "output_type": "stream"
        }
      ]
    },
    {
      "cell_type": "code",
      "source": [
        "!sudo apt install build-essential python3-dev libopenblas-dev -y"
      ],
      "metadata": {
        "scrolled": true,
        "execution": {
          "iopub.status.busy": "2024-07-03T15:16:26.467881Z",
          "iopub.execute_input": "2024-07-03T15:16:26.468794Z",
          "iopub.status.idle": "2024-07-03T15:16:35.763221Z",
          "shell.execute_reply.started": "2024-07-03T15:16:26.468754Z",
          "shell.execute_reply": "2024-07-03T15:16:35.762259Z"
        },
        "trusted": true,
        "collapsed": true,
        "id": "GTyrTzOpIIux"
      },
      "execution_count": null,
      "outputs": []
    },
    {
      "cell_type": "code",
      "source": [
        "!pip install torch ninja"
      ],
      "metadata": {
        "execution": {
          "iopub.status.busy": "2024-07-03T15:16:35.765120Z",
          "iopub.execute_input": "2024-07-03T15:16:35.765473Z",
          "iopub.status.idle": "2024-07-03T15:16:50.378876Z",
          "shell.execute_reply.started": "2024-07-03T15:16:35.765444Z",
          "shell.execute_reply": "2024-07-03T15:16:50.377591Z"
        },
        "trusted": true,
        "id": "ITVG7Oq_IIuy"
      },
      "execution_count": null,
      "outputs": []
    },
    {
      "cell_type": "code",
      "source": [
        "!pip install -U git+https://github.com/richlukich/MinkowskiEngine -v --no-deps \\\n",
        "                          --config-settings=\"--install-option=--force_cuda\" \\\n",
        "                          --config-settings=\"--install-option=--blas=openblas\""
      ],
      "metadata": {
        "scrolled": true,
        "execution": {
          "iopub.status.busy": "2024-07-03T15:25:24.513294Z",
          "iopub.execute_input": "2024-07-03T15:25:24.514052Z",
          "iopub.status.idle": "2024-07-03T15:36:12.774910Z",
          "shell.execute_reply.started": "2024-07-03T15:25:24.514017Z",
          "shell.execute_reply": "2024-07-03T15:36:12.773523Z"
        },
        "trusted": true,
        "id": "6iBkRUFqIIuz"
      },
      "execution_count": null,
      "outputs": []
    },
    {
      "cell_type": "code",
      "source": [
        "!pip install faiss-gpu\n",
        "!pip install loguru\n",
        "!pip install fuzzywuzzy\n",
        "!pip install paddlepaddle-gpu\n",
        "!pip install paddleocr\n",
        "!pip install numpy-quaternion\n",
        "!pip install dvc\n",
        "!pip install dvc_gdrive"
      ],
      "metadata": {
        "scrolled": true,
        "execution": {
          "iopub.status.busy": "2024-07-03T15:16:50.388070Z",
          "iopub.execute_input": "2024-07-03T15:16:50.388421Z",
          "iopub.status.idle": "2024-07-03T15:20:04.555281Z",
          "shell.execute_reply.started": "2024-07-03T15:16:50.388375Z",
          "shell.execute_reply": "2024-07-03T15:20:04.554068Z"
        },
        "trusted": true,
        "id": "6FL2PoH-IIu2"
      },
      "execution_count": null,
      "outputs": []
    },
    {
      "cell_type": "code",
      "source": [
        "import torch\n",
        "import MinkowskiEngine as ME"
      ],
      "metadata": {
        "execution": {
          "iopub.status.busy": "2024-07-03T15:36:12.778010Z",
          "iopub.execute_input": "2024-07-03T15:36:12.778938Z",
          "iopub.status.idle": "2024-07-03T15:36:12.859787Z",
          "shell.execute_reply.started": "2024-07-03T15:36:12.778889Z",
          "shell.execute_reply": "2024-07-03T15:36:12.858826Z"
        },
        "trusted": true,
        "id": "uw3xr5O-IIu3"
      },
      "execution_count": null,
      "outputs": []
    },
    {
      "cell_type": "code",
      "source": [
        "DATA_ROOT = '/kaggle/input/itlp-campus-dataset/public'"
      ],
      "metadata": {
        "execution": {
          "iopub.status.busy": "2024-07-03T15:36:12.864500Z",
          "iopub.execute_input": "2024-07-03T15:36:12.866723Z",
          "iopub.status.idle": "2024-07-03T15:36:12.872684Z",
          "shell.execute_reply.started": "2024-07-03T15:36:12.866689Z",
          "shell.execute_reply": "2024-07-03T15:36:12.871820Z"
        },
        "trusted": true,
        "id": "dWNVbRJJIIu4"
      },
      "execution_count": null,
      "outputs": []
    },
    {
      "cell_type": "code",
      "source": [
        "import pandas as pd"
      ],
      "metadata": {
        "execution": {
          "iopub.status.busy": "2024-07-03T15:36:12.878572Z",
          "iopub.execute_input": "2024-07-03T15:36:12.881101Z",
          "iopub.status.idle": "2024-07-03T15:36:12.886737Z",
          "shell.execute_reply.started": "2024-07-03T15:36:12.881063Z",
          "shell.execute_reply": "2024-07-03T15:36:12.885855Z"
        },
        "trusted": true,
        "id": "cxfKVA57IIu4"
      },
      "execution_count": null,
      "outputs": []
    },
    {
      "cell_type": "code",
      "source": [
        "train_df = pd.read_csv('/kaggle/input/itlp-campus-dataset/public/train.csv').drop(columns='Unnamed: 0')\n",
        "train_df"
      ],
      "metadata": {
        "execution": {
          "iopub.status.busy": "2024-07-03T15:20:10.485186Z",
          "iopub.execute_input": "2024-07-03T15:20:10.485994Z",
          "iopub.status.idle": "2024-07-03T15:20:10.557280Z",
          "shell.execute_reply.started": "2024-07-03T15:20:10.485961Z",
          "shell.execute_reply": "2024-07-03T15:20:10.556287Z"
        },
        "trusted": true,
        "id": "QvLBLYw7IIu5",
        "outputId": "0991a5ed-8578-4c39-ad18-eb00abe87e01"
      },
      "execution_count": null,
      "outputs": [
        {
          "execution_count": 9,
          "output_type": "execute_result",
          "data": {
            "text/plain": "             timestamp                         track      front_cam_ts  \\\n0     1676034260851770  2023-02-10-08-04-19-twilight  1676034260821540   \n1     1676034268718093  2023-02-10-08-04-19-twilight  1676034268687989   \n2     1676034274365801  2023-02-10-08-04-19-twilight  1676034274404483   \n3     1676034280013503  2023-02-10-08-04-19-twilight  1676034280004376   \n4     1676034285358658  2023-02-10-08-04-19-twilight  1676034285387661   \n...                ...                           ...               ...   \n1354  1678905610167111     2023-03-15-13-25-48-night  1678905610166555   \n1355  1678905615814276     2023-03-15-13-25-48-night  1678905615783690   \n1356  1678905621059160     2023-03-15-13-25-48-night  1678905621067311   \n1357  1678905626909006     2023-03-15-13-25-48-night  1678905626884315   \n1358  1678905632657981     2023-03-15-13-25-48-night  1678905632684703   \n\n           back_cam_ts          tx         ty        tz        qx        qy  \\\n0     1676034260865870  -23.839826 -17.655232 -1.474530  0.013051  0.028187   \n1     1676034268708533  -19.060815 -19.003152 -2.513494  0.017344  0.019243   \n2     1676034274382407  -14.289875 -20.252643 -2.563523  0.019104  0.025107   \n3     1676034279987523  -10.200171 -17.323240 -2.689153  0.006686  0.016921   \n4     1676034285339092   -6.752502 -13.812644 -2.623646  0.003145  0.013536   \n...                ...         ...        ...       ...       ...       ...   \n1354  1678905610148946 -208.692754  19.746243 -2.661155  0.010751  0.021335   \n1355  1678905615831108 -204.946252  23.201232 -2.763870 -0.001526  0.012262   \n1356  1678905621028555 -200.439570  25.320586 -2.827866  0.000658  0.011407   \n1357  1678905626895739 -195.479406  26.327213 -2.666329  0.007004 -0.019667   \n1358  1678905632631545 -191.694618  23.119820 -2.412283  0.004840 -0.011440   \n\n            qz        qw        front_cam_text back_cam_text  \n0     0.003870  0.999510                    []            []  \n1    -0.121944  0.992199                    []            []  \n2     0.103990  0.994078                    []        ['KE']  \n3     0.394677  0.918640                    []        ['KB']  \n4     0.374985  0.926927                    []        ['KE']  \n...        ...       ...                   ...           ...  \n1354  0.389329  0.920789           ['АРКТИКА']            []  \n1355  0.270024  0.962774           ['АРКТИКА']            []  \n1356  0.146494  0.989146           ['АРКТИКА']            []  \n1357 -0.149021  0.988614           ['АВТОМАТ']            []  \n1358 -0.382727  0.923778  ['CENTRO', 'EUROPA']            []  \n\n[1359 rows x 13 columns]",
            "text/html": "<div>\n<style scoped>\n    .dataframe tbody tr th:only-of-type {\n        vertical-align: middle;\n    }\n\n    .dataframe tbody tr th {\n        vertical-align: top;\n    }\n\n    .dataframe thead th {\n        text-align: right;\n    }\n</style>\n<table border=\"1\" class=\"dataframe\">\n  <thead>\n    <tr style=\"text-align: right;\">\n      <th></th>\n      <th>timestamp</th>\n      <th>track</th>\n      <th>front_cam_ts</th>\n      <th>back_cam_ts</th>\n      <th>tx</th>\n      <th>ty</th>\n      <th>tz</th>\n      <th>qx</th>\n      <th>qy</th>\n      <th>qz</th>\n      <th>qw</th>\n      <th>front_cam_text</th>\n      <th>back_cam_text</th>\n    </tr>\n  </thead>\n  <tbody>\n    <tr>\n      <th>0</th>\n      <td>1676034260851770</td>\n      <td>2023-02-10-08-04-19-twilight</td>\n      <td>1676034260821540</td>\n      <td>1676034260865870</td>\n      <td>-23.839826</td>\n      <td>-17.655232</td>\n      <td>-1.474530</td>\n      <td>0.013051</td>\n      <td>0.028187</td>\n      <td>0.003870</td>\n      <td>0.999510</td>\n      <td>[]</td>\n      <td>[]</td>\n    </tr>\n    <tr>\n      <th>1</th>\n      <td>1676034268718093</td>\n      <td>2023-02-10-08-04-19-twilight</td>\n      <td>1676034268687989</td>\n      <td>1676034268708533</td>\n      <td>-19.060815</td>\n      <td>-19.003152</td>\n      <td>-2.513494</td>\n      <td>0.017344</td>\n      <td>0.019243</td>\n      <td>-0.121944</td>\n      <td>0.992199</td>\n      <td>[]</td>\n      <td>[]</td>\n    </tr>\n    <tr>\n      <th>2</th>\n      <td>1676034274365801</td>\n      <td>2023-02-10-08-04-19-twilight</td>\n      <td>1676034274404483</td>\n      <td>1676034274382407</td>\n      <td>-14.289875</td>\n      <td>-20.252643</td>\n      <td>-2.563523</td>\n      <td>0.019104</td>\n      <td>0.025107</td>\n      <td>0.103990</td>\n      <td>0.994078</td>\n      <td>[]</td>\n      <td>['KE']</td>\n    </tr>\n    <tr>\n      <th>3</th>\n      <td>1676034280013503</td>\n      <td>2023-02-10-08-04-19-twilight</td>\n      <td>1676034280004376</td>\n      <td>1676034279987523</td>\n      <td>-10.200171</td>\n      <td>-17.323240</td>\n      <td>-2.689153</td>\n      <td>0.006686</td>\n      <td>0.016921</td>\n      <td>0.394677</td>\n      <td>0.918640</td>\n      <td>[]</td>\n      <td>['KB']</td>\n    </tr>\n    <tr>\n      <th>4</th>\n      <td>1676034285358658</td>\n      <td>2023-02-10-08-04-19-twilight</td>\n      <td>1676034285387661</td>\n      <td>1676034285339092</td>\n      <td>-6.752502</td>\n      <td>-13.812644</td>\n      <td>-2.623646</td>\n      <td>0.003145</td>\n      <td>0.013536</td>\n      <td>0.374985</td>\n      <td>0.926927</td>\n      <td>[]</td>\n      <td>['KE']</td>\n    </tr>\n    <tr>\n      <th>...</th>\n      <td>...</td>\n      <td>...</td>\n      <td>...</td>\n      <td>...</td>\n      <td>...</td>\n      <td>...</td>\n      <td>...</td>\n      <td>...</td>\n      <td>...</td>\n      <td>...</td>\n      <td>...</td>\n      <td>...</td>\n      <td>...</td>\n    </tr>\n    <tr>\n      <th>1354</th>\n      <td>1678905610167111</td>\n      <td>2023-03-15-13-25-48-night</td>\n      <td>1678905610166555</td>\n      <td>1678905610148946</td>\n      <td>-208.692754</td>\n      <td>19.746243</td>\n      <td>-2.661155</td>\n      <td>0.010751</td>\n      <td>0.021335</td>\n      <td>0.389329</td>\n      <td>0.920789</td>\n      <td>['АРКТИКА']</td>\n      <td>[]</td>\n    </tr>\n    <tr>\n      <th>1355</th>\n      <td>1678905615814276</td>\n      <td>2023-03-15-13-25-48-night</td>\n      <td>1678905615783690</td>\n      <td>1678905615831108</td>\n      <td>-204.946252</td>\n      <td>23.201232</td>\n      <td>-2.763870</td>\n      <td>-0.001526</td>\n      <td>0.012262</td>\n      <td>0.270024</td>\n      <td>0.962774</td>\n      <td>['АРКТИКА']</td>\n      <td>[]</td>\n    </tr>\n    <tr>\n      <th>1356</th>\n      <td>1678905621059160</td>\n      <td>2023-03-15-13-25-48-night</td>\n      <td>1678905621067311</td>\n      <td>1678905621028555</td>\n      <td>-200.439570</td>\n      <td>25.320586</td>\n      <td>-2.827866</td>\n      <td>0.000658</td>\n      <td>0.011407</td>\n      <td>0.146494</td>\n      <td>0.989146</td>\n      <td>['АРКТИКА']</td>\n      <td>[]</td>\n    </tr>\n    <tr>\n      <th>1357</th>\n      <td>1678905626909006</td>\n      <td>2023-03-15-13-25-48-night</td>\n      <td>1678905626884315</td>\n      <td>1678905626895739</td>\n      <td>-195.479406</td>\n      <td>26.327213</td>\n      <td>-2.666329</td>\n      <td>0.007004</td>\n      <td>-0.019667</td>\n      <td>-0.149021</td>\n      <td>0.988614</td>\n      <td>['АВТОМАТ']</td>\n      <td>[]</td>\n    </tr>\n    <tr>\n      <th>1358</th>\n      <td>1678905632657981</td>\n      <td>2023-03-15-13-25-48-night</td>\n      <td>1678905632684703</td>\n      <td>1678905632631545</td>\n      <td>-191.694618</td>\n      <td>23.119820</td>\n      <td>-2.412283</td>\n      <td>0.004840</td>\n      <td>-0.011440</td>\n      <td>-0.382727</td>\n      <td>0.923778</td>\n      <td>['CENTRO', 'EUROPA']</td>\n      <td>[]</td>\n    </tr>\n  </tbody>\n</table>\n<p>1359 rows × 13 columns</p>\n</div>"
          },
          "metadata": {}
        }
      ]
    },
    {
      "cell_type": "code",
      "source": [
        "test_df = pd.read_csv('/kaggle/input/itlp-campus-dataset/public/test_with_rec_text.csv').drop(columns='Unnamed: 0')\n",
        "test_df"
      ],
      "metadata": {
        "execution": {
          "iopub.status.busy": "2024-07-03T15:20:11.999519Z",
          "iopub.execute_input": "2024-07-03T15:20:11.999892Z",
          "iopub.status.idle": "2024-07-03T15:20:12.041634Z",
          "shell.execute_reply.started": "2024-07-03T15:20:11.999863Z",
          "shell.execute_reply": "2024-07-03T15:20:12.040610Z"
        },
        "trusted": true,
        "id": "_XNp2zZDIIu6",
        "outputId": "5ecde76f-b65d-415a-b9a6-e9183df1e9fe"
      },
      "execution_count": null,
      "outputs": [
        {
          "execution_count": 10,
          "output_type": "execute_result",
          "data": {
            "text/plain": "             timestamp                         track      front_cam_ts  \\\n0     1676034260851770  2023-02-10-08-04-19-twilight  1676034260821540   \n1     1676034268718093  2023-02-10-08-04-19-twilight  1676034268687989   \n2     1676034274365801  2023-02-10-08-04-19-twilight  1676034274404483   \n3     1676034280013503  2023-02-10-08-04-19-twilight  1676034280004376   \n4     1676034285358658  2023-02-10-08-04-19-twilight  1676034285387661   \n...                ...                           ...               ...   \n1850  1678905610167111     2023-03-15-13-25-48-night  1678905610166555   \n1851  1678905615814276     2023-03-15-13-25-48-night  1678905615783690   \n1852  1678905621059160     2023-03-15-13-25-48-night  1678905621067311   \n1853  1678905626909006     2023-03-15-13-25-48-night  1678905626884315   \n1854  1678905632657981     2023-03-15-13-25-48-night  1678905632684703   \n\n           back_cam_ts          tx         ty        tz        qx        qy  \\\n0     1676034260865870  -23.839826 -17.655232 -1.474530  0.013051  0.028187   \n1     1676034268708533  -19.060815 -19.003152 -2.513494  0.017344  0.019243   \n2     1676034274382407  -14.289875 -20.252643 -2.563523  0.019104  0.025107   \n3     1676034279987523  -10.200171 -17.323240 -2.689153  0.006686  0.016921   \n4     1676034285339092   -6.752502 -13.812644 -2.623646  0.003145  0.013536   \n...                ...         ...        ...       ...       ...       ...   \n1850  1678905610148946 -208.692754  19.746243 -2.661155  0.010751  0.021335   \n1851  1678905615831108 -204.946252  23.201232 -2.763870 -0.001526  0.012262   \n1852  1678905621028555 -200.439570  25.320586 -2.827866  0.000658  0.011407   \n1853  1678905626895739 -195.479406  26.327213 -2.666329  0.007004 -0.019667   \n1854  1678905632631545 -191.694618  23.119820 -2.412283  0.004840 -0.011440   \n\n            qz        qw        front_cam_text back_cam_text  \n0     0.003870  0.999510                    []            []  \n1    -0.121944  0.992199                    []            []  \n2     0.103990  0.994078                    []        ['KE']  \n3     0.394677  0.918640                    []        ['KB']  \n4     0.374985  0.926927                    []        ['KE']  \n...        ...       ...                   ...           ...  \n1850  0.389329  0.920789           ['АРКТИКА']            []  \n1851  0.270024  0.962774           ['АРКТИКА']            []  \n1852  0.146494  0.989146           ['АРКТИКА']            []  \n1853 -0.149021  0.988614           ['АВТОМАТ']            []  \n1854 -0.382727  0.923778  ['CENTRO', 'EUROPA']            []  \n\n[1855 rows x 13 columns]",
            "text/html": "<div>\n<style scoped>\n    .dataframe tbody tr th:only-of-type {\n        vertical-align: middle;\n    }\n\n    .dataframe tbody tr th {\n        vertical-align: top;\n    }\n\n    .dataframe thead th {\n        text-align: right;\n    }\n</style>\n<table border=\"1\" class=\"dataframe\">\n  <thead>\n    <tr style=\"text-align: right;\">\n      <th></th>\n      <th>timestamp</th>\n      <th>track</th>\n      <th>front_cam_ts</th>\n      <th>back_cam_ts</th>\n      <th>tx</th>\n      <th>ty</th>\n      <th>tz</th>\n      <th>qx</th>\n      <th>qy</th>\n      <th>qz</th>\n      <th>qw</th>\n      <th>front_cam_text</th>\n      <th>back_cam_text</th>\n    </tr>\n  </thead>\n  <tbody>\n    <tr>\n      <th>0</th>\n      <td>1676034260851770</td>\n      <td>2023-02-10-08-04-19-twilight</td>\n      <td>1676034260821540</td>\n      <td>1676034260865870</td>\n      <td>-23.839826</td>\n      <td>-17.655232</td>\n      <td>-1.474530</td>\n      <td>0.013051</td>\n      <td>0.028187</td>\n      <td>0.003870</td>\n      <td>0.999510</td>\n      <td>[]</td>\n      <td>[]</td>\n    </tr>\n    <tr>\n      <th>1</th>\n      <td>1676034268718093</td>\n      <td>2023-02-10-08-04-19-twilight</td>\n      <td>1676034268687989</td>\n      <td>1676034268708533</td>\n      <td>-19.060815</td>\n      <td>-19.003152</td>\n      <td>-2.513494</td>\n      <td>0.017344</td>\n      <td>0.019243</td>\n      <td>-0.121944</td>\n      <td>0.992199</td>\n      <td>[]</td>\n      <td>[]</td>\n    </tr>\n    <tr>\n      <th>2</th>\n      <td>1676034274365801</td>\n      <td>2023-02-10-08-04-19-twilight</td>\n      <td>1676034274404483</td>\n      <td>1676034274382407</td>\n      <td>-14.289875</td>\n      <td>-20.252643</td>\n      <td>-2.563523</td>\n      <td>0.019104</td>\n      <td>0.025107</td>\n      <td>0.103990</td>\n      <td>0.994078</td>\n      <td>[]</td>\n      <td>['KE']</td>\n    </tr>\n    <tr>\n      <th>3</th>\n      <td>1676034280013503</td>\n      <td>2023-02-10-08-04-19-twilight</td>\n      <td>1676034280004376</td>\n      <td>1676034279987523</td>\n      <td>-10.200171</td>\n      <td>-17.323240</td>\n      <td>-2.689153</td>\n      <td>0.006686</td>\n      <td>0.016921</td>\n      <td>0.394677</td>\n      <td>0.918640</td>\n      <td>[]</td>\n      <td>['KB']</td>\n    </tr>\n    <tr>\n      <th>4</th>\n      <td>1676034285358658</td>\n      <td>2023-02-10-08-04-19-twilight</td>\n      <td>1676034285387661</td>\n      <td>1676034285339092</td>\n      <td>-6.752502</td>\n      <td>-13.812644</td>\n      <td>-2.623646</td>\n      <td>0.003145</td>\n      <td>0.013536</td>\n      <td>0.374985</td>\n      <td>0.926927</td>\n      <td>[]</td>\n      <td>['KE']</td>\n    </tr>\n    <tr>\n      <th>...</th>\n      <td>...</td>\n      <td>...</td>\n      <td>...</td>\n      <td>...</td>\n      <td>...</td>\n      <td>...</td>\n      <td>...</td>\n      <td>...</td>\n      <td>...</td>\n      <td>...</td>\n      <td>...</td>\n      <td>...</td>\n      <td>...</td>\n    </tr>\n    <tr>\n      <th>1850</th>\n      <td>1678905610167111</td>\n      <td>2023-03-15-13-25-48-night</td>\n      <td>1678905610166555</td>\n      <td>1678905610148946</td>\n      <td>-208.692754</td>\n      <td>19.746243</td>\n      <td>-2.661155</td>\n      <td>0.010751</td>\n      <td>0.021335</td>\n      <td>0.389329</td>\n      <td>0.920789</td>\n      <td>['АРКТИКА']</td>\n      <td>[]</td>\n    </tr>\n    <tr>\n      <th>1851</th>\n      <td>1678905615814276</td>\n      <td>2023-03-15-13-25-48-night</td>\n      <td>1678905615783690</td>\n      <td>1678905615831108</td>\n      <td>-204.946252</td>\n      <td>23.201232</td>\n      <td>-2.763870</td>\n      <td>-0.001526</td>\n      <td>0.012262</td>\n      <td>0.270024</td>\n      <td>0.962774</td>\n      <td>['АРКТИКА']</td>\n      <td>[]</td>\n    </tr>\n    <tr>\n      <th>1852</th>\n      <td>1678905621059160</td>\n      <td>2023-03-15-13-25-48-night</td>\n      <td>1678905621067311</td>\n      <td>1678905621028555</td>\n      <td>-200.439570</td>\n      <td>25.320586</td>\n      <td>-2.827866</td>\n      <td>0.000658</td>\n      <td>0.011407</td>\n      <td>0.146494</td>\n      <td>0.989146</td>\n      <td>['АРКТИКА']</td>\n      <td>[]</td>\n    </tr>\n    <tr>\n      <th>1853</th>\n      <td>1678905626909006</td>\n      <td>2023-03-15-13-25-48-night</td>\n      <td>1678905626884315</td>\n      <td>1678905626895739</td>\n      <td>-195.479406</td>\n      <td>26.327213</td>\n      <td>-2.666329</td>\n      <td>0.007004</td>\n      <td>-0.019667</td>\n      <td>-0.149021</td>\n      <td>0.988614</td>\n      <td>['АВТОМАТ']</td>\n      <td>[]</td>\n    </tr>\n    <tr>\n      <th>1854</th>\n      <td>1678905632657981</td>\n      <td>2023-03-15-13-25-48-night</td>\n      <td>1678905632684703</td>\n      <td>1678905632631545</td>\n      <td>-191.694618</td>\n      <td>23.119820</td>\n      <td>-2.412283</td>\n      <td>0.004840</td>\n      <td>-0.011440</td>\n      <td>-0.382727</td>\n      <td>0.923778</td>\n      <td>['CENTRO', 'EUROPA']</td>\n      <td>[]</td>\n    </tr>\n  </tbody>\n</table>\n<p>1855 rows × 13 columns</p>\n</div>"
          },
          "metadata": {}
        }
      ]
    },
    {
      "cell_type": "code",
      "source": [
        "val_df = pd.read_csv('/kaggle/input/itlp-campus-dataset/public/val.csv').drop(columns='Unnamed: 0')\n",
        "val_df"
      ],
      "metadata": {
        "execution": {
          "iopub.status.busy": "2024-07-03T15:20:12.974203Z",
          "iopub.execute_input": "2024-07-03T15:20:12.975072Z",
          "iopub.status.idle": "2024-07-03T15:20:13.005835Z",
          "shell.execute_reply.started": "2024-07-03T15:20:12.975036Z",
          "shell.execute_reply": "2024-07-03T15:20:13.004937Z"
        },
        "trusted": true,
        "id": "49BxF1HQIIu8",
        "outputId": "bc869054-d530-4702-a8e5-e078f5387900"
      },
      "execution_count": null,
      "outputs": [
        {
          "execution_count": 11,
          "output_type": "execute_result",
          "data": {
            "text/plain": "            timestamp                         track      front_cam_ts  \\\n0    1676035566075019  2023-02-10-08-04-19-twilight  1676035566108253   \n1    1676035571722667  2023-02-10-08-04-19-twilight  1676035571691405   \n2    1676035577269474  2023-02-10-08-04-19-twilight  1676035577291312   \n3    1676035582715506  2023-02-10-08-04-19-twilight  1676035582724463   \n4    1676035588262317  2023-02-10-08-04-19-twilight  1676035588290997   \n..                ...                           ...               ...   \n491  1678904283512023     2023-03-15-13-25-48-night  1678904283555720   \n492  1678904290067940     2023-03-15-13-25-48-night  1678904290056078   \n493  1678904296724738     2023-03-15-13-25-48-night  1678904296739853   \n494  1678904302373180     2023-03-15-13-25-48-night  1678904302356838   \n495  1678904307819439     2023-03-15-13-25-48-night  1678904307857224   \n\n          back_cam_ts          tx          ty        tz        qx        qy  \\\n0    1676035566077315   80.724531  -71.308620 -0.873446 -0.000971  0.007920   \n1    1676035571749351   84.696672  -67.969684 -0.886570 -0.000097  0.017570   \n2    1676035577284949   88.486198  -64.722221 -0.878774 -0.005348  0.022473   \n3    1676035582747679   92.378366  -61.577601 -0.906462 -0.004888  0.020862   \n4    1676035588289057   96.279563  -58.386627 -1.030017 -0.007974  0.017085   \n..                ...         ...         ...       ...       ...       ...   \n491  1678904283534244 -155.078201 -194.151665 -1.393639 -0.024897 -0.018326   \n492  1678904290072465 -154.392377 -189.269135 -1.392422 -0.013549  0.009834   \n493  1678904296744134 -153.911107 -184.344878 -1.207735 -0.001541  0.003475   \n494  1678904302348016 -153.259422 -179.365098 -1.463031  0.003824  0.010529   \n495  1678904307818647 -152.638029 -174.377394 -1.199025 -0.002852  0.004532   \n\n           qz        qw                            front_cam_text  \\\n0    0.327289  0.944891                            ['ФИЗТЕХ.БИО']   \n1    0.324952  0.945567                              ['ФИЗТЕХ.Б']   \n2    0.352585  0.935495            ['РАДИОТЕХНИЧЕСКИЙ ФАКУЛЬТЕТ']   \n3    0.231267  0.972654  ['ФИЗТЕХ', 'РАДИОТЕХНИЧЕСКИЙ', 'КОРПУС']   \n4    0.382182  0.923895       ['РАДИОТЕХНИЧЕСКИЙ', 'КОРПУС', 'P']   \n..        ...       ...                                       ...   \n491  0.741418  0.670331                                  ['ФИЗТ']   \n492  0.618619  0.785512                         ['ФИЗТЕХ. КВАНТ']   \n493  0.649004  0.760775                                ['Физтех']   \n494  0.686563  0.726984                                        []   \n495  0.687368  0.726289                                        []   \n\n                                       back_cam_text  \n0    ['МФТИ', 'ЛАБОРАТОРНЫЙ КОРПУС', '1945', '1957']  \n1            ['МФТИ', 'ЛАБОРАТОРНЫЙ КОРПУС', '1952']  \n2                    ['МФТИ', 'ЛАБОРАТОРНЫЙ КОРПУС']  \n3                    ['МФТИ', 'ЛАБОРАТОРНЫЙ КОРПУС']  \n4            ['МФТИ', 'ГОСУДАРСТВЕННЫЙ УНИВЕРСИТЕТ']  \n..                                               ...  \n491                                               []  \n492                                               []  \n493                                               []  \n494                                               []  \n495                                               []  \n\n[496 rows x 13 columns]",
            "text/html": "<div>\n<style scoped>\n    .dataframe tbody tr th:only-of-type {\n        vertical-align: middle;\n    }\n\n    .dataframe tbody tr th {\n        vertical-align: top;\n    }\n\n    .dataframe thead th {\n        text-align: right;\n    }\n</style>\n<table border=\"1\" class=\"dataframe\">\n  <thead>\n    <tr style=\"text-align: right;\">\n      <th></th>\n      <th>timestamp</th>\n      <th>track</th>\n      <th>front_cam_ts</th>\n      <th>back_cam_ts</th>\n      <th>tx</th>\n      <th>ty</th>\n      <th>tz</th>\n      <th>qx</th>\n      <th>qy</th>\n      <th>qz</th>\n      <th>qw</th>\n      <th>front_cam_text</th>\n      <th>back_cam_text</th>\n    </tr>\n  </thead>\n  <tbody>\n    <tr>\n      <th>0</th>\n      <td>1676035566075019</td>\n      <td>2023-02-10-08-04-19-twilight</td>\n      <td>1676035566108253</td>\n      <td>1676035566077315</td>\n      <td>80.724531</td>\n      <td>-71.308620</td>\n      <td>-0.873446</td>\n      <td>-0.000971</td>\n      <td>0.007920</td>\n      <td>0.327289</td>\n      <td>0.944891</td>\n      <td>['ФИЗТЕХ.БИО']</td>\n      <td>['МФТИ', 'ЛАБОРАТОРНЫЙ КОРПУС', '1945', '1957']</td>\n    </tr>\n    <tr>\n      <th>1</th>\n      <td>1676035571722667</td>\n      <td>2023-02-10-08-04-19-twilight</td>\n      <td>1676035571691405</td>\n      <td>1676035571749351</td>\n      <td>84.696672</td>\n      <td>-67.969684</td>\n      <td>-0.886570</td>\n      <td>-0.000097</td>\n      <td>0.017570</td>\n      <td>0.324952</td>\n      <td>0.945567</td>\n      <td>['ФИЗТЕХ.Б']</td>\n      <td>['МФТИ', 'ЛАБОРАТОРНЫЙ КОРПУС', '1952']</td>\n    </tr>\n    <tr>\n      <th>2</th>\n      <td>1676035577269474</td>\n      <td>2023-02-10-08-04-19-twilight</td>\n      <td>1676035577291312</td>\n      <td>1676035577284949</td>\n      <td>88.486198</td>\n      <td>-64.722221</td>\n      <td>-0.878774</td>\n      <td>-0.005348</td>\n      <td>0.022473</td>\n      <td>0.352585</td>\n      <td>0.935495</td>\n      <td>['РАДИОТЕХНИЧЕСКИЙ ФАКУЛЬТЕТ']</td>\n      <td>['МФТИ', 'ЛАБОРАТОРНЫЙ КОРПУС']</td>\n    </tr>\n    <tr>\n      <th>3</th>\n      <td>1676035582715506</td>\n      <td>2023-02-10-08-04-19-twilight</td>\n      <td>1676035582724463</td>\n      <td>1676035582747679</td>\n      <td>92.378366</td>\n      <td>-61.577601</td>\n      <td>-0.906462</td>\n      <td>-0.004888</td>\n      <td>0.020862</td>\n      <td>0.231267</td>\n      <td>0.972654</td>\n      <td>['ФИЗТЕХ', 'РАДИОТЕХНИЧЕСКИЙ', 'КОРПУС']</td>\n      <td>['МФТИ', 'ЛАБОРАТОРНЫЙ КОРПУС']</td>\n    </tr>\n    <tr>\n      <th>4</th>\n      <td>1676035588262317</td>\n      <td>2023-02-10-08-04-19-twilight</td>\n      <td>1676035588290997</td>\n      <td>1676035588289057</td>\n      <td>96.279563</td>\n      <td>-58.386627</td>\n      <td>-1.030017</td>\n      <td>-0.007974</td>\n      <td>0.017085</td>\n      <td>0.382182</td>\n      <td>0.923895</td>\n      <td>['РАДИОТЕХНИЧЕСКИЙ', 'КОРПУС', 'P']</td>\n      <td>['МФТИ', 'ГОСУДАРСТВЕННЫЙ УНИВЕРСИТЕТ']</td>\n    </tr>\n    <tr>\n      <th>...</th>\n      <td>...</td>\n      <td>...</td>\n      <td>...</td>\n      <td>...</td>\n      <td>...</td>\n      <td>...</td>\n      <td>...</td>\n      <td>...</td>\n      <td>...</td>\n      <td>...</td>\n      <td>...</td>\n      <td>...</td>\n      <td>...</td>\n    </tr>\n    <tr>\n      <th>491</th>\n      <td>1678904283512023</td>\n      <td>2023-03-15-13-25-48-night</td>\n      <td>1678904283555720</td>\n      <td>1678904283534244</td>\n      <td>-155.078201</td>\n      <td>-194.151665</td>\n      <td>-1.393639</td>\n      <td>-0.024897</td>\n      <td>-0.018326</td>\n      <td>0.741418</td>\n      <td>0.670331</td>\n      <td>['ФИЗТ']</td>\n      <td>[]</td>\n    </tr>\n    <tr>\n      <th>492</th>\n      <td>1678904290067940</td>\n      <td>2023-03-15-13-25-48-night</td>\n      <td>1678904290056078</td>\n      <td>1678904290072465</td>\n      <td>-154.392377</td>\n      <td>-189.269135</td>\n      <td>-1.392422</td>\n      <td>-0.013549</td>\n      <td>0.009834</td>\n      <td>0.618619</td>\n      <td>0.785512</td>\n      <td>['ФИЗТЕХ. КВАНТ']</td>\n      <td>[]</td>\n    </tr>\n    <tr>\n      <th>493</th>\n      <td>1678904296724738</td>\n      <td>2023-03-15-13-25-48-night</td>\n      <td>1678904296739853</td>\n      <td>1678904296744134</td>\n      <td>-153.911107</td>\n      <td>-184.344878</td>\n      <td>-1.207735</td>\n      <td>-0.001541</td>\n      <td>0.003475</td>\n      <td>0.649004</td>\n      <td>0.760775</td>\n      <td>['Физтех']</td>\n      <td>[]</td>\n    </tr>\n    <tr>\n      <th>494</th>\n      <td>1678904302373180</td>\n      <td>2023-03-15-13-25-48-night</td>\n      <td>1678904302356838</td>\n      <td>1678904302348016</td>\n      <td>-153.259422</td>\n      <td>-179.365098</td>\n      <td>-1.463031</td>\n      <td>0.003824</td>\n      <td>0.010529</td>\n      <td>0.686563</td>\n      <td>0.726984</td>\n      <td>[]</td>\n      <td>[]</td>\n    </tr>\n    <tr>\n      <th>495</th>\n      <td>1678904307819439</td>\n      <td>2023-03-15-13-25-48-night</td>\n      <td>1678904307857224</td>\n      <td>1678904307818647</td>\n      <td>-152.638029</td>\n      <td>-174.377394</td>\n      <td>-1.199025</td>\n      <td>-0.002852</td>\n      <td>0.004532</td>\n      <td>0.687368</td>\n      <td>0.726289</td>\n      <td>[]</td>\n      <td>[]</td>\n    </tr>\n  </tbody>\n</table>\n<p>496 rows × 13 columns</p>\n</div>"
          },
          "metadata": {}
        }
      ]
    },
    {
      "cell_type": "code",
      "source": [
        "!pip install git+https://github.com/alexmelekhin/open_place_recognition.git@feat/itlp_outdoor"
      ],
      "metadata": {
        "scrolled": true,
        "execution": {
          "iopub.status.busy": "2024-07-03T15:20:14.778376Z",
          "iopub.execute_input": "2024-07-03T15:20:14.778779Z",
          "iopub.status.idle": "2024-07-03T15:20:58.013078Z",
          "shell.execute_reply.started": "2024-07-03T15:20:14.778748Z",
          "shell.execute_reply": "2024-07-03T15:20:58.011968Z"
        },
        "trusted": true,
        "id": "vVYTtGcIIIu9"
      },
      "execution_count": null,
      "outputs": []
    },
    {
      "cell_type": "code",
      "source": [
        "!pip install gdown"
      ],
      "metadata": {
        "execution": {
          "iopub.status.busy": "2024-07-03T15:20:58.015293Z",
          "iopub.execute_input": "2024-07-03T15:20:58.015624Z",
          "iopub.status.idle": "2024-07-03T15:21:12.626350Z",
          "shell.execute_reply.started": "2024-07-03T15:20:58.015595Z",
          "shell.execute_reply": "2024-07-03T15:21:12.625124Z"
        },
        "trusted": true,
        "id": "-GlUpE1lIIu-",
        "outputId": "92411c27-793c-4df8-dbe3-f616a4f9b3ab"
      },
      "execution_count": null,
      "outputs": [
        {
          "name": "stdout",
          "text": "Collecting gdown\n  Downloading gdown-5.2.0-py3-none-any.whl.metadata (5.8 kB)\nRequirement already satisfied: beautifulsoup4 in /opt/conda/lib/python3.10/site-packages (from gdown) (4.12.2)\nRequirement already satisfied: filelock in /opt/conda/lib/python3.10/site-packages (from gdown) (3.13.1)\nRequirement already satisfied: requests[socks] in /opt/conda/lib/python3.10/site-packages (from gdown) (2.32.3)\nRequirement already satisfied: tqdm in /opt/conda/lib/python3.10/site-packages (from gdown) (4.66.4)\nRequirement already satisfied: soupsieve>1.2 in /opt/conda/lib/python3.10/site-packages (from beautifulsoup4->gdown) (2.5)\nRequirement already satisfied: charset-normalizer<4,>=2 in /opt/conda/lib/python3.10/site-packages (from requests[socks]->gdown) (3.3.2)\nRequirement already satisfied: idna<4,>=2.5 in /opt/conda/lib/python3.10/site-packages (from requests[socks]->gdown) (3.6)\nRequirement already satisfied: urllib3<3,>=1.21.1 in /opt/conda/lib/python3.10/site-packages (from requests[socks]->gdown) (1.26.18)\nRequirement already satisfied: certifi>=2017.4.17 in /opt/conda/lib/python3.10/site-packages (from requests[socks]->gdown) (2024.2.2)\nRequirement already satisfied: PySocks!=1.5.7,>=1.5.6 in /opt/conda/lib/python3.10/site-packages (from requests[socks]->gdown) (1.7.1)\nDownloading gdown-5.2.0-py3-none-any.whl (18 kB)\nInstalling collected packages: gdown\nSuccessfully installed gdown-5.2.0\n",
          "output_type": "stream"
        }
      ]
    },
    {
      "cell_type": "code",
      "source": [
        "from torch.utils.data import DataLoader\n",
        "\n",
        "from opr.datasets.itlp_outdoor import ITLPCampusOutdoor\n",
        "from opr.samplers import BatchSampler"
      ],
      "metadata": {
        "execution": {
          "iopub.status.busy": "2024-07-03T15:36:12.891169Z",
          "iopub.execute_input": "2024-07-03T15:36:12.893900Z",
          "iopub.status.idle": "2024-07-03T15:36:12.900286Z",
          "shell.execute_reply.started": "2024-07-03T15:36:12.893867Z",
          "shell.execute_reply": "2024-07-03T15:36:12.899310Z"
        },
        "trusted": true,
        "id": "2gpnbQQvIIu-"
      },
      "execution_count": null,
      "outputs": []
    },
    {
      "cell_type": "code",
      "source": [
        "# семантические маски\n",
        "dd = {\n",
        "  \"stuff_classes\": [\n",
        "    \"Bird\",\n",
        "    \"Ground Animal\",\n",
        "    \"Curb\",\n",
        "    \"Fence\",\n",
        "    \"Guard Rail\",\n",
        "    \"Barrier\",\n",
        "    \"Wall\",\n",
        "    \"Bike Lane\",\n",
        "    \"Crosswalk - Plain\",\n",
        "    \"Curb Cut\",\n",
        "    \"Parking\",\n",
        "    \"Pedestrian Area\",\n",
        "    \"Rail Track\",\n",
        "    \"Road\",\n",
        "    \"Service Lane\",\n",
        "    \"Sidewalk\",\n",
        "    \"Bridge\",\n",
        "    \"Building\",\n",
        "    \"Tunnel\",\n",
        "    \"Person\",\n",
        "    \"Bicyclist\",\n",
        "    \"Motorcyclist\",\n",
        "    \"Other Rider\",\n",
        "    \"Lane Marking - Crosswalk\",\n",
        "    \"Lane Marking - General\",\n",
        "    \"Mountain\",\n",
        "    \"Sand\",\n",
        "    \"Sky\",\n",
        "    \"Snow\",\n",
        "    \"Terrain\",\n",
        "    \"Vegetation\",\n",
        "    \"Water\",\n",
        "    \"Banner\",\n",
        "    \"Bench\",\n",
        "    \"Bike Rack\",\n",
        "    \"Billboard\",\n",
        "    \"Catch Basin\",\n",
        "    \"CCTV Camera\",\n",
        "    \"Fire Hydrant\",\n",
        "    \"Junction Box\",\n",
        "    \"Mailbox\",\n",
        "    \"Manhole\",\n",
        "    \"Phone Booth\",\n",
        "    \"Pothole\",\n",
        "    \"Street Light\",\n",
        "    \"Pole\",\n",
        "    \"Traffic Sign Frame\",\n",
        "    \"Utility Pole\",\n",
        "    \"Traffic Light\",\n",
        "    \"Traffic Sign (Back)\",\n",
        "    \"Traffic Sign (Front)\",\n",
        "    \"Trash Can\",\n",
        "    \"Bicycle\",\n",
        "    \"Boat\",\n",
        "    \"Bus\",\n",
        "    \"Car\",\n",
        "    \"Caravan\",\n",
        "    \"Motorcycle\",\n",
        "    \"On Rails\",\n",
        "    \"Other Vehicle\",\n",
        "    \"Trailer\",\n",
        "    \"Truck\",\n",
        "    \"Wheeled Slow\",\n",
        "    \"Car Mount\",\n",
        "    \"Ego Vehicle\"\n",
        "  ],\n",
        "  \"stuff_colors\": [\n",
        "    [165, 42, 42],\n",
        "    [0, 192, 0],\n",
        "    [196, 196, 196],\n",
        "    [190, 153, 153],\n",
        "    [180, 165, 180],\n",
        "    [90, 120, 150],\n",
        "    [102, 102, 156],\n",
        "    [128, 64, 255],\n",
        "    [140, 140, 200],\n",
        "    [170, 170, 170],\n",
        "    [250, 170, 160],\n",
        "    [96, 96, 96],\n",
        "    [230, 150, 140],\n",
        "    [128, 64, 128],\n",
        "    [110, 110, 110],\n",
        "    [244, 35, 232],\n",
        "    [150, 100, 100],\n",
        "    [70, 70, 70],\n",
        "    [150, 120, 90],\n",
        "    [220, 20, 60],\n",
        "    [255, 0, 0],\n",
        "    [255, 0, 100],\n",
        "    [255, 0, 200],\n",
        "    [200, 128, 128],\n",
        "    [255, 255, 255],\n",
        "    [64, 170, 64],\n",
        "    [230, 160, 50],\n",
        "    [70, 130, 180],\n",
        "    [190, 255, 255],\n",
        "    [152, 251, 152],\n",
        "    [107, 142, 35],\n",
        "    [0, 170, 30],\n",
        "    [255, 255, 128],\n",
        "    [250, 0, 30],\n",
        "    [100, 140, 180],\n",
        "    [220, 220, 220],\n",
        "    [220, 128, 128],\n",
        "    [222, 40, 40],\n",
        "    [100, 170, 30],\n",
        "    [40, 40, 40],\n",
        "    [33, 33, 33],\n",
        "    [100, 128, 160],\n",
        "    [142, 0, 0],\n",
        "    [70, 100, 150],\n",
        "    [210, 170, 100],\n",
        "    [153, 153, 153],\n",
        "    [128, 128, 128],\n",
        "    [0, 0, 80],\n",
        "    [250, 170, 30],\n",
        "    [192, 192, 192],\n",
        "    [220, 220, 0],\n",
        "    [140, 140, 20],\n",
        "    [119, 11, 32],\n",
        "    [150, 0, 255],\n",
        "    [0, 60, 100],\n",
        "    [0, 0, 142],\n",
        "    [0, 0, 90],\n",
        "    [0, 0, 230],\n",
        "    [0, 80, 100],\n",
        "    [128, 64, 64],\n",
        "    [0, 0, 110],\n",
        "    [0, 0, 70],\n",
        "    [0, 0, 192],\n",
        "    [32, 32, 32],\n",
        "    [120, 10, 10]\n",
        "  ]\n",
        "}"
      ],
      "metadata": {
        "execution": {
          "iopub.status.busy": "2024-07-03T15:36:12.904895Z",
          "iopub.execute_input": "2024-07-03T15:36:12.907196Z",
          "iopub.status.idle": "2024-07-03T15:36:12.933499Z",
          "shell.execute_reply.started": "2024-07-03T15:36:12.907165Z",
          "shell.execute_reply": "2024-07-03T15:36:12.932505Z"
        },
        "trusted": true,
        "id": "cqYHyNzlIIu_"
      },
      "execution_count": null,
      "outputs": []
    },
    {
      "cell_type": "code",
      "source": [
        "stuff_classes = dd['stuff_classes']\n",
        "stuff_colors = dd['stuff_colors']"
      ],
      "metadata": {
        "execution": {
          "iopub.status.busy": "2024-07-03T15:36:12.938372Z",
          "iopub.execute_input": "2024-07-03T15:36:12.940887Z",
          "iopub.status.idle": "2024-07-03T15:36:12.947141Z",
          "shell.execute_reply.started": "2024-07-03T15:36:12.940812Z",
          "shell.execute_reply": "2024-07-03T15:36:12.946226Z"
        },
        "trusted": true,
        "id": "fRtbJWSRIIvA"
      },
      "execution_count": null,
      "outputs": []
    },
    {
      "cell_type": "code",
      "source": [
        "# кастомная функция для того, чтобы убрать динамические объекты\n",
        "import numpy as np\n",
        "import cv2\n",
        "from typing import *\n",
        "\n",
        "def remove_dynamic_objects(mask_image: np.ndarray, stuff_classes: List[str], stuff_colors: List[Tuple[int, int, int]]) -> np.ndarray:\n",
        "    dynamic_classes = [\"Person\", \"Bicyclist\", \"Motorcyclist\", \"Other Rider\",\n",
        "        \"Car\", \"Bus\", \"Motorcycle\", \"On Rails\", \"Other Vehicle\",\n",
        "        \"Trailer\", \"Truck\", \"Wheeled Slow\", \"Car Mount\", \"Ego Vehicle\"]\n",
        "\n",
        "    dynamic_mask = np.zeros(mask_image.shape[:2], dtype=np.uint8)\n",
        "    for idx, class_name in enumerate(stuff_classes):\n",
        "        if class_name in dynamic_classes:\n",
        "            color = stuff_colors[idx]\n",
        "            class_mask = cv2.inRange(mask_image, np.array(color), np.array(color))\n",
        "            dynamic_mask = cv2.bitwise_or(dynamic_mask, class_mask)\n",
        "    static_mask = cv2.bitwise_not(dynamic_mask)\n",
        "    result_mask = cv2.bitwise_and(mask_image, mask_image, mask=static_mask)\n",
        "    return result_mask\n",
        "    return result_mask"
      ],
      "metadata": {
        "execution": {
          "iopub.status.busy": "2024-07-03T15:36:12.951808Z",
          "iopub.execute_input": "2024-07-03T15:36:12.954343Z",
          "iopub.status.idle": "2024-07-03T15:36:12.965723Z",
          "shell.execute_reply.started": "2024-07-03T15:36:12.954293Z",
          "shell.execute_reply": "2024-07-03T15:36:12.964710Z"
        },
        "trusted": true,
        "id": "7CZhoGisIIvB"
      },
      "execution_count": null,
      "outputs": []
    },
    {
      "cell_type": "code",
      "source": [
        "from transformers import AutoTokenizer, AutoModel\n",
        "import torch.nn.functional as F"
      ],
      "metadata": {
        "execution": {
          "iopub.status.busy": "2024-07-03T15:36:12.967084Z",
          "iopub.execute_input": "2024-07-03T15:36:12.967614Z",
          "iopub.status.idle": "2024-07-03T15:36:12.975110Z",
          "shell.execute_reply.started": "2024-07-03T15:36:12.967585Z",
          "shell.execute_reply": "2024-07-03T15:36:12.974080Z"
        },
        "trusted": true,
        "id": "jf4b3hZTIIvB"
      },
      "execution_count": null,
      "outputs": []
    },
    {
      "cell_type": "code",
      "source": [
        "class E5Embedder:\n",
        "    def __init__(self):\n",
        "        self.tokenizer = AutoTokenizer.from_pretrained('intfloat/multilingual-e5-small')\n",
        "        self.model = AutoModel.from_pretrained('intfloat/multilingual-e5-small')\n",
        "\n",
        "    def average_pool(self, last_hidden_states: Tensor, attention_mask: Tensor) -> Tensor:\n",
        "        last_hidden = last_hidden_states.masked_fill(~attention_mask[..., None].bool(), 0.0)\n",
        "        return last_hidden.sum(dim=1) / attention_mask.sum(dim=1)[..., None]\n",
        "\n",
        "    def forward(self, text):\n",
        "        tokenized = self.tokenizer(text, max_length=512, padding=True, truncation=True, return_tensors='pt')\n",
        "        outputs = self.model(**tokenized)\n",
        "        embeddings = self.average_pool(outputs.last_hidden_state, tokenized['attention_mask'])\n",
        "        return embeddings"
      ],
      "metadata": {
        "execution": {
          "iopub.status.busy": "2024-07-03T15:36:12.979215Z",
          "iopub.execute_input": "2024-07-03T15:36:12.979607Z",
          "iopub.status.idle": "2024-07-03T15:36:12.988375Z",
          "shell.execute_reply.started": "2024-07-03T15:36:12.979580Z",
          "shell.execute_reply": "2024-07-03T15:36:12.987381Z"
        },
        "trusted": true,
        "id": "Iob3up2vIIvC"
      },
      "execution_count": null,
      "outputs": []
    },
    {
      "cell_type": "code",
      "source": [
        "\"\"\"Custom ITLP-Campus dataset implementations.\"\"\"\n",
        "import math\n",
        "from pathlib import Path\n",
        "from typing import Dict, List, Literal, Optional, Tuple, Union\n",
        "\n",
        "import cv2\n",
        "import gdown\n",
        "import numpy as np\n",
        "import pandas as pd\n",
        "import torch\n",
        "from loguru import logger\n",
        "from omegaconf import OmegaConf\n",
        "from pandas import DataFrame\n",
        "from torch import Tensor\n",
        "from torch.utils.data import Dataset\n",
        "\n",
        "from opr.datasets.augmentations import (\n",
        "    DefaultCloudSetTransform,\n",
        "    DefaultCloudTransform,\n",
        "    DefaultImageTransform,\n",
        "    DefaultSemanticTransform,\n",
        ")\n",
        "\n",
        "\n",
        "class ITLPCampusOutdoor(Dataset):\n",
        "    dataset_root: Path\n",
        "    dataset_df: DataFrame\n",
        "    front_cam_text_labels_df: Optional[DataFrame]\n",
        "    back_cam_text_labels_df: Optional[DataFrame]\n",
        "    sensors: Tuple[str, ...]\n",
        "    images_subdir: str = \"\"\n",
        "    clouds_subdir: str = \"lidar\"\n",
        "    semantic_subdir: str = \"masks\"\n",
        "    image_transform: DefaultImageTransform\n",
        "    pointcloud_transform: DefaultCloudTransform\n",
        "    cloud_set_transform: DefaultCloudSetTransform\n",
        "    _pointcloud_quantization_size: Optional[float]\n",
        "    load_semantics: bool\n",
        "    load_text_labels: bool\n",
        "    cam_config: dict\n",
        "    sensors_cfg: OmegaConf\n",
        "    top_k_soc: int\n",
        "    soc_coords_type: Literal[\"cylindrical_3d\", \"cylindrical_2d\", \"euclidean\", \"spherical\"] = \"cylindrical_3d\"\n",
        "    max_distance_soc: float\n",
        "    anno: OmegaConf\n",
        "    subset: Literal[\"train\", \"val\", \"test\"]\n",
        "    vis_dir: str = \"./vis/\"\n",
        "    train_split: list = None\n",
        "    test_split: list = None\n",
        "\n",
        "    def __init__(\n",
        "        self,\n",
        "        dataset_root: Union[str, Path],\n",
        "        subset: Literal[\"train\", \"val\", \"test\"],\n",
        "        sensors: Union[str, Tuple[str, ...]] = (\"front_cam\", \"back_cam\"),\n",
        "        mink_quantization_size: Optional[float] = 0.5,\n",
        "        max_point_distance: Optional[float] = None,\n",
        "        load_semantics: bool = False,\n",
        "        load_text_labels: bool = False,\n",
        "        positive_threshold: float = 10.0,\n",
        "        negative_threshold: float = 50.0,\n",
        "        image_transform = DefaultImageTransform(resize=(320, 192), train=False),\n",
        "        semantic_transform = DefaultSemanticTransform(resize=(320, 192), train=False),\n",
        "    ) -> None:\n",
        "\n",
        "        super().__init__()\n",
        "        self.dataset_root = Path(dataset_root)\n",
        "        if not self.dataset_root.exists():\n",
        "            raise FileNotFoundError(f\"Given dataset_root={self.dataset_root} doesn't exist\")\n",
        "\n",
        "        self.subset = subset\n",
        "        if self.subset not in (\"train\", \"val\", \"test\", \"test_with_rec_text\"):\n",
        "            raise ValueError(f\"Unknown subset: {subset!r}\")\n",
        "\n",
        "        subset_csv = self.dataset_root / f\"{self.subset}.csv\"\n",
        "        self.dataset_df = pd.read_csv(subset_csv)\n",
        "\n",
        "        if self.subset == \"test\":\n",
        "            self.dataset_df[\"in_query\"] = True\n",
        "\n",
        "        if isinstance(sensors, str):\n",
        "            sensors = tuple(sensors)\n",
        "        self.sensors = sensors\n",
        "\n",
        "        self.load_text_labels = load_text_labels\n",
        "\n",
        "        self._pointcloud_quantization_size = mink_quantization_size\n",
        "        self._max_point_distance = max_point_distance\n",
        "        self.load_semantics = load_semantics\n",
        "\n",
        "        self.embedder = E5Embedder()\n",
        "\n",
        "        if positive_threshold < 0.0:\n",
        "            raise ValueError(f\"positive_threshold must be non-negative, but {positive_threshold!r} given.\")\n",
        "        if negative_threshold < 0.0:\n",
        "            raise ValueError(f\"negative_threshold must be non-negative, but {negative_threshold!r} given.\")\n",
        "\n",
        "        self._positives_index, self._nonnegative_index = self._build_indexes(\n",
        "            positive_threshold, negative_threshold\n",
        "        )\n",
        "        self._positives_mask, self._negatives_mask = self._build_masks(positive_threshold, negative_threshold)\n",
        "\n",
        "        self.image_transform = image_transform\n",
        "        self.semantic_transform = semantic_transform\n",
        "        self.pointcloud_transform = DefaultCloudTransform(train=False)\n",
        "        self.pointcloud_set_transform = DefaultCloudSetTransform(train=False)\n",
        "\n",
        "    def _load_image(self, cam: str, idx: int, track: str, floor: str, transform: bool = True) -> Tensor:\n",
        "        image_ts = int(self.dataset_df[f\"{cam}_ts\"].iloc[idx])\n",
        "        im_filepath = self.dataset_root / track / floor / self.images_subdir / cam / f\"{image_ts}.png\"\n",
        "        im = cv2.imread(str(im_filepath))\n",
        "        im = cv2.cvtColor(im, cv2.COLOR_BGR2RGB)\n",
        "        if transform:\n",
        "            im = self.image_transform(im)\n",
        "        return im\n",
        "\n",
        "    def _load_semantic_mask(\n",
        "        self, cam: str, idx: int, track: str, floor: str, transform: bool = True\n",
        "    ) -> np.ndarray:\n",
        "        mask_ts = int(self.dataset_df[f\"{cam}_ts\"].iloc[idx])\n",
        "        im_filepath = self.dataset_root / track / floor / self.semantic_subdir / cam / f\"{mask_ts}.png\"\n",
        "        im = cv2.imread(str(im_filepath))\n",
        "        if transform:\n",
        "            im = self.semantic_transform(im)\n",
        "        return im\n",
        "\n",
        "    def __getitem__(self, idx: int) -> Dict[str, Union[int, Tensor]]:  # noqa: D105\n",
        "        data: Dict[str, Union[int, Tensor]] = {\"idx\": torch.tensor(idx)}\n",
        "        data[\"pose\"] = torch.tensor(\n",
        "            self.dataset_df.iloc[idx][[\"tx\", \"ty\", \"tz\", \"qx\", \"qy\", \"qz\", \"qw\"]].to_numpy(dtype=np.float32)\n",
        "        )\n",
        "        floor = self._get_floor_subdir(idx)\n",
        "        track = self._get_track_subdir(idx)\n",
        "\n",
        "        if \"front_cam\" in self.sensors:\n",
        "            im = self._load_image(\"front_cam\", idx, track, floor)\n",
        "            data[\"image_front_cam\"] = im\n",
        "            if self.load_semantics:\n",
        "                im = self._load_semantic_mask(\"front_cam\", idx, track, floor)\n",
        "                data[\"mask_front_cam\"] = im\n",
        "            if self.load_text_labels:\n",
        "                data[\"text_front_cam\"] = self.embedder.forward(self.dataset_df[\"front_cam_text\"].iloc[idx])\n",
        "\n",
        "        if \"back_cam\" in self.sensors:\n",
        "            im = self._load_image(\"back_cam\", idx, track, floor)\n",
        "            data[\"image_back_cam\"] = im\n",
        "            if self.load_semantics:\n",
        "                im = self._load_semantic_mask(\"back_cam\", idx, track, floor)\n",
        "            if self.load_text_labels:\n",
        "                data[\"text_back_cam\"] = self.embedder.forward(self.dataset_df[\"back_cam_text\"].iloc[idx])\n",
        "\n",
        "        if \"lidar\" in self.sensors:\n",
        "            pc = self._load_pc(idx, track, floor)\n",
        "\n",
        "            pc = torch.tensor(pc, dtype=torch.float32)\n",
        "            data[\"pointcloud_lidar_coords\"] = pc\n",
        "            data[\"pointcloud_lidar_feats\"] = torch.ones_like(pc[:, :1])\n",
        "\n",
        "        return data\n",
        "\n",
        "    def __len__(self) -> int:  # noqa: D105\n",
        "        return len(self.dataset_df)\n",
        "\n",
        "    def _get_floor_subdir(self, idx: int) -> str:\n",
        "        if \"floor\" in self.dataset_df.columns:\n",
        "            return f\"floor_{self.dataset_df['floor'].iloc[idx]}\"\n",
        "        else:\n",
        "            return \"\"\n",
        "\n",
        "    def _get_track_subdir(self, idx: int) -> str:\n",
        "        if \"track\" in self.dataset_df.columns:\n",
        "            return self.dataset_df[\"track\"].iloc[idx]\n",
        "        else:\n",
        "            return \"\"\n",
        "\n",
        "    def _load_pc(self, idx: int, track: str, floor: str, tensor: bool = True) -> Tensor:\n",
        "        lidar_ts = int(self.dataset_df[\"lidar_ts\"].iloc[idx])\n",
        "        filepath = self.dataset_root / track / floor / self.clouds_subdir / f\"{lidar_ts}.bin\"\n",
        "        pc = np.fromfile(filepath, dtype=np.float32).reshape((-1, 4))[:, :-1]\n",
        "        in_range_idx = np.all(\n",
        "            np.logical_and(-100 <= pc, pc <= 100),\n",
        "            axis=1,\n",
        "        )\n",
        "        pc = pc[in_range_idx]\n",
        "        if self._max_point_distance is not None:\n",
        "            pc = pc[np.linalg.norm(pc, axis=1) < self._max_point_distance]\n",
        "        if tensor:\n",
        "            pc = torch.tensor(pc, dtype=torch.float32)\n",
        "        return pc\n",
        "\n",
        "    def _collate_data_dict(self, data_list: List[Dict[str, Tensor]]) -> Dict[str, Tensor]:\n",
        "        result: Dict[str, Tensor] = {}\n",
        "        result[\"idxs\"] = torch.stack([e[\"idx\"] for e in data_list], dim=0)\n",
        "        for data_key in data_list[0].keys():\n",
        "            if data_key == \"idx\":\n",
        "                continue\n",
        "            elif data_key == \"text_front_cam\":\n",
        "                result[\"text_front_cam\"] = torch.stack([e[\"text_front_cam\"] for e in data_list], dim=0)\n",
        "            elif data_key == \"text_back_cam\":\n",
        "                result[\"text_back_cam\"] = torch.stack([e[\"text_back_cam\"] for e in data_list], dim=0)\n",
        "            elif data_key == \"pose\":\n",
        "                result[\"poses\"] = torch.stack([e[\"pose\"] for e in data_list], dim=0)\n",
        "            elif data_key.startswith(\"image_\"):\n",
        "                result[f\"images_{data_key[6:]}\"] = torch.stack([e[data_key] for e in data_list])\n",
        "            elif data_key.startswith(\"mask_\"):\n",
        "                result[f\"masks_{data_key[5:]}\"] = torch.stack([e[data_key] for e in data_list])\n",
        "            elif data_key == \"pointcloud_lidar_coords\":\n",
        "                if not minkowski_available:\n",
        "                    raise RuntimeError(\"MinkowskiEngine is not installed. Cannot process point clouds.\")\n",
        "                coords_list = [e[\"pointcloud_lidar_coords\"] for e in data_list]\n",
        "                feats_list = [e[\"pointcloud_lidar_feats\"] for e in data_list]\n",
        "                n_points = [int(e.shape[0]) for e in coords_list]\n",
        "                coords_tensor = torch.cat(coords_list, dim=0).unsqueeze(0)  # (1,batch_size*n_points,3)\n",
        "                if self.pointcloud_set_transform is not None:\n",
        "                    coords_tensor = self.pointcloud_set_transform(coords_tensor)\n",
        "                coords_list = torch.split(\n",
        "                    coords_tensor.squeeze(0),\n",
        "                    split_size_or_sections=n_points,\n",
        "                    dim=0,\n",
        "                )\n",
        "                quantized_coords_list = []\n",
        "                quantized_feats_list = []\n",
        "                for coords, feats in zip(coords_list, feats_list):\n",
        "                    (\n",
        "                        quantized_coords,\n",
        "                        quantized_feats,\n",
        "                    ) = ME.utils.sparse_quantize(\n",
        "                        coordinates=coords,\n",
        "                        features=feats,\n",
        "                        quantization_size=self._pointcloud_quantization_size,\n",
        "                    )\n",
        "                    quantized_coords_list.append(quantized_coords)\n",
        "                    quantized_feats_list.append(quantized_feats)\n",
        "\n",
        "                result[\"pointclouds_lidar_coords\"] = ME.utils.batched_coordinates(quantized_coords_list)\n",
        "                result[\"pointclouds_lidar_feats\"] = torch.cat(quantized_feats_list)\n",
        "            elif data_key == \"pointcloud_lidar_feats\":\n",
        "                continue\n",
        "            else:\n",
        "                raise ValueError(f\"Unknown data key: {data_key!r}\")\n",
        "        return result\n",
        "\n",
        "    def collate_fn(self, data_list: List[Dict[str, Tensor]]) -> Dict[str, Tensor]:\n",
        "        return self._collate_data_dict(data_list)\n",
        "\n",
        "\n",
        "    def _build_masks(self, positive_threshold: float, negative_threshold: float) -> Tuple[Tensor, Tensor]:\n",
        "        xyz = torch.tensor(\n",
        "            self.dataset_df[[\"tx\", \"ty\", \"tz\"]].to_numpy(dtype=np.float32),\n",
        "            dtype=torch.float32,\n",
        "        )\n",
        "        distances = torch.cdist(xyz, xyz)\n",
        "\n",
        "        positives_mask = (distances > 0) & (distances < positive_threshold)\n",
        "        negatives_mask = distances > negative_threshold\n",
        "\n",
        "        return positives_mask, negatives_mask\n",
        "\n",
        "    def _build_indexes(\n",
        "        self, positive_threshold: float, negative_threshold: float\n",
        "    ) -> Tuple[List[Tensor], List[Tensor]]:\n",
        "        xyz = torch.tensor(\n",
        "            self.dataset_df[[\"tx\", \"ty\", \"tz\"]].to_numpy(dtype=np.float32),\n",
        "            dtype=torch.float32,\n",
        "        )\n",
        "        distances = torch.cdist(xyz, xyz)\n",
        "\n",
        "        positives_mask = (distances > 0) & (distances < positive_threshold)\n",
        "        nonnegatives_mask = distances < negative_threshold\n",
        "\n",
        "        positive_indices = [torch.nonzero(row).squeeze(dim=-1) for row in positives_mask]\n",
        "        nonnegative_indices = [torch.nonzero(row).squeeze(dim=-1) for row in nonnegatives_mask]\n",
        "\n",
        "        return positive_indices, nonnegative_indices\n",
        "\n",
        "    @property\n",
        "    def positives_index(self) -> List[Tensor]:\n",
        "        return self._positives_index\n",
        "\n",
        "    @property\n",
        "    def nonnegative_index(self) -> List[Tensor]:\n",
        "        return self._nonnegative_index\n",
        "\n",
        "    @property\n",
        "    def positives_mask(self) -> Tensor:\n",
        "        return self._positives_mask\n",
        "\n",
        "    @property\n",
        "    def negatives_mask(self) -> Tensor:\n",
        "        return self._negatives_mask"
      ],
      "metadata": {
        "execution": {
          "iopub.status.busy": "2024-07-03T15:36:12.989883Z",
          "iopub.execute_input": "2024-07-03T15:36:12.990501Z",
          "iopub.status.idle": "2024-07-03T15:36:13.050446Z",
          "shell.execute_reply.started": "2024-07-03T15:36:12.990462Z",
          "shell.execute_reply": "2024-07-03T15:36:13.049398Z"
        },
        "trusted": true,
        "id": "5QKHjEH8IIvC"
      },
      "execution_count": null,
      "outputs": []
    },
    {
      "cell_type": "code",
      "source": [
        "train_dataset = ITLPCampusOutdoor(\n",
        "    DATA_ROOT,\n",
        "    subset='train',\n",
        "    sensors=('front_cam', 'back_cam'),\n",
        "    load_semantics=False,\n",
        "    load_text_labels=True,\n",
        "    mink_quantization_size=0.06,\n",
        ")\n",
        "\n",
        "val_dataset = ITLPCampusOutdoor(\n",
        "    DATA_ROOT,\n",
        "    subset='val',\n",
        "    sensors=('front_cam', 'back_cam'),\n",
        "    load_semantics=False,\n",
        "    load_text_labels=True,\n",
        "    mink_quantization_size=0.06,\n",
        ")\n",
        "\n",
        "test_dataset = ITLPCampusOutdoor(\n",
        "    DATA_ROOT,\n",
        "    subset='test_with_rec_text',\n",
        "    sensors=('front_cam', 'back_cam'),\n",
        "    load_semantics=False,\n",
        "    load_text_labels=True,\n",
        "    mink_quantization_size=0.06,\n",
        ")"
      ],
      "metadata": {
        "execution": {
          "iopub.status.busy": "2024-07-03T15:36:13.052271Z",
          "iopub.execute_input": "2024-07-03T15:36:13.052697Z",
          "iopub.status.idle": "2024-07-03T15:36:19.271268Z",
          "shell.execute_reply.started": "2024-07-03T15:36:13.052661Z",
          "shell.execute_reply": "2024-07-03T15:36:19.270226Z"
        },
        "trusted": true,
        "id": "ZYFvMF_QIIvF"
      },
      "execution_count": null,
      "outputs": []
    },
    {
      "cell_type": "code",
      "source": [
        "test_dataset[600]"
      ],
      "metadata": {
        "execution": {
          "iopub.status.busy": "2024-07-03T15:36:19.272679Z",
          "iopub.execute_input": "2024-07-03T15:36:19.273596Z",
          "iopub.status.idle": "2024-07-03T15:36:19.406275Z",
          "shell.execute_reply.started": "2024-07-03T15:36:19.273567Z",
          "shell.execute_reply": "2024-07-03T15:36:19.405091Z"
        },
        "trusted": true,
        "id": "dP1AWkgoIIvH",
        "outputId": "a6bf392f-5799-4ca9-f478-9b6de8899a29"
      },
      "execution_count": null,
      "outputs": [
        {
          "execution_count": 44,
          "output_type": "execute_result",
          "data": {
            "text/plain": "{'idx': tensor(600),\n 'pose': tensor([-2.2312e+02,  5.5457e+00, -2.3279e+00,  7.6497e-03,  3.0006e-02,\n          3.3897e-01,  9.4029e-01]),\n 'image_front_cam': tensor([[[ 1.0844,  1.0844,  1.0673,  ...,  1.1529,  1.1358,  1.1358],\n          [ 1.0844,  1.0844,  1.0673,  ...,  1.1529,  1.1358,  1.1358],\n          [ 1.0844,  1.0844,  1.0844,  ...,  1.1529,  1.1358,  1.1358],\n          ...,\n          [-1.3473, -1.3644, -1.3130,  ..., -1.0562, -1.0904, -0.9705],\n          [-1.3644, -1.3815, -1.3815,  ..., -1.0733, -1.0219, -1.0562],\n          [-1.3644, -1.3815, -1.3644,  ..., -1.0048, -1.0048, -0.9705]],\n \n         [[ 1.8158,  1.8158,  1.7983,  ...,  1.8508,  1.8333,  1.8333],\n          [ 1.8158,  1.8158,  1.7983,  ...,  1.8508,  1.8333,  1.8333],\n          [ 1.8158,  1.8158,  1.8158,  ...,  1.8508,  1.8333,  1.8333],\n          ...,\n          [-1.1604, -1.1779, -1.1253,  ..., -0.8452, -0.8978, -0.7752],\n          [-1.1779, -1.1954, -1.1954,  ..., -0.8803, -0.8277, -0.8627],\n          [-1.1779, -1.1954, -1.1779,  ..., -0.8102, -0.8102, -0.7752]],\n \n         [[ 2.6051,  2.6051,  2.5877,  ...,  2.5703,  2.5529,  2.5529],\n          [ 2.6051,  2.6051,  2.5877,  ...,  2.5703,  2.5529,  2.5529],\n          [ 2.6051,  2.6051,  2.6051,  ...,  2.5703,  2.5529,  2.5529],\n          ...,\n          [-0.8633, -0.8807, -0.8284,  ..., -0.5147, -0.5670, -0.4450],\n          [-0.8807, -0.8981, -0.8981,  ..., -0.5495, -0.4973, -0.5321],\n          [-0.8807, -0.8981, -0.8807,  ..., -0.4798, -0.4798, -0.4450]]]),\n 'text_front_cam': tensor([[ 0.1494, -0.0085, -0.1771, -0.5213,  0.4211, -0.0120, -0.0325,  0.1309,\n           0.4322,  0.1151,  0.3700, -0.0126,  0.2740, -0.2194, -0.1466,  0.1061,\n           0.3116, -0.2171, -0.1378, -0.1360,  0.2029, -0.1187, -0.3346,  0.0911,\n           0.2713,  0.2180, -0.0805,  0.0841,  0.1036, -0.3199, -0.1634, -0.2540,\n           0.2436, -0.2062,  0.1648,  0.3289, -0.3387, -0.2726,  0.1301, -0.2671,\n          -0.1808, -0.0305,  0.3420,  0.3725,  0.1531,  0.2068, -0.2654,  0.1390,\n          -0.1234, -0.0389, -0.2722,  0.2166,  0.0043,  0.1328,  0.1216, -0.2372,\n          -0.1333, -0.3910, -0.2787,  0.4559,  0.3463, -0.2517,  0.0014,  0.2545,\n           0.4478,  0.0663,  0.2637,  0.2094, -0.1816, -0.2151, -0.3056,  0.3154,\n          -0.0214, -0.3873,  0.0487,  0.1111,  0.2433, -0.1744,  0.1802, -0.2708,\n          -0.3690, -0.2458, -0.0822,  0.2085, -0.1795,  0.3267,  0.2967, -0.2241,\n           0.3369, -0.1766,  0.1956,  0.2690, -0.4816, -0.1457, -0.5250, -0.2681,\n          -0.2425,  0.2512,  0.2959, -0.1626,  0.1842, -0.2008,  0.0580, -0.2755,\n          -0.1770,  0.2095,  0.2343, -0.3453,  0.1042, -0.3010,  0.0549,  0.2065,\n           0.3763,  0.3000, -0.3114, -0.1452,  0.2473, -0.3285,  0.2231, -0.3541,\n           0.2884, -0.1826, -0.3247, -0.2347, -0.2246, -0.2660,  0.0505,  0.2254,\n           0.1741,  0.1911,  0.2787,  0.3887,  0.1341,  0.2466,  0.0151,  0.4131,\n          -0.2990,  0.1862, -0.2321, -0.1734, -0.1830,  0.3930, -0.1289,  0.1215,\n           0.1167,  0.2186,  0.3615,  0.0163,  0.4203, -0.3070,  0.2663, -0.2777,\n           0.3376,  0.2258,  0.3471, -0.3412, -0.3489, -0.3524,  0.0829,  0.2459,\n          -0.2368, -0.2827, -0.4772, -0.2378, -0.1354, -0.4548, -0.1520,  0.2685,\n          -0.1491, -0.2891, -0.0984,  0.0942, -0.2039, -0.0240,  0.0970,  0.0302,\n          -0.1610,  0.1158,  0.2834,  0.1181, -0.0132, -0.0634, -0.3712, -0.2931,\n          -0.3290, -0.2152, -0.2431,  0.1779,  0.0405,  0.0727,  0.1322,  0.1945,\n          -0.2766, -0.4660, -0.2748,  0.0654, -0.3451,  0.3207,  0.2253,  0.1041,\n          -0.1788, -0.1756,  0.1917,  0.1398,  0.2391,  0.1160, -0.2544,  0.1685,\n          -0.2007,  0.0558,  0.2618, -0.3946, -0.1739,  0.3396, -0.0459, -0.1356,\n          -0.0338,  0.1935, -0.0024,  0.1995,  0.1909, -0.0357,  0.2011, -0.3605,\n          -0.1533,  0.3348,  0.3506, -0.3975, -0.1566,  0.3253, -0.0335, -0.2237,\n          -0.0889, -0.2077, -0.2605, -0.3674, -0.0068,  0.2029,  0.1110, -0.3196,\n          -0.1663, -0.2156,  0.0633, -0.1444,  0.2827, -0.1743, -0.0437,  0.2223,\n          -0.1759,  0.1346,  0.2315, -0.1830, -0.1744, -0.2904, -0.1282,  0.1405,\n           0.2788,  0.1884, -0.3357,  0.2194,  0.0525, -0.1658,  0.5714,  0.2122,\n           0.3579,  0.1247, -0.1959, -0.0647, -0.3002, -0.2783, -0.2614,  0.3058,\n           0.1954, -0.2605, -0.0933, -0.3419,  0.1800,  0.6162, -0.2538, -0.1845,\n           0.3259,  0.0947,  0.4180,  0.2582,  0.2536, -0.2022, -0.0511,  0.2583,\n          -0.1930, -0.2549, -0.1844, -0.1470,  0.1759, -0.2752,  0.2985,  0.1029,\n           0.0974,  0.2232, -0.2405,  0.2101, -0.2023, -0.2580,  0.2079,  0.1803,\n          -0.2805,  0.0811,  0.1943,  0.1517,  0.2036,  0.0764,  0.1674,  0.3022,\n          -0.3807, -0.2064,  0.2354,  0.3585,  0.0305,  0.1449, -0.3575, -0.2159,\n          -0.2383, -0.1236, -0.1715, -0.4718,  0.3180,  0.0671, -0.2106,  0.0625,\n           0.1647, -0.0601,  0.0817, -0.3517, -0.1813,  0.0334, -0.2153, -0.1907,\n          -0.1305,  0.3855, -0.2676, -0.3707,  0.0491,  0.3567, -0.3151,  0.2034,\n          -0.2409, -0.2521,  0.3275, -0.0399, -0.2017,  0.1989,  0.2982, -0.4317,\n           0.1171,  0.3009, -0.0893,  0.1391, -0.3956, -0.0912,  0.2221,  0.3326,\n          -0.2032, -0.1103,  0.1055,  0.1912,  0.0191,  0.2929,  0.0165,  0.0066,\n           0.1685, -0.1950,  0.4972,  0.3137, -0.1626,  0.1635, -0.0528, -0.3897,\n          -0.3334,  0.2326, -0.2973, -0.2564,  0.3057,  0.1264,  0.2028,  0.1862]],\n        grad_fn=<DivBackward0>),\n 'image_back_cam': tensor([[[-1.8610, -1.8439, -1.8268,  ...,  1.1700,  1.1872,  1.2043],\n          [-1.6727, -1.7240, -1.8097,  ...,  1.1529,  1.1700,  1.2385],\n          [-1.6898, -1.7754, -1.8953,  ...,  1.1358,  1.1529,  1.2043],\n          ...,\n          [-1.0904, -1.3302, -1.6213,  ..., -0.6965, -0.7308, -0.7137],\n          [-1.1418, -1.3644, -1.5357,  ..., -0.6965, -0.6965, -0.7137],\n          [-1.1075, -1.4158, -1.4843,  ..., -0.7137, -0.7137, -0.7308]],\n \n         [[-1.8256, -1.7031, -1.6331,  ...,  1.5707,  1.5532,  1.5357],\n          [-1.6331, -1.5805, -1.6155,  ...,  1.5532,  1.5357,  1.5707],\n          [-1.6506, -1.6331, -1.7031,  ...,  1.5357,  1.5182,  1.5357],\n          ...,\n          [-1.0028, -1.1253, -1.3004,  ..., -0.5301, -0.5651, -0.5476],\n          [-1.0203, -1.1604, -1.2654,  ..., -0.5301, -0.5301, -0.5476],\n          [-0.9853, -1.2304, -1.2479,  ..., -0.5476, -0.5476, -0.5651]],\n \n         [[-1.3861, -1.3339, -1.3164,  ...,  2.6051,  2.6051,  2.6051],\n          [-1.1421, -1.1421, -1.2119,  ...,  2.5877,  2.5877,  2.6226],\n          [-1.1247, -1.1770, -1.2990,  ...,  2.5703,  2.5703,  2.5877],\n          ...,\n          [-0.4101, -0.5495, -0.6367,  ...,  0.0256, -0.0092,  0.0082],\n          [-0.4450, -0.5670, -0.5844,  ...,  0.0256,  0.0256,  0.0082],\n          [-0.4101, -0.6367, -0.5495,  ...,  0.0082,  0.0082, -0.0092]]]),\n 'text_back_cam': tensor([[ 3.0309e-01, -4.5260e-02, -1.7883e-01, -4.4682e-01,  3.6245e-01,\n          -1.4150e-01,  1.2442e-01,  2.3768e-01,  2.6231e-01,  5.4371e-02,\n           2.7937e-01,  2.3813e-02,  2.8877e-01, -4.9143e-03, -1.0536e-01,\n           5.7320e-02,  2.8474e-01, -2.8669e-01, -2.4964e-01, -2.0491e-01,\n           1.1421e-01, -1.1656e-01, -2.3816e-01,  9.5574e-02,  2.7702e-01,\n           2.3448e-01, -7.6996e-02,  1.7962e-01,  3.1508e-01, -3.7120e-01,\n          -1.8533e-01, -1.4622e-01,  2.2557e-01, -1.8382e-01,  2.8006e-01,\n           4.6272e-01, -3.5523e-01, -2.3616e-01,  5.6273e-02, -1.2706e-01,\n          -2.0169e-01,  9.0906e-02,  2.4091e-01,  2.7829e-01,  3.5512e-01,\n           3.9872e-01, -2.2330e-01,  2.3588e-01, -6.0450e-03, -1.5039e-01,\n          -1.5451e-02,  2.5693e-01,  9.8371e-02,  5.6482e-02,  1.5342e-01,\n          -1.6530e-01, -1.1906e-01, -2.8185e-01, -3.4579e-01,  3.4221e-01,\n           2.0508e-01, -7.2328e-02,  6.9639e-02,  9.6999e-02,  4.7563e-01,\n           2.1812e-01,  5.6174e-02,  2.3591e-01, -1.9923e-01, -3.6960e-02,\n          -2.8502e-01,  1.3484e-01, -1.1144e-01, -1.9923e-01,  8.4265e-02,\n           1.1669e-01,  2.4099e-01, -2.2486e-01,  3.9765e-02, -2.5609e-01,\n          -2.9335e-01, -2.5472e-01, -2.0240e-01,  5.7718e-02, -2.0319e-01,\n           2.6419e-01,  1.6296e-01, -2.0346e-01,  2.5992e-01, -3.3581e-01,\n           1.3017e-01,  1.5645e-01, -1.9043e-01, -2.4993e-01, -2.9680e-01,\n          -2.5083e-01, -1.9275e-01,  2.5613e-01,  2.3645e-01, -1.7864e-01,\n           2.8558e-01, -2.7392e-01,  2.1397e-01, -1.9761e-01, -2.7172e-01,\n           2.9364e-01,  1.3922e-01, -3.5729e-01,  2.7028e-01, -3.8165e-01,\n          -1.1468e-01,  1.9957e-01,  8.0989e-02,  2.9049e-01, -3.5214e-01,\n          -9.0120e-02,  1.0549e-01, -1.3768e-01,  2.0550e-01, -3.2125e-01,\n           2.5137e-01, -1.0264e-01, -3.1101e-01, -9.5441e-02, -2.3950e-01,\n          -6.7742e-02,  1.3107e-01,  2.4285e-01,  2.1943e-01,  6.5224e-02,\n           1.7513e-01,  3.3461e-01,  1.7116e-01,  3.3733e-01,  1.1337e-01,\n           4.1744e-01, -1.2738e-01,  1.5378e-01, -6.2967e-02, -1.2993e-01,\n          -1.9841e-01,  1.8320e-01, -7.5740e-02, -1.2595e-02,  8.9329e-02,\n           2.1644e-01,  3.8573e-01, -8.2673e-02,  4.1942e-01, -4.1400e-01,\n           1.3323e-01, -2.7230e-01,  3.7647e-01,  1.9536e-01,  2.7005e-01,\n          -2.4365e-01, -2.8171e-01, -1.9596e-01,  8.1330e-02,  2.6980e-01,\n          -3.3405e-01, -2.8714e-01, -3.0238e-01, -2.0228e-01, -1.9301e-01,\n          -3.7419e-01,  6.3823e-02,  5.0600e-01, -1.0998e-01, -2.8132e-01,\n           4.2637e-02,  4.0263e-01, -2.0929e-01,  1.1808e-01, -4.3401e-02,\n           6.1443e-02, -3.1609e-01,  1.4425e-01,  3.4915e-01,  2.5294e-01,\n          -2.5682e-01, -8.8022e-02, -1.5341e-01, -3.2142e-01, -1.2353e-01,\n          -1.6377e-01, -2.1168e-01,  5.3947e-03,  4.4168e-02, -1.0034e-01,\n          -2.4663e-01,  1.8692e-01, -2.5809e-01, -3.1364e-01, -1.5760e-01,\n           1.6537e-01, -4.5192e-01,  2.3987e-01,  2.5422e-01,  1.6914e-01,\n          -7.6727e-02, -1.7042e-01,  1.5318e-01,  2.4312e-01,  2.9300e-01,\n          -8.7704e-03, -5.0596e-01,  7.5910e-02, -2.3079e-01,  2.3606e-01,\n           2.8142e-01, -2.3859e-01, -2.4008e-01,  1.4854e-01, -3.3015e-01,\n          -3.0123e-02,  6.9084e-02,  2.8517e-01, -3.3147e-01,  1.3992e-01,\n           2.3348e-01,  2.0934e-02,  2.1342e-01, -3.1105e-01, -2.3351e-01,\n           2.3511e-01,  3.3498e-01, -3.5591e-01, -1.7765e-01,  3.3330e-01,\n          -2.2735e-02, -1.6947e-01, -2.3047e-01, -1.7315e-01, -1.6625e-01,\n          -2.7234e-01, -1.6562e-02,  5.4191e-02,  1.4206e-01, -2.8856e-01,\n           1.0391e-01, -2.1832e-01,  1.7886e-01, -6.9926e-02,  1.8078e-01,\n          -2.6255e-01, -2.0932e-01,  1.5483e-01, -2.5729e-01,  1.8175e-01,\n           4.9588e-02, -3.0321e-01, -2.1818e-01, -3.5066e-01, -2.9750e-01,\n          -4.4513e-04,  2.1678e-01,  1.3770e-01, -2.8849e-01,  1.3253e-01,\n           1.9939e-02, -1.9358e-01,  4.4709e-01,  1.8993e-01,  2.5890e-01,\n           1.2169e-01, -3.0312e-01, -6.8447e-02, -4.0468e-01, -1.4910e-01,\n          -2.4943e-01,  1.2582e-01,  2.2388e-01, -3.2877e-01, -1.7721e-01,\n          -1.3938e-01,  1.5012e-01,  4.3747e-01, -1.5863e-01, -1.9181e-01,\n           3.0910e-01,  1.5874e-01,  3.5503e-01,  2.4042e-01,  2.9933e-01,\n          -5.9628e-02, -1.5988e-01,  2.1832e-01, -1.8530e-01, -1.2924e-02,\n          -2.5212e-01, -2.9894e-01,  3.0203e-02, -2.7617e-01,  3.3446e-01,\n           1.7587e-01, -7.0210e-02,  2.2329e-01, -2.7372e-01,  2.2394e-01,\n          -2.9452e-01, -3.2487e-01,  2.9365e-01,  1.1421e-01, -3.8824e-01,\n           1.7073e-01,  1.6566e-01,  1.9976e-01,  2.0979e-01,  3.1567e-02,\n           3.0665e-01,  2.1501e-01, -2.9083e-01, -1.8159e-01,  2.2993e-01,\n           1.7746e-01, -5.9281e-02,  1.3479e-01, -2.0702e-01, -3.2555e-01,\n          -3.6560e-01, -1.9817e-01, -1.6442e-01, -2.3862e-01,  1.1723e-01,\n           1.3073e-01, -2.7553e-01, -4.7905e-02,  1.1624e-01, -6.4115e-02,\n           2.3490e-01, -1.7645e-01, -1.7242e-01,  2.1906e-01, -2.4965e-01,\n          -3.0740e-01, -1.9486e-01,  2.9117e-01, -3.0028e-01, -2.3631e-01,\n           3.4910e-02,  3.0655e-01, -2.0656e-01,  2.5374e-01, -1.1456e-01,\n          -3.0837e-02,  3.0585e-01, -3.9920e-02, -9.4337e-02,  3.1678e-01,\n           2.1942e-01, -4.5655e-01,  1.4655e-02,  3.6007e-01, -2.2767e-01,\n           1.3632e-01, -2.6128e-01, -1.6739e-01,  4.3086e-01,  2.1389e-01,\n          -2.5332e-01, -2.6016e-01,  1.6993e-01,  1.9150e-01,  9.1803e-02,\n           3.2609e-01,  1.2033e-02, -9.8418e-02,  2.5897e-01, -2.2376e-01,\n           3.9793e-01,  3.1278e-01, -2.3080e-01,  1.3881e-01, -2.1080e-01,\n          -3.4706e-01, -3.5016e-01,  1.2651e-01, -2.4954e-01, -2.1118e-01,\n           3.4556e-01,  1.0701e-01,  9.6762e-02,  2.0759e-01]],\n        grad_fn=<DivBackward0>)}"
          },
          "metadata": {}
        }
      ]
    },
    {
      "cell_type": "code",
      "source": [
        "train_sampler = BatchSampler(\n",
        "    train_dataset,\n",
        "    batch_size=16,\n",
        "    batch_size_limit=256,\n",
        "    batch_expansion_rate=1.4,\n",
        "    drop_last=True,\n",
        ")\n",
        "\n",
        "val_sampler = BatchSampler(\n",
        "    val_dataset,\n",
        "    batch_size=256,\n",
        "    drop_last=True,\n",
        ")"
      ],
      "metadata": {
        "execution": {
          "iopub.status.busy": "2024-07-03T15:36:19.408409Z",
          "iopub.execute_input": "2024-07-03T15:36:19.408868Z",
          "iopub.status.idle": "2024-07-03T15:36:19.765256Z",
          "shell.execute_reply.started": "2024-07-03T15:36:19.408822Z",
          "shell.execute_reply": "2024-07-03T15:36:19.764378Z"
        },
        "trusted": true,
        "id": "4Su6W8fpIIvI"
      },
      "execution_count": null,
      "outputs": []
    },
    {
      "cell_type": "code",
      "source": [
        "train_dl = DataLoader(\n",
        "    dataset=train_dataset,\n",
        "    batch_sampler=train_sampler,\n",
        "    collate_fn=train_dataset.collate_fn,\n",
        "    pin_memory=True,\n",
        ")\n",
        "\n",
        "val_dl = DataLoader(\n",
        "    dataset=val_dataset,\n",
        "    batch_sampler=val_sampler,\n",
        "    collate_fn=val_dataset.collate_fn,\n",
        "    pin_memory=True,\n",
        ")\n",
        "\n",
        "test_dl = DataLoader(\n",
        "    dataset=test_dataset,\n",
        "    batch_size=256,\n",
        "    collate_fn=test_dataset.collate_fn,\n",
        "    pin_memory=True,\n",
        "    drop_last=False,\n",
        ")"
      ],
      "metadata": {
        "execution": {
          "iopub.status.busy": "2024-07-03T15:36:19.766628Z",
          "iopub.execute_input": "2024-07-03T15:36:19.766960Z",
          "iopub.status.idle": "2024-07-03T15:36:20.779219Z",
          "shell.execute_reply.started": "2024-07-03T15:36:19.766931Z",
          "shell.execute_reply": "2024-07-03T15:36:20.778061Z"
        },
        "trusted": true,
        "id": "j7wp7rX7IIvI"
      },
      "execution_count": null,
      "outputs": []
    },
    {
      "cell_type": "code",
      "source": [
        "import torch\n",
        "from opr.models.place_recognition.base import ImageModel, LateFusionModel\n",
        "from opr.modules.feature_extractors import ConvNeXtTinyFeatureExtractor\n",
        "from opr.modules import Concat, GeM"
      ],
      "metadata": {
        "execution": {
          "iopub.status.busy": "2024-07-03T15:37:06.365452Z",
          "iopub.execute_input": "2024-07-03T15:37:06.365880Z",
          "iopub.status.idle": "2024-07-03T15:37:06.371482Z",
          "shell.execute_reply.started": "2024-07-03T15:37:06.365848Z",
          "shell.execute_reply": "2024-07-03T15:37:06.370355Z"
        },
        "trusted": true,
        "id": "V6PqJvteIIvJ"
      },
      "execution_count": null,
      "outputs": []
    },
    {
      "cell_type": "code",
      "source": [
        "from torch import Tensor, nn\n",
        "\n",
        "class Attention(nn.Module):\n",
        "    def __init__(self, image_dim, text_dim, hidden_dim):\n",
        "        super(Attention, self).__init__()\n",
        "        self.image_linear = nn.Linear(image_dim, hidden_dim)\n",
        "        self.text_linear = nn.Linear(text_dim, hidden_dim)\n",
        "        self.attention_linear = nn.Linear(hidden_dim, 1)\n",
        "\n",
        "    def forward(self, images: Tensor, texts: Tensor) -> Tensor:\n",
        "        proj_images = self.image_linear(images)\n",
        "        proj_texts = self.text_linear(texts)\n",
        "\n",
        "        combined = torch.tanh(proj_images.unsqueeze(1) + proj_texts.unsqueeze(2))\n",
        "        attention_scores = self.attention_linear(combined).squeeze(2)\n",
        "\n",
        "        attention_weights = F.softmax(attention_scores, dim=1).unsqueeze(2)\n",
        "\n",
        "        weighted_image = torch.sum(attention_weights * images.unsqueeze(1), dim=1)\n",
        "        weighted_text = torch.sum(attention_weights * texts.unsqueeze(1), dim=1)\n",
        "\n",
        "        return weighted_image, weighted_text"
      ],
      "metadata": {
        "execution": {
          "iopub.status.busy": "2024-07-03T15:37:23.048983Z",
          "iopub.execute_input": "2024-07-03T15:37:23.049397Z",
          "iopub.status.idle": "2024-07-03T15:37:23.058621Z",
          "shell.execute_reply.started": "2024-07-03T15:37:23.049362Z",
          "shell.execute_reply": "2024-07-03T15:37:23.057539Z"
        },
        "trusted": true,
        "id": "cskeJFyEIIvJ"
      },
      "execution_count": null,
      "outputs": []
    },
    {
      "cell_type": "code",
      "source": [
        "class LateFusionModel(nn.Module):\n",
        "    def __init__(\n",
        "        self,\n",
        "        image_module,\n",
        "        text_module,\n",
        "        fusion_module=None,\n",
        "        semantic_module=None\n",
        "    ) -> None:\n",
        "        super().__init__()\n",
        "\n",
        "        self.image_module = image_module\n",
        "        self.text_module = text_module\n",
        "        self.semantic_module = semantic_module\n",
        "\n",
        "        if fusion_module:\n",
        "            self.fusion_module = fusion_module\n",
        "        else:\n",
        "            self.fusion_module = Attention(image_module.output_dim, text_module.output_dim, hidden_dim=128)\n",
        "\n",
        "    def forward(self, batch: Dict[str, Tensor]) -> Dict[str, Tensor]:\n",
        "        out_dict: Dict[str, Tensor] = {}\n",
        "\n",
        "        if self.image_module is not None:\n",
        "            out_dict[\"image\"] = self.image_module(batch)[\"final_descriptor\"]\n",
        "\n",
        "        if self.text_module is not None:\n",
        "            out_dict[\"text\"] = self.text_module(batch)[\"final_descriptor\"]\n",
        "\n",
        "        if self.semantic_module is not None:\n",
        "            out_dict[\"semantic\"] = self.semantic_module(batch)[\"final_descriptor\"]\n",
        "\n",
        "        if 'image' in out_dict and 'text' in out_dict:\n",
        "            fused_image, fused_text = self.fusion_module({'image': out_dict[\"image\"], 'image': out_dict[\"text\"]})\n",
        "            out_dict[\"fused_image\"] = fused_image\n",
        "            out_dict[\"fused_text\"] = fused_text\n",
        "\n",
        "        return out_dict"
      ],
      "metadata": {
        "execution": {
          "iopub.status.busy": "2024-07-03T15:43:05.216907Z",
          "iopub.execute_input": "2024-07-03T15:43:05.217887Z",
          "iopub.status.idle": "2024-07-03T15:43:05.228796Z",
          "shell.execute_reply.started": "2024-07-03T15:43:05.217851Z",
          "shell.execute_reply": "2024-07-03T15:43:05.227559Z"
        },
        "trusted": true,
        "id": "0qNg-ugrIIvK"
      },
      "execution_count": null,
      "outputs": []
    },
    {
      "cell_type": "code",
      "source": [
        "class Dummy:\n",
        "    def __init__(self):\n",
        "        pass\n",
        "\n",
        "    def __call__(self, emb):\n",
        "        return {\"final_descriptor\": emb}\n",
        "\n",
        "    def forward(self, emb):\n",
        "        return {\"final_descriptor\": emb}"
      ],
      "metadata": {
        "execution": {
          "iopub.status.busy": "2024-07-03T15:43:06.025212Z",
          "iopub.execute_input": "2024-07-03T15:43:06.026215Z",
          "iopub.status.idle": "2024-07-03T15:43:06.031996Z",
          "shell.execute_reply.started": "2024-07-03T15:43:06.026173Z",
          "shell.execute_reply": "2024-07-03T15:43:06.030959Z"
        },
        "trusted": true,
        "id": "JP8kLlVVIIvK"
      },
      "execution_count": null,
      "outputs": []
    },
    {
      "cell_type": "code",
      "source": [
        "pooling = GeM()\n",
        "concat = Concat()\n",
        "\n",
        "feature_extractor = ConvNeXtTinyFeatureExtractor(\n",
        "    in_channels=3,\n",
        "    pretrained=True,\n",
        ")\n",
        "\n",
        "text_feature_extractor = Dummy()\n",
        "\n",
        "image_module = ImageModel(\n",
        "    backbone=feature_extractor,\n",
        "    head=pooling,\n",
        "    fusion=concat,\n",
        ")\n",
        "\n",
        "model = LateFusionModel(\n",
        "    image_module=image_module,\n",
        "    text_module=text_feature_extractor,\n",
        "    fusion_module=concat\n",
        ")"
      ],
      "metadata": {
        "execution": {
          "iopub.status.busy": "2024-07-03T15:43:06.865863Z",
          "iopub.execute_input": "2024-07-03T15:43:06.866247Z",
          "iopub.status.idle": "2024-07-03T15:43:07.533572Z",
          "shell.execute_reply.started": "2024-07-03T15:43:06.866215Z",
          "shell.execute_reply": "2024-07-03T15:43:07.532524Z"
        },
        "trusted": true,
        "id": "Y3uPIxx7IIvL"
      },
      "execution_count": null,
      "outputs": []
    },
    {
      "cell_type": "code",
      "source": [
        "IMAGE_LR = 0.003\n",
        "HEAD_LR = None\n",
        "FUSION_LR = None\n",
        "WEIGHT_DECAY = 0.003\n",
        "WARMUP_STEPS = 90\n",
        "T_MAX = 1800"
      ],
      "metadata": {
        "execution": {
          "iopub.status.busy": "2024-07-03T15:43:07.536384Z",
          "iopub.execute_input": "2024-07-03T15:43:07.536739Z",
          "iopub.status.idle": "2024-07-03T15:43:07.541845Z",
          "shell.execute_reply.started": "2024-07-03T15:43:07.536711Z",
          "shell.execute_reply": "2024-07-03T15:43:07.540602Z"
        },
        "trusted": true,
        "id": "CS5Sa2Q8IIvL"
      },
      "execution_count": null,
      "outputs": []
    },
    {
      "cell_type": "code",
      "source": [
        "from torch.optim import AdamW\n",
        "from transformers import get_cosine_schedule_with_warmup"
      ],
      "metadata": {
        "execution": {
          "iopub.status.busy": "2024-07-03T15:43:08.220192Z",
          "iopub.execute_input": "2024-07-03T15:43:08.221064Z",
          "iopub.status.idle": "2024-07-03T15:43:08.225846Z",
          "shell.execute_reply.started": "2024-07-03T15:43:08.221025Z",
          "shell.execute_reply": "2024-07-03T15:43:08.224565Z"
        },
        "trusted": true,
        "id": "XA1-qGZCIIvL"
      },
      "execution_count": null,
      "outputs": []
    },
    {
      "cell_type": "code",
      "source": [
        "params_list = []\n",
        "if model.image_module is not None and IMAGE_LR is not None:\n",
        "    params_list.append({\"params\": model.image_module.parameters(), \"lr\": IMAGE_LR})\n",
        "if model.fusion_module is not None and FUSION_LR is not None:\n",
        "    params_list.append({\"params\": model.fusion_module.parameters(), \"lr\": FUSION_LR})"
      ],
      "metadata": {
        "execution": {
          "iopub.status.busy": "2024-07-03T15:43:08.952386Z",
          "iopub.execute_input": "2024-07-03T15:43:08.952751Z",
          "iopub.status.idle": "2024-07-03T15:43:08.959474Z",
          "shell.execute_reply.started": "2024-07-03T15:43:08.952724Z",
          "shell.execute_reply": "2024-07-03T15:43:08.958308Z"
        },
        "trusted": true,
        "id": "tNijvH8eIIvM"
      },
      "execution_count": null,
      "outputs": []
    },
    {
      "cell_type": "code",
      "source": [
        "from opr.trainers.place_recognition import MultimodalPlaceRecognitionTrainer\n",
        "from opr.losses import BatchHardTripletMarginLoss"
      ],
      "metadata": {
        "execution": {
          "iopub.status.busy": "2024-07-03T15:43:09.576618Z",
          "iopub.execute_input": "2024-07-03T15:43:09.577046Z",
          "iopub.status.idle": "2024-07-03T15:43:09.582363Z",
          "shell.execute_reply.started": "2024-07-03T15:43:09.577011Z",
          "shell.execute_reply": "2024-07-03T15:43:09.581169Z"
        },
        "trusted": true,
        "id": "zmbMslPLIIvN"
      },
      "execution_count": null,
      "outputs": []
    },
    {
      "cell_type": "code",
      "source": [
        "!mkdir checkpoints"
      ],
      "metadata": {
        "execution": {
          "iopub.status.busy": "2024-07-03T15:43:10.237516Z",
          "iopub.execute_input": "2024-07-03T15:43:10.238180Z",
          "iopub.status.idle": "2024-07-03T15:43:11.388591Z",
          "shell.execute_reply.started": "2024-07-03T15:43:10.238150Z",
          "shell.execute_reply": "2024-07-03T15:43:11.387412Z"
        },
        "trusted": true,
        "id": "HVXhMZiMIIvO",
        "outputId": "d2620e85-8122-4ca9-8925-c63fcfa94b2f"
      },
      "execution_count": null,
      "outputs": [
        {
          "name": "stderr",
          "text": "huggingface/tokenizers: The current process just got forked, after parallelism has already been used. Disabling parallelism to avoid deadlocks...\nTo disable this warning, you can either:\n\t- Avoid using `tokenizers` before the fork if possible\n\t- Explicitly set the environment variable TOKENIZERS_PARALLELISM=(true | false)\n",
          "output_type": "stream"
        },
        {
          "name": "stdout",
          "text": "mkdir: cannot create directory 'checkpoints': File exists\n",
          "output_type": "stream"
        }
      ]
    },
    {
      "cell_type": "code",
      "source": [
        "loss_fn = BatchHardTripletMarginLoss(margin=0.5)\n",
        "optimizer = AdamW(params_list, weight_decay=WEIGHT_DECAY)\n",
        "scheduler = get_cosine_schedule_with_warmup(optimizer, num_warmup_steps=WARMUP_STEPS, num_training_steps=T_MAX)"
      ],
      "metadata": {
        "execution": {
          "iopub.status.busy": "2024-07-03T15:43:11.391001Z",
          "iopub.execute_input": "2024-07-03T15:43:11.391357Z",
          "iopub.status.idle": "2024-07-03T15:43:11.400390Z",
          "shell.execute_reply.started": "2024-07-03T15:43:11.391303Z",
          "shell.execute_reply": "2024-07-03T15:43:11.399178Z"
        },
        "trusted": true,
        "id": "lxyl6ahzIIvO"
      },
      "execution_count": null,
      "outputs": []
    },
    {
      "cell_type": "code",
      "source": [
        "kwargs = {\n",
        "    'checkpoints_dir': '/kaggle/working/checkpoints',\n",
        "    'model': model,\n",
        "    'loss_fn': loss_fn,\n",
        "    'optimizer': optimizer,\n",
        "    'scheduler': scheduler,\n",
        "    'batch_expansion_threshold': 0.7,\n",
        "    'wandb_log': False,\n",
        "    'device': 'cuda',\n",
        "}"
      ],
      "metadata": {
        "execution": {
          "iopub.status.busy": "2024-07-03T15:43:11.616289Z",
          "iopub.execute_input": "2024-07-03T15:43:11.616967Z",
          "iopub.status.idle": "2024-07-03T15:43:11.622115Z",
          "shell.execute_reply.started": "2024-07-03T15:43:11.616930Z",
          "shell.execute_reply": "2024-07-03T15:43:11.620999Z"
        },
        "trusted": true,
        "id": "fZhglYUFIIvO"
      },
      "execution_count": null,
      "outputs": []
    },
    {
      "cell_type": "code",
      "source": [
        "trainer = MultimodalPlaceRecognitionTrainer(\n",
        "    modalities_weights={\n",
        "        \"image\": 0.9,\n",
        "        \"cloud\": 0,\n",
        "        \"semantic\": 0.05,\n",
        "        \"text\": 0.05,\n",
        "        \"final_descriptor\": 0\n",
        "    },\n",
        "    **kwargs\n",
        ")"
      ],
      "metadata": {
        "execution": {
          "iopub.status.busy": "2024-07-03T15:43:12.339502Z",
          "iopub.execute_input": "2024-07-03T15:43:12.339922Z",
          "iopub.status.idle": "2024-07-03T15:43:12.385729Z",
          "shell.execute_reply.started": "2024-07-03T15:43:12.339886Z",
          "shell.execute_reply": "2024-07-03T15:43:12.384628Z"
        },
        "trusted": true,
        "id": "Tz21phCNIIvO"
      },
      "execution_count": null,
      "outputs": []
    },
    {
      "cell_type": "code",
      "source": [
        "# trainer = UnimodalPlaceRecognitionTrainer(\n",
        "#     checkpoints_dir='/kaggle/working/checkpoints',\n",
        "#     model=model,\n",
        "#     loss_fn=loss_fn,\n",
        "#     optimizer=optimizer,\n",
        "#     scheduler=scheduler,\n",
        "#     batch_expansion_threshold=0.7,\n",
        "#     wandb_log=False,\n",
        "#     device='cuda',\n",
        "# )"
      ],
      "metadata": {
        "execution": {
          "iopub.status.busy": "2024-07-03T15:14:57.223432Z",
          "iopub.execute_input": "2024-07-03T15:14:57.223802Z",
          "iopub.status.idle": "2024-07-03T15:14:57.228056Z",
          "shell.execute_reply.started": "2024-07-03T15:14:57.223772Z",
          "shell.execute_reply": "2024-07-03T15:14:57.227077Z"
        },
        "trusted": true,
        "id": "9cSra1UgIIvP"
      },
      "execution_count": null,
      "outputs": []
    },
    {
      "cell_type": "code",
      "source": [
        "trainer.train(\n",
        "    epochs=6,\n",
        "    train_dataloader=train_dl,\n",
        "    val_dataloader=val_dl,\n",
        "    test_dataloader=test_dl,\n",
        ")"
      ],
      "metadata": {
        "execution": {
          "iopub.status.busy": "2024-07-03T15:43:13.613577Z",
          "iopub.execute_input": "2024-07-03T15:43:13.614419Z",
          "iopub.status.idle": "2024-07-03T15:43:16.160872Z",
          "shell.execute_reply.started": "2024-07-03T15:43:13.614379Z",
          "shell.execute_reply": "2024-07-03T15:43:16.159126Z"
        },
        "trusted": true,
        "id": "qb11OtDvIIvP",
        "outputId": "0fd41fcd-5839-4f15-c06b-aa83852a0dae"
      },
      "execution_count": null,
      "outputs": [
        {
          "name": "stderr",
          "text": "\u001b[32m2024-07-03 15:43:13.616\u001b[0m | \u001b[1mINFO    \u001b[0m | \u001b[36mopr.trainers.place_recognition.unimodal\u001b[0m:\u001b[36mtrain\u001b[0m:\u001b[36m113\u001b[0m - \u001b[1m=====> Epoch:   1/6:\u001b[0m\n\u001b[32m2024-07-03 15:43:13.617\u001b[0m | \u001b[1mINFO    \u001b[0m | \u001b[36mopr.trainers.place_recognition.multimodal\u001b[0m:\u001b[36m_loop_epoch\u001b[0m:\u001b[36m34\u001b[0m - \u001b[1m=> Train stage:\u001b[0m\n                                             \r",
          "output_type": "stream"
        },
        {
          "traceback": [
            "\u001b[0;31m---------------------------------------------------------------------------\u001b[0m",
            "\u001b[0;31mOutOfMemoryError\u001b[0m                          Traceback (most recent call last)",
            "Cell \u001b[0;32mIn[100], line 1\u001b[0m\n\u001b[0;32m----> 1\u001b[0m \u001b[43mtrainer\u001b[49m\u001b[38;5;241;43m.\u001b[39;49m\u001b[43mtrain\u001b[49m\u001b[43m(\u001b[49m\n\u001b[1;32m      2\u001b[0m \u001b[43m    \u001b[49m\u001b[43mepochs\u001b[49m\u001b[38;5;241;43m=\u001b[39;49m\u001b[38;5;241;43m6\u001b[39;49m\u001b[43m,\u001b[49m\n\u001b[1;32m      3\u001b[0m \u001b[43m    \u001b[49m\u001b[43mtrain_dataloader\u001b[49m\u001b[38;5;241;43m=\u001b[39;49m\u001b[43mtrain_dl\u001b[49m\u001b[43m,\u001b[49m\n\u001b[1;32m      4\u001b[0m \u001b[43m    \u001b[49m\u001b[43mval_dataloader\u001b[49m\u001b[38;5;241;43m=\u001b[39;49m\u001b[43mval_dl\u001b[49m\u001b[43m,\u001b[49m\n\u001b[1;32m      5\u001b[0m \u001b[43m    \u001b[49m\u001b[43mtest_dataloader\u001b[49m\u001b[38;5;241;43m=\u001b[39;49m\u001b[43mtest_dl\u001b[49m\u001b[43m,\u001b[49m\n\u001b[1;32m      6\u001b[0m \u001b[43m)\u001b[49m\n",
            "File \u001b[0;32m/opt/conda/lib/python3.10/site-packages/opr/trainers/place_recognition/unimodal.py:116\u001b[0m, in \u001b[0;36mUnimodalPlaceRecognitionTrainer.train\u001b[0;34m(self, epochs, train_dataloader, val_dataloader, test_dataloader, test_every_n_epochs)\u001b[0m\n\u001b[1;32m    113\u001b[0m logger\u001b[38;5;241m.\u001b[39minfo(\u001b[38;5;124mf\u001b[39m\u001b[38;5;124m\"\u001b[39m\u001b[38;5;124m=====> Epoch: \u001b[39m\u001b[38;5;132;01m{\u001b[39;00mepoch\u001b[38;5;241m+\u001b[39m\u001b[38;5;241m1\u001b[39m\u001b[38;5;132;01m:\u001b[39;00m\u001b[38;5;124m3d\u001b[39m\u001b[38;5;132;01m}\u001b[39;00m\u001b[38;5;124m/\u001b[39m\u001b[38;5;132;01m{\u001b[39;00mepochs\u001b[38;5;132;01m}\u001b[39;00m\u001b[38;5;124m:\u001b[39m\u001b[38;5;124m\"\u001b[39m)\n\u001b[1;32m    115\u001b[0m \u001b[38;5;66;03m# === Train-Val stage ===\u001b[39;00m\n\u001b[0;32m--> 116\u001b[0m \u001b[38;5;28;43mself\u001b[39;49m\u001b[38;5;241;43m.\u001b[39;49m\u001b[43m_loop_epoch\u001b[49m\u001b[43m(\u001b[49m\u001b[43mtrain_dataloader\u001b[49m\u001b[43m,\u001b[49m\u001b[43m \u001b[49m\u001b[43mval_dataloader\u001b[49m\u001b[43m)\u001b[49m\n\u001b[1;32m    117\u001b[0m \u001b[38;5;28mself\u001b[39m\u001b[38;5;241m.\u001b[39m_stats[\u001b[38;5;124m\"\u001b[39m\u001b[38;5;124mtrain\u001b[39m\u001b[38;5;124m\"\u001b[39m][\u001b[38;5;124m\"\u001b[39m\u001b[38;5;124mbatch_size\u001b[39m\u001b[38;5;124m\"\u001b[39m] \u001b[38;5;241m=\u001b[39m train_dataloader\u001b[38;5;241m.\u001b[39mbatch_sampler\u001b[38;5;241m.\u001b[39mbatch_size\n\u001b[1;32m    118\u001b[0m \u001b[38;5;28;01mif\u001b[39;00m val_dataloader:\n",
            "File \u001b[0;32m/opt/conda/lib/python3.10/site-packages/opr/trainers/place_recognition/multimodal.py:54\u001b[0m, in \u001b[0;36mMultimodalPlaceRecognitionTrainer._loop_epoch\u001b[0;34m(self, train_dataloader, val_dataloader)\u001b[0m\n\u001b[1;32m     52\u001b[0m stats \u001b[38;5;241m=\u001b[39m {}\n\u001b[1;32m     53\u001b[0m losses \u001b[38;5;241m=\u001b[39m {}\n\u001b[0;32m---> 54\u001b[0m embeddings \u001b[38;5;241m=\u001b[39m \u001b[38;5;28;43mself\u001b[39;49m\u001b[38;5;241;43m.\u001b[39;49m\u001b[43mmodel\u001b[49m\u001b[43m(\u001b[49m\u001b[43mbatch\u001b[49m\u001b[43m)\u001b[49m\n\u001b[1;32m     55\u001b[0m \u001b[38;5;66;03m# self.modalities_weights instead of hardcoded list\u001b[39;00m\n\u001b[1;32m     56\u001b[0m \u001b[38;5;28;01mfor\u001b[39;00m modality \u001b[38;5;129;01min\u001b[39;00m [\u001b[38;5;124m\"\u001b[39m\u001b[38;5;124mimage\u001b[39m\u001b[38;5;124m\"\u001b[39m, \u001b[38;5;124m\"\u001b[39m\u001b[38;5;124mcloud\u001b[39m\u001b[38;5;124m\"\u001b[39m, \u001b[38;5;124m\"\u001b[39m\u001b[38;5;124msemantic\u001b[39m\u001b[38;5;124m\"\u001b[39m, \u001b[38;5;124m\"\u001b[39m\u001b[38;5;124mtext\u001b[39m\u001b[38;5;124m\"\u001b[39m, \u001b[38;5;124m\"\u001b[39m\u001b[38;5;124mfinal_descriptor\u001b[39m\u001b[38;5;124m\"\u001b[39m]:\n",
            "File \u001b[0;32m/opt/conda/lib/python3.10/site-packages/torch/nn/modules/module.py:1518\u001b[0m, in \u001b[0;36mModule._wrapped_call_impl\u001b[0;34m(self, *args, **kwargs)\u001b[0m\n\u001b[1;32m   1516\u001b[0m     \u001b[38;5;28;01mreturn\u001b[39;00m \u001b[38;5;28mself\u001b[39m\u001b[38;5;241m.\u001b[39m_compiled_call_impl(\u001b[38;5;241m*\u001b[39margs, \u001b[38;5;241m*\u001b[39m\u001b[38;5;241m*\u001b[39mkwargs)  \u001b[38;5;66;03m# type: ignore[misc]\u001b[39;00m\n\u001b[1;32m   1517\u001b[0m \u001b[38;5;28;01melse\u001b[39;00m:\n\u001b[0;32m-> 1518\u001b[0m     \u001b[38;5;28;01mreturn\u001b[39;00m \u001b[38;5;28;43mself\u001b[39;49m\u001b[38;5;241;43m.\u001b[39;49m\u001b[43m_call_impl\u001b[49m\u001b[43m(\u001b[49m\u001b[38;5;241;43m*\u001b[39;49m\u001b[43margs\u001b[49m\u001b[43m,\u001b[49m\u001b[43m \u001b[49m\u001b[38;5;241;43m*\u001b[39;49m\u001b[38;5;241;43m*\u001b[39;49m\u001b[43mkwargs\u001b[49m\u001b[43m)\u001b[49m\n",
            "File \u001b[0;32m/opt/conda/lib/python3.10/site-packages/torch/nn/modules/module.py:1527\u001b[0m, in \u001b[0;36mModule._call_impl\u001b[0;34m(self, *args, **kwargs)\u001b[0m\n\u001b[1;32m   1522\u001b[0m \u001b[38;5;66;03m# If we don't have any hooks, we want to skip the rest of the logic in\u001b[39;00m\n\u001b[1;32m   1523\u001b[0m \u001b[38;5;66;03m# this function, and just call forward.\u001b[39;00m\n\u001b[1;32m   1524\u001b[0m \u001b[38;5;28;01mif\u001b[39;00m \u001b[38;5;129;01mnot\u001b[39;00m (\u001b[38;5;28mself\u001b[39m\u001b[38;5;241m.\u001b[39m_backward_hooks \u001b[38;5;129;01mor\u001b[39;00m \u001b[38;5;28mself\u001b[39m\u001b[38;5;241m.\u001b[39m_backward_pre_hooks \u001b[38;5;129;01mor\u001b[39;00m \u001b[38;5;28mself\u001b[39m\u001b[38;5;241m.\u001b[39m_forward_hooks \u001b[38;5;129;01mor\u001b[39;00m \u001b[38;5;28mself\u001b[39m\u001b[38;5;241m.\u001b[39m_forward_pre_hooks\n\u001b[1;32m   1525\u001b[0m         \u001b[38;5;129;01mor\u001b[39;00m _global_backward_pre_hooks \u001b[38;5;129;01mor\u001b[39;00m _global_backward_hooks\n\u001b[1;32m   1526\u001b[0m         \u001b[38;5;129;01mor\u001b[39;00m _global_forward_hooks \u001b[38;5;129;01mor\u001b[39;00m _global_forward_pre_hooks):\n\u001b[0;32m-> 1527\u001b[0m     \u001b[38;5;28;01mreturn\u001b[39;00m \u001b[43mforward_call\u001b[49m\u001b[43m(\u001b[49m\u001b[38;5;241;43m*\u001b[39;49m\u001b[43margs\u001b[49m\u001b[43m,\u001b[49m\u001b[43m \u001b[49m\u001b[38;5;241;43m*\u001b[39;49m\u001b[38;5;241;43m*\u001b[39;49m\u001b[43mkwargs\u001b[49m\u001b[43m)\u001b[49m\n\u001b[1;32m   1529\u001b[0m \u001b[38;5;28;01mtry\u001b[39;00m:\n\u001b[1;32m   1530\u001b[0m     result \u001b[38;5;241m=\u001b[39m \u001b[38;5;28;01mNone\u001b[39;00m\n",
            "Cell \u001b[0;32mIn[89], line 24\u001b[0m, in \u001b[0;36mLateFusionModel.forward\u001b[0;34m(self, batch)\u001b[0m\n\u001b[1;32m     21\u001b[0m out_dict: Dict[\u001b[38;5;28mstr\u001b[39m, Tensor] \u001b[38;5;241m=\u001b[39m {}\n\u001b[1;32m     23\u001b[0m \u001b[38;5;28;01mif\u001b[39;00m \u001b[38;5;28mself\u001b[39m\u001b[38;5;241m.\u001b[39mimage_module \u001b[38;5;129;01mis\u001b[39;00m \u001b[38;5;129;01mnot\u001b[39;00m \u001b[38;5;28;01mNone\u001b[39;00m:\n\u001b[0;32m---> 24\u001b[0m     out_dict[\u001b[38;5;124m\"\u001b[39m\u001b[38;5;124mimage\u001b[39m\u001b[38;5;124m\"\u001b[39m] \u001b[38;5;241m=\u001b[39m \u001b[38;5;28;43mself\u001b[39;49m\u001b[38;5;241;43m.\u001b[39;49m\u001b[43mimage_module\u001b[49m\u001b[43m(\u001b[49m\u001b[43mbatch\u001b[49m\u001b[43m)\u001b[49m[\u001b[38;5;124m\"\u001b[39m\u001b[38;5;124mfinal_descriptor\u001b[39m\u001b[38;5;124m\"\u001b[39m]\n\u001b[1;32m     26\u001b[0m \u001b[38;5;28;01mif\u001b[39;00m \u001b[38;5;28mself\u001b[39m\u001b[38;5;241m.\u001b[39mtext_module \u001b[38;5;129;01mis\u001b[39;00m \u001b[38;5;129;01mnot\u001b[39;00m \u001b[38;5;28;01mNone\u001b[39;00m:\n\u001b[1;32m     27\u001b[0m     out_dict[\u001b[38;5;124m\"\u001b[39m\u001b[38;5;124mtext\u001b[39m\u001b[38;5;124m\"\u001b[39m] \u001b[38;5;241m=\u001b[39m \u001b[38;5;28mself\u001b[39m\u001b[38;5;241m.\u001b[39mtext_module(batch)[\u001b[38;5;124m\"\u001b[39m\u001b[38;5;124mfinal_descriptor\u001b[39m\u001b[38;5;124m\"\u001b[39m]\n",
            "File \u001b[0;32m/opt/conda/lib/python3.10/site-packages/torch/nn/modules/module.py:1518\u001b[0m, in \u001b[0;36mModule._wrapped_call_impl\u001b[0;34m(self, *args, **kwargs)\u001b[0m\n\u001b[1;32m   1516\u001b[0m     \u001b[38;5;28;01mreturn\u001b[39;00m \u001b[38;5;28mself\u001b[39m\u001b[38;5;241m.\u001b[39m_compiled_call_impl(\u001b[38;5;241m*\u001b[39margs, \u001b[38;5;241m*\u001b[39m\u001b[38;5;241m*\u001b[39mkwargs)  \u001b[38;5;66;03m# type: ignore[misc]\u001b[39;00m\n\u001b[1;32m   1517\u001b[0m \u001b[38;5;28;01melse\u001b[39;00m:\n\u001b[0;32m-> 1518\u001b[0m     \u001b[38;5;28;01mreturn\u001b[39;00m \u001b[38;5;28;43mself\u001b[39;49m\u001b[38;5;241;43m.\u001b[39;49m\u001b[43m_call_impl\u001b[49m\u001b[43m(\u001b[49m\u001b[38;5;241;43m*\u001b[39;49m\u001b[43margs\u001b[49m\u001b[43m,\u001b[49m\u001b[43m \u001b[49m\u001b[38;5;241;43m*\u001b[39;49m\u001b[38;5;241;43m*\u001b[39;49m\u001b[43mkwargs\u001b[49m\u001b[43m)\u001b[49m\n",
            "File \u001b[0;32m/opt/conda/lib/python3.10/site-packages/torch/nn/modules/module.py:1527\u001b[0m, in \u001b[0;36mModule._call_impl\u001b[0;34m(self, *args, **kwargs)\u001b[0m\n\u001b[1;32m   1522\u001b[0m \u001b[38;5;66;03m# If we don't have any hooks, we want to skip the rest of the logic in\u001b[39;00m\n\u001b[1;32m   1523\u001b[0m \u001b[38;5;66;03m# this function, and just call forward.\u001b[39;00m\n\u001b[1;32m   1524\u001b[0m \u001b[38;5;28;01mif\u001b[39;00m \u001b[38;5;129;01mnot\u001b[39;00m (\u001b[38;5;28mself\u001b[39m\u001b[38;5;241m.\u001b[39m_backward_hooks \u001b[38;5;129;01mor\u001b[39;00m \u001b[38;5;28mself\u001b[39m\u001b[38;5;241m.\u001b[39m_backward_pre_hooks \u001b[38;5;129;01mor\u001b[39;00m \u001b[38;5;28mself\u001b[39m\u001b[38;5;241m.\u001b[39m_forward_hooks \u001b[38;5;129;01mor\u001b[39;00m \u001b[38;5;28mself\u001b[39m\u001b[38;5;241m.\u001b[39m_forward_pre_hooks\n\u001b[1;32m   1525\u001b[0m         \u001b[38;5;129;01mor\u001b[39;00m _global_backward_pre_hooks \u001b[38;5;129;01mor\u001b[39;00m _global_backward_hooks\n\u001b[1;32m   1526\u001b[0m         \u001b[38;5;129;01mor\u001b[39;00m _global_forward_hooks \u001b[38;5;129;01mor\u001b[39;00m _global_forward_pre_hooks):\n\u001b[0;32m-> 1527\u001b[0m     \u001b[38;5;28;01mreturn\u001b[39;00m \u001b[43mforward_call\u001b[49m\u001b[43m(\u001b[49m\u001b[38;5;241;43m*\u001b[39;49m\u001b[43margs\u001b[49m\u001b[43m,\u001b[49m\u001b[43m \u001b[49m\u001b[38;5;241;43m*\u001b[39;49m\u001b[38;5;241;43m*\u001b[39;49m\u001b[43mkwargs\u001b[49m\u001b[43m)\u001b[49m\n\u001b[1;32m   1529\u001b[0m \u001b[38;5;28;01mtry\u001b[39;00m:\n\u001b[1;32m   1530\u001b[0m     result \u001b[38;5;241m=\u001b[39m \u001b[38;5;28;01mNone\u001b[39;00m\n",
            "File \u001b[0;32m/opt/conda/lib/python3.10/site-packages/opr/models/place_recognition/base.py:44\u001b[0m, in \u001b[0;36mImageModel.forward\u001b[0;34m(self, batch)\u001b[0m\n\u001b[1;32m     42\u001b[0m \u001b[38;5;28;01mfor\u001b[39;00m key, value \u001b[38;5;129;01min\u001b[39;00m batch\u001b[38;5;241m.\u001b[39mitems():\n\u001b[1;32m     43\u001b[0m     \u001b[38;5;28;01mif\u001b[39;00m key\u001b[38;5;241m.\u001b[39mstartswith(\u001b[38;5;124m\"\u001b[39m\u001b[38;5;124mimages_\u001b[39m\u001b[38;5;124m\"\u001b[39m):\n\u001b[0;32m---> 44\u001b[0m         img_descriptors[key] \u001b[38;5;241m=\u001b[39m \u001b[38;5;28mself\u001b[39m\u001b[38;5;241m.\u001b[39mhead(\u001b[38;5;28;43mself\u001b[39;49m\u001b[38;5;241;43m.\u001b[39;49m\u001b[43mbackbone\u001b[49m\u001b[43m(\u001b[49m\u001b[43mvalue\u001b[49m\u001b[43m)\u001b[49m)\n\u001b[1;32m     45\u001b[0m \u001b[38;5;28;01mif\u001b[39;00m \u001b[38;5;28mlen\u001b[39m(img_descriptors) \u001b[38;5;241m>\u001b[39m \u001b[38;5;241m1\u001b[39m:\n\u001b[1;32m     46\u001b[0m     \u001b[38;5;28;01mif\u001b[39;00m \u001b[38;5;28mself\u001b[39m\u001b[38;5;241m.\u001b[39mfusion \u001b[38;5;129;01mis\u001b[39;00m \u001b[38;5;28;01mNone\u001b[39;00m:\n",
            "File \u001b[0;32m/opt/conda/lib/python3.10/site-packages/torch/nn/modules/module.py:1518\u001b[0m, in \u001b[0;36mModule._wrapped_call_impl\u001b[0;34m(self, *args, **kwargs)\u001b[0m\n\u001b[1;32m   1516\u001b[0m     \u001b[38;5;28;01mreturn\u001b[39;00m \u001b[38;5;28mself\u001b[39m\u001b[38;5;241m.\u001b[39m_compiled_call_impl(\u001b[38;5;241m*\u001b[39margs, \u001b[38;5;241m*\u001b[39m\u001b[38;5;241m*\u001b[39mkwargs)  \u001b[38;5;66;03m# type: ignore[misc]\u001b[39;00m\n\u001b[1;32m   1517\u001b[0m \u001b[38;5;28;01melse\u001b[39;00m:\n\u001b[0;32m-> 1518\u001b[0m     \u001b[38;5;28;01mreturn\u001b[39;00m \u001b[38;5;28;43mself\u001b[39;49m\u001b[38;5;241;43m.\u001b[39;49m\u001b[43m_call_impl\u001b[49m\u001b[43m(\u001b[49m\u001b[38;5;241;43m*\u001b[39;49m\u001b[43margs\u001b[49m\u001b[43m,\u001b[49m\u001b[43m \u001b[49m\u001b[38;5;241;43m*\u001b[39;49m\u001b[38;5;241;43m*\u001b[39;49m\u001b[43mkwargs\u001b[49m\u001b[43m)\u001b[49m\n",
            "File \u001b[0;32m/opt/conda/lib/python3.10/site-packages/torch/nn/modules/module.py:1527\u001b[0m, in \u001b[0;36mModule._call_impl\u001b[0;34m(self, *args, **kwargs)\u001b[0m\n\u001b[1;32m   1522\u001b[0m \u001b[38;5;66;03m# If we don't have any hooks, we want to skip the rest of the logic in\u001b[39;00m\n\u001b[1;32m   1523\u001b[0m \u001b[38;5;66;03m# this function, and just call forward.\u001b[39;00m\n\u001b[1;32m   1524\u001b[0m \u001b[38;5;28;01mif\u001b[39;00m \u001b[38;5;129;01mnot\u001b[39;00m (\u001b[38;5;28mself\u001b[39m\u001b[38;5;241m.\u001b[39m_backward_hooks \u001b[38;5;129;01mor\u001b[39;00m \u001b[38;5;28mself\u001b[39m\u001b[38;5;241m.\u001b[39m_backward_pre_hooks \u001b[38;5;129;01mor\u001b[39;00m \u001b[38;5;28mself\u001b[39m\u001b[38;5;241m.\u001b[39m_forward_hooks \u001b[38;5;129;01mor\u001b[39;00m \u001b[38;5;28mself\u001b[39m\u001b[38;5;241m.\u001b[39m_forward_pre_hooks\n\u001b[1;32m   1525\u001b[0m         \u001b[38;5;129;01mor\u001b[39;00m _global_backward_pre_hooks \u001b[38;5;129;01mor\u001b[39;00m _global_backward_hooks\n\u001b[1;32m   1526\u001b[0m         \u001b[38;5;129;01mor\u001b[39;00m _global_forward_hooks \u001b[38;5;129;01mor\u001b[39;00m _global_forward_pre_hooks):\n\u001b[0;32m-> 1527\u001b[0m     \u001b[38;5;28;01mreturn\u001b[39;00m \u001b[43mforward_call\u001b[49m\u001b[43m(\u001b[49m\u001b[38;5;241;43m*\u001b[39;49m\u001b[43margs\u001b[49m\u001b[43m,\u001b[49m\u001b[43m \u001b[49m\u001b[38;5;241;43m*\u001b[39;49m\u001b[38;5;241;43m*\u001b[39;49m\u001b[43mkwargs\u001b[49m\u001b[43m)\u001b[49m\n\u001b[1;32m   1529\u001b[0m \u001b[38;5;28;01mtry\u001b[39;00m:\n\u001b[1;32m   1530\u001b[0m     result \u001b[38;5;241m=\u001b[39m \u001b[38;5;28;01mNone\u001b[39;00m\n",
            "File \u001b[0;32m/opt/conda/lib/python3.10/site-packages/opr/modules/feature_extractors/convnext.py:48\u001b[0m, in \u001b[0;36mConvNeXtTinyFeatureExtractor.forward\u001b[0;34m(self, image)\u001b[0m\n\u001b[1;32m     47\u001b[0m \u001b[38;5;28;01mdef\u001b[39;00m \u001b[38;5;21mforward\u001b[39m(\u001b[38;5;28mself\u001b[39m, image: Tensor) \u001b[38;5;241m-\u001b[39m\u001b[38;5;241m>\u001b[39m Tensor:  \u001b[38;5;66;03m# noqa: D102\u001b[39;00m\n\u001b[0;32m---> 48\u001b[0m     \u001b[38;5;28;01mreturn\u001b[39;00m \u001b[38;5;28;43mself\u001b[39;49m\u001b[38;5;241;43m.\u001b[39;49m\u001b[43mfeature_extractor\u001b[49m\u001b[43m(\u001b[49m\u001b[43mimage\u001b[49m\u001b[43m)\u001b[49m\n",
            "File \u001b[0;32m/opt/conda/lib/python3.10/site-packages/torch/nn/modules/module.py:1518\u001b[0m, in \u001b[0;36mModule._wrapped_call_impl\u001b[0;34m(self, *args, **kwargs)\u001b[0m\n\u001b[1;32m   1516\u001b[0m     \u001b[38;5;28;01mreturn\u001b[39;00m \u001b[38;5;28mself\u001b[39m\u001b[38;5;241m.\u001b[39m_compiled_call_impl(\u001b[38;5;241m*\u001b[39margs, \u001b[38;5;241m*\u001b[39m\u001b[38;5;241m*\u001b[39mkwargs)  \u001b[38;5;66;03m# type: ignore[misc]\u001b[39;00m\n\u001b[1;32m   1517\u001b[0m \u001b[38;5;28;01melse\u001b[39;00m:\n\u001b[0;32m-> 1518\u001b[0m     \u001b[38;5;28;01mreturn\u001b[39;00m \u001b[38;5;28;43mself\u001b[39;49m\u001b[38;5;241;43m.\u001b[39;49m\u001b[43m_call_impl\u001b[49m\u001b[43m(\u001b[49m\u001b[38;5;241;43m*\u001b[39;49m\u001b[43margs\u001b[49m\u001b[43m,\u001b[49m\u001b[43m \u001b[49m\u001b[38;5;241;43m*\u001b[39;49m\u001b[38;5;241;43m*\u001b[39;49m\u001b[43mkwargs\u001b[49m\u001b[43m)\u001b[49m\n",
            "File \u001b[0;32m/opt/conda/lib/python3.10/site-packages/torch/nn/modules/module.py:1527\u001b[0m, in \u001b[0;36mModule._call_impl\u001b[0;34m(self, *args, **kwargs)\u001b[0m\n\u001b[1;32m   1522\u001b[0m \u001b[38;5;66;03m# If we don't have any hooks, we want to skip the rest of the logic in\u001b[39;00m\n\u001b[1;32m   1523\u001b[0m \u001b[38;5;66;03m# this function, and just call forward.\u001b[39;00m\n\u001b[1;32m   1524\u001b[0m \u001b[38;5;28;01mif\u001b[39;00m \u001b[38;5;129;01mnot\u001b[39;00m (\u001b[38;5;28mself\u001b[39m\u001b[38;5;241m.\u001b[39m_backward_hooks \u001b[38;5;129;01mor\u001b[39;00m \u001b[38;5;28mself\u001b[39m\u001b[38;5;241m.\u001b[39m_backward_pre_hooks \u001b[38;5;129;01mor\u001b[39;00m \u001b[38;5;28mself\u001b[39m\u001b[38;5;241m.\u001b[39m_forward_hooks \u001b[38;5;129;01mor\u001b[39;00m \u001b[38;5;28mself\u001b[39m\u001b[38;5;241m.\u001b[39m_forward_pre_hooks\n\u001b[1;32m   1525\u001b[0m         \u001b[38;5;129;01mor\u001b[39;00m _global_backward_pre_hooks \u001b[38;5;129;01mor\u001b[39;00m _global_backward_hooks\n\u001b[1;32m   1526\u001b[0m         \u001b[38;5;129;01mor\u001b[39;00m _global_forward_hooks \u001b[38;5;129;01mor\u001b[39;00m _global_forward_pre_hooks):\n\u001b[0;32m-> 1527\u001b[0m     \u001b[38;5;28;01mreturn\u001b[39;00m \u001b[43mforward_call\u001b[49m\u001b[43m(\u001b[49m\u001b[38;5;241;43m*\u001b[39;49m\u001b[43margs\u001b[49m\u001b[43m,\u001b[49m\u001b[43m \u001b[49m\u001b[38;5;241;43m*\u001b[39;49m\u001b[38;5;241;43m*\u001b[39;49m\u001b[43mkwargs\u001b[49m\u001b[43m)\u001b[49m\n\u001b[1;32m   1529\u001b[0m \u001b[38;5;28;01mtry\u001b[39;00m:\n\u001b[1;32m   1530\u001b[0m     result \u001b[38;5;241m=\u001b[39m \u001b[38;5;28;01mNone\u001b[39;00m\n",
            "File \u001b[0;32m/opt/conda/lib/python3.10/site-packages/torch/nn/modules/container.py:215\u001b[0m, in \u001b[0;36mSequential.forward\u001b[0;34m(self, input)\u001b[0m\n\u001b[1;32m    213\u001b[0m \u001b[38;5;28;01mdef\u001b[39;00m \u001b[38;5;21mforward\u001b[39m(\u001b[38;5;28mself\u001b[39m, \u001b[38;5;28minput\u001b[39m):\n\u001b[1;32m    214\u001b[0m     \u001b[38;5;28;01mfor\u001b[39;00m module \u001b[38;5;129;01min\u001b[39;00m \u001b[38;5;28mself\u001b[39m:\n\u001b[0;32m--> 215\u001b[0m         \u001b[38;5;28minput\u001b[39m \u001b[38;5;241m=\u001b[39m \u001b[43mmodule\u001b[49m\u001b[43m(\u001b[49m\u001b[38;5;28;43minput\u001b[39;49m\u001b[43m)\u001b[49m\n\u001b[1;32m    216\u001b[0m     \u001b[38;5;28;01mreturn\u001b[39;00m \u001b[38;5;28minput\u001b[39m\n",
            "File \u001b[0;32m/opt/conda/lib/python3.10/site-packages/torch/nn/modules/module.py:1518\u001b[0m, in \u001b[0;36mModule._wrapped_call_impl\u001b[0;34m(self, *args, **kwargs)\u001b[0m\n\u001b[1;32m   1516\u001b[0m     \u001b[38;5;28;01mreturn\u001b[39;00m \u001b[38;5;28mself\u001b[39m\u001b[38;5;241m.\u001b[39m_compiled_call_impl(\u001b[38;5;241m*\u001b[39margs, \u001b[38;5;241m*\u001b[39m\u001b[38;5;241m*\u001b[39mkwargs)  \u001b[38;5;66;03m# type: ignore[misc]\u001b[39;00m\n\u001b[1;32m   1517\u001b[0m \u001b[38;5;28;01melse\u001b[39;00m:\n\u001b[0;32m-> 1518\u001b[0m     \u001b[38;5;28;01mreturn\u001b[39;00m \u001b[38;5;28;43mself\u001b[39;49m\u001b[38;5;241;43m.\u001b[39;49m\u001b[43m_call_impl\u001b[49m\u001b[43m(\u001b[49m\u001b[38;5;241;43m*\u001b[39;49m\u001b[43margs\u001b[49m\u001b[43m,\u001b[49m\u001b[43m \u001b[49m\u001b[38;5;241;43m*\u001b[39;49m\u001b[38;5;241;43m*\u001b[39;49m\u001b[43mkwargs\u001b[49m\u001b[43m)\u001b[49m\n",
            "File \u001b[0;32m/opt/conda/lib/python3.10/site-packages/torch/nn/modules/module.py:1527\u001b[0m, in \u001b[0;36mModule._call_impl\u001b[0;34m(self, *args, **kwargs)\u001b[0m\n\u001b[1;32m   1522\u001b[0m \u001b[38;5;66;03m# If we don't have any hooks, we want to skip the rest of the logic in\u001b[39;00m\n\u001b[1;32m   1523\u001b[0m \u001b[38;5;66;03m# this function, and just call forward.\u001b[39;00m\n\u001b[1;32m   1524\u001b[0m \u001b[38;5;28;01mif\u001b[39;00m \u001b[38;5;129;01mnot\u001b[39;00m (\u001b[38;5;28mself\u001b[39m\u001b[38;5;241m.\u001b[39m_backward_hooks \u001b[38;5;129;01mor\u001b[39;00m \u001b[38;5;28mself\u001b[39m\u001b[38;5;241m.\u001b[39m_backward_pre_hooks \u001b[38;5;129;01mor\u001b[39;00m \u001b[38;5;28mself\u001b[39m\u001b[38;5;241m.\u001b[39m_forward_hooks \u001b[38;5;129;01mor\u001b[39;00m \u001b[38;5;28mself\u001b[39m\u001b[38;5;241m.\u001b[39m_forward_pre_hooks\n\u001b[1;32m   1525\u001b[0m         \u001b[38;5;129;01mor\u001b[39;00m _global_backward_pre_hooks \u001b[38;5;129;01mor\u001b[39;00m _global_backward_hooks\n\u001b[1;32m   1526\u001b[0m         \u001b[38;5;129;01mor\u001b[39;00m _global_forward_hooks \u001b[38;5;129;01mor\u001b[39;00m _global_forward_pre_hooks):\n\u001b[0;32m-> 1527\u001b[0m     \u001b[38;5;28;01mreturn\u001b[39;00m \u001b[43mforward_call\u001b[49m\u001b[43m(\u001b[49m\u001b[38;5;241;43m*\u001b[39;49m\u001b[43margs\u001b[49m\u001b[43m,\u001b[49m\u001b[43m \u001b[49m\u001b[38;5;241;43m*\u001b[39;49m\u001b[38;5;241;43m*\u001b[39;49m\u001b[43mkwargs\u001b[49m\u001b[43m)\u001b[49m\n\u001b[1;32m   1529\u001b[0m \u001b[38;5;28;01mtry\u001b[39;00m:\n\u001b[1;32m   1530\u001b[0m     result \u001b[38;5;241m=\u001b[39m \u001b[38;5;28;01mNone\u001b[39;00m\n",
            "File \u001b[0;32m/opt/conda/lib/python3.10/site-packages/torch/nn/modules/container.py:215\u001b[0m, in \u001b[0;36mSequential.forward\u001b[0;34m(self, input)\u001b[0m\n\u001b[1;32m    213\u001b[0m \u001b[38;5;28;01mdef\u001b[39;00m \u001b[38;5;21mforward\u001b[39m(\u001b[38;5;28mself\u001b[39m, \u001b[38;5;28minput\u001b[39m):\n\u001b[1;32m    214\u001b[0m     \u001b[38;5;28;01mfor\u001b[39;00m module \u001b[38;5;129;01min\u001b[39;00m \u001b[38;5;28mself\u001b[39m:\n\u001b[0;32m--> 215\u001b[0m         \u001b[38;5;28minput\u001b[39m \u001b[38;5;241m=\u001b[39m \u001b[43mmodule\u001b[49m\u001b[43m(\u001b[49m\u001b[38;5;28;43minput\u001b[39;49m\u001b[43m)\u001b[49m\n\u001b[1;32m    216\u001b[0m     \u001b[38;5;28;01mreturn\u001b[39;00m \u001b[38;5;28minput\u001b[39m\n",
            "File \u001b[0;32m/opt/conda/lib/python3.10/site-packages/torch/nn/modules/module.py:1518\u001b[0m, in \u001b[0;36mModule._wrapped_call_impl\u001b[0;34m(self, *args, **kwargs)\u001b[0m\n\u001b[1;32m   1516\u001b[0m     \u001b[38;5;28;01mreturn\u001b[39;00m \u001b[38;5;28mself\u001b[39m\u001b[38;5;241m.\u001b[39m_compiled_call_impl(\u001b[38;5;241m*\u001b[39margs, \u001b[38;5;241m*\u001b[39m\u001b[38;5;241m*\u001b[39mkwargs)  \u001b[38;5;66;03m# type: ignore[misc]\u001b[39;00m\n\u001b[1;32m   1517\u001b[0m \u001b[38;5;28;01melse\u001b[39;00m:\n\u001b[0;32m-> 1518\u001b[0m     \u001b[38;5;28;01mreturn\u001b[39;00m \u001b[38;5;28;43mself\u001b[39;49m\u001b[38;5;241;43m.\u001b[39;49m\u001b[43m_call_impl\u001b[49m\u001b[43m(\u001b[49m\u001b[38;5;241;43m*\u001b[39;49m\u001b[43margs\u001b[49m\u001b[43m,\u001b[49m\u001b[43m \u001b[49m\u001b[38;5;241;43m*\u001b[39;49m\u001b[38;5;241;43m*\u001b[39;49m\u001b[43mkwargs\u001b[49m\u001b[43m)\u001b[49m\n",
            "File \u001b[0;32m/opt/conda/lib/python3.10/site-packages/torch/nn/modules/module.py:1527\u001b[0m, in \u001b[0;36mModule._call_impl\u001b[0;34m(self, *args, **kwargs)\u001b[0m\n\u001b[1;32m   1522\u001b[0m \u001b[38;5;66;03m# If we don't have any hooks, we want to skip the rest of the logic in\u001b[39;00m\n\u001b[1;32m   1523\u001b[0m \u001b[38;5;66;03m# this function, and just call forward.\u001b[39;00m\n\u001b[1;32m   1524\u001b[0m \u001b[38;5;28;01mif\u001b[39;00m \u001b[38;5;129;01mnot\u001b[39;00m (\u001b[38;5;28mself\u001b[39m\u001b[38;5;241m.\u001b[39m_backward_hooks \u001b[38;5;129;01mor\u001b[39;00m \u001b[38;5;28mself\u001b[39m\u001b[38;5;241m.\u001b[39m_backward_pre_hooks \u001b[38;5;129;01mor\u001b[39;00m \u001b[38;5;28mself\u001b[39m\u001b[38;5;241m.\u001b[39m_forward_hooks \u001b[38;5;129;01mor\u001b[39;00m \u001b[38;5;28mself\u001b[39m\u001b[38;5;241m.\u001b[39m_forward_pre_hooks\n\u001b[1;32m   1525\u001b[0m         \u001b[38;5;129;01mor\u001b[39;00m _global_backward_pre_hooks \u001b[38;5;129;01mor\u001b[39;00m _global_backward_hooks\n\u001b[1;32m   1526\u001b[0m         \u001b[38;5;129;01mor\u001b[39;00m _global_forward_hooks \u001b[38;5;129;01mor\u001b[39;00m _global_forward_pre_hooks):\n\u001b[0;32m-> 1527\u001b[0m     \u001b[38;5;28;01mreturn\u001b[39;00m \u001b[43mforward_call\u001b[49m\u001b[43m(\u001b[49m\u001b[38;5;241;43m*\u001b[39;49m\u001b[43margs\u001b[49m\u001b[43m,\u001b[49m\u001b[43m \u001b[49m\u001b[38;5;241;43m*\u001b[39;49m\u001b[38;5;241;43m*\u001b[39;49m\u001b[43mkwargs\u001b[49m\u001b[43m)\u001b[49m\n\u001b[1;32m   1529\u001b[0m \u001b[38;5;28;01mtry\u001b[39;00m:\n\u001b[1;32m   1530\u001b[0m     result \u001b[38;5;241m=\u001b[39m \u001b[38;5;28;01mNone\u001b[39;00m\n",
            "File \u001b[0;32m/opt/conda/lib/python3.10/site-packages/torchvision/models/convnext.py:64\u001b[0m, in \u001b[0;36mCNBlock.forward\u001b[0;34m(self, input)\u001b[0m\n\u001b[1;32m     62\u001b[0m \u001b[38;5;28;01mdef\u001b[39;00m \u001b[38;5;21mforward\u001b[39m(\u001b[38;5;28mself\u001b[39m, \u001b[38;5;28minput\u001b[39m: Tensor) \u001b[38;5;241m-\u001b[39m\u001b[38;5;241m>\u001b[39m Tensor:\n\u001b[1;32m     63\u001b[0m     result \u001b[38;5;241m=\u001b[39m \u001b[38;5;28mself\u001b[39m\u001b[38;5;241m.\u001b[39mlayer_scale \u001b[38;5;241m*\u001b[39m \u001b[38;5;28mself\u001b[39m\u001b[38;5;241m.\u001b[39mblock(\u001b[38;5;28minput\u001b[39m)\n\u001b[0;32m---> 64\u001b[0m     result \u001b[38;5;241m=\u001b[39m \u001b[38;5;28;43mself\u001b[39;49m\u001b[38;5;241;43m.\u001b[39;49m\u001b[43mstochastic_depth\u001b[49m\u001b[43m(\u001b[49m\u001b[43mresult\u001b[49m\u001b[43m)\u001b[49m\n\u001b[1;32m     65\u001b[0m     result \u001b[38;5;241m+\u001b[39m\u001b[38;5;241m=\u001b[39m \u001b[38;5;28minput\u001b[39m\n\u001b[1;32m     66\u001b[0m     \u001b[38;5;28;01mreturn\u001b[39;00m result\n",
            "File \u001b[0;32m/opt/conda/lib/python3.10/site-packages/torch/nn/modules/module.py:1518\u001b[0m, in \u001b[0;36mModule._wrapped_call_impl\u001b[0;34m(self, *args, **kwargs)\u001b[0m\n\u001b[1;32m   1516\u001b[0m     \u001b[38;5;28;01mreturn\u001b[39;00m \u001b[38;5;28mself\u001b[39m\u001b[38;5;241m.\u001b[39m_compiled_call_impl(\u001b[38;5;241m*\u001b[39margs, \u001b[38;5;241m*\u001b[39m\u001b[38;5;241m*\u001b[39mkwargs)  \u001b[38;5;66;03m# type: ignore[misc]\u001b[39;00m\n\u001b[1;32m   1517\u001b[0m \u001b[38;5;28;01melse\u001b[39;00m:\n\u001b[0;32m-> 1518\u001b[0m     \u001b[38;5;28;01mreturn\u001b[39;00m \u001b[38;5;28;43mself\u001b[39;49m\u001b[38;5;241;43m.\u001b[39;49m\u001b[43m_call_impl\u001b[49m\u001b[43m(\u001b[49m\u001b[38;5;241;43m*\u001b[39;49m\u001b[43margs\u001b[49m\u001b[43m,\u001b[49m\u001b[43m \u001b[49m\u001b[38;5;241;43m*\u001b[39;49m\u001b[38;5;241;43m*\u001b[39;49m\u001b[43mkwargs\u001b[49m\u001b[43m)\u001b[49m\n",
            "File \u001b[0;32m/opt/conda/lib/python3.10/site-packages/torch/nn/modules/module.py:1527\u001b[0m, in \u001b[0;36mModule._call_impl\u001b[0;34m(self, *args, **kwargs)\u001b[0m\n\u001b[1;32m   1522\u001b[0m \u001b[38;5;66;03m# If we don't have any hooks, we want to skip the rest of the logic in\u001b[39;00m\n\u001b[1;32m   1523\u001b[0m \u001b[38;5;66;03m# this function, and just call forward.\u001b[39;00m\n\u001b[1;32m   1524\u001b[0m \u001b[38;5;28;01mif\u001b[39;00m \u001b[38;5;129;01mnot\u001b[39;00m (\u001b[38;5;28mself\u001b[39m\u001b[38;5;241m.\u001b[39m_backward_hooks \u001b[38;5;129;01mor\u001b[39;00m \u001b[38;5;28mself\u001b[39m\u001b[38;5;241m.\u001b[39m_backward_pre_hooks \u001b[38;5;129;01mor\u001b[39;00m \u001b[38;5;28mself\u001b[39m\u001b[38;5;241m.\u001b[39m_forward_hooks \u001b[38;5;129;01mor\u001b[39;00m \u001b[38;5;28mself\u001b[39m\u001b[38;5;241m.\u001b[39m_forward_pre_hooks\n\u001b[1;32m   1525\u001b[0m         \u001b[38;5;129;01mor\u001b[39;00m _global_backward_pre_hooks \u001b[38;5;129;01mor\u001b[39;00m _global_backward_hooks\n\u001b[1;32m   1526\u001b[0m         \u001b[38;5;129;01mor\u001b[39;00m _global_forward_hooks \u001b[38;5;129;01mor\u001b[39;00m _global_forward_pre_hooks):\n\u001b[0;32m-> 1527\u001b[0m     \u001b[38;5;28;01mreturn\u001b[39;00m \u001b[43mforward_call\u001b[49m\u001b[43m(\u001b[49m\u001b[38;5;241;43m*\u001b[39;49m\u001b[43margs\u001b[49m\u001b[43m,\u001b[49m\u001b[43m \u001b[49m\u001b[38;5;241;43m*\u001b[39;49m\u001b[38;5;241;43m*\u001b[39;49m\u001b[43mkwargs\u001b[49m\u001b[43m)\u001b[49m\n\u001b[1;32m   1529\u001b[0m \u001b[38;5;28;01mtry\u001b[39;00m:\n\u001b[1;32m   1530\u001b[0m     result \u001b[38;5;241m=\u001b[39m \u001b[38;5;28;01mNone\u001b[39;00m\n",
            "File \u001b[0;32m/opt/conda/lib/python3.10/site-packages/torchvision/ops/stochastic_depth.py:62\u001b[0m, in \u001b[0;36mStochasticDepth.forward\u001b[0;34m(self, input)\u001b[0m\n\u001b[1;32m     61\u001b[0m \u001b[38;5;28;01mdef\u001b[39;00m \u001b[38;5;21mforward\u001b[39m(\u001b[38;5;28mself\u001b[39m, \u001b[38;5;28minput\u001b[39m: Tensor) \u001b[38;5;241m-\u001b[39m\u001b[38;5;241m>\u001b[39m Tensor:\n\u001b[0;32m---> 62\u001b[0m     \u001b[38;5;28;01mreturn\u001b[39;00m \u001b[43mstochastic_depth\u001b[49m\u001b[43m(\u001b[49m\u001b[38;5;28;43minput\u001b[39;49m\u001b[43m,\u001b[49m\u001b[43m \u001b[49m\u001b[38;5;28;43mself\u001b[39;49m\u001b[38;5;241;43m.\u001b[39;49m\u001b[43mp\u001b[49m\u001b[43m,\u001b[49m\u001b[43m \u001b[49m\u001b[38;5;28;43mself\u001b[39;49m\u001b[38;5;241;43m.\u001b[39;49m\u001b[43mmode\u001b[49m\u001b[43m,\u001b[49m\u001b[43m \u001b[49m\u001b[38;5;28;43mself\u001b[39;49m\u001b[38;5;241;43m.\u001b[39;49m\u001b[43mtraining\u001b[49m\u001b[43m)\u001b[49m\n",
            "File \u001b[0;32m/opt/conda/lib/python3.10/site-packages/torchvision/ops/stochastic_depth.py:44\u001b[0m, in \u001b[0;36mstochastic_depth\u001b[0;34m(input, p, mode, training)\u001b[0m\n\u001b[1;32m     42\u001b[0m \u001b[38;5;28;01mif\u001b[39;00m survival_rate \u001b[38;5;241m>\u001b[39m \u001b[38;5;241m0.0\u001b[39m:\n\u001b[1;32m     43\u001b[0m     noise\u001b[38;5;241m.\u001b[39mdiv_(survival_rate)\n\u001b[0;32m---> 44\u001b[0m \u001b[38;5;28;01mreturn\u001b[39;00m \u001b[38;5;28;43minput\u001b[39;49m\u001b[43m \u001b[49m\u001b[38;5;241;43m*\u001b[39;49m\u001b[43m \u001b[49m\u001b[43mnoise\u001b[49m\n",
            "\u001b[0;31mOutOfMemoryError\u001b[0m: CUDA out of memory. Tried to allocate 24.00 MiB. GPU 0 has a total capacty of 15.89 GiB of which 34.12 MiB is free. Process 2372 has 15.86 GiB memory in use. Of the allocated memory 15.17 GiB is allocated by PyTorch, and 403.05 MiB is reserved by PyTorch but unallocated. If reserved but unallocated memory is large try setting max_split_size_mb to avoid fragmentation.  See documentation for Memory Management and PYTORCH_CUDA_ALLOC_CONF"
          ],
          "ename": "OutOfMemoryError",
          "evalue": "CUDA out of memory. Tried to allocate 24.00 MiB. GPU 0 has a total capacty of 15.89 GiB of which 34.12 MiB is free. Process 2372 has 15.86 GiB memory in use. Of the allocated memory 15.17 GiB is allocated by PyTorch, and 403.05 MiB is reserved by PyTorch but unallocated. If reserved but unallocated memory is large try setting max_split_size_mb to avoid fragmentation.  See documentation for Memory Management and PYTORCH_CUDA_ALLOC_CONF",
          "output_type": "error"
        }
      ]
    },
    {
      "cell_type": "code",
      "source": [
        "trainer.test(test_dl, distance_threshold=5)"
      ],
      "metadata": {
        "execution": {
          "iopub.status.busy": "2024-07-03T15:51:49.095060Z",
          "iopub.execute_input": "2024-07-03T15:51:49.095554Z",
          "iopub.status.idle": "2024-07-03T15:52:24.365185Z",
          "shell.execute_reply.started": "2024-07-03T15:51:49.095514Z",
          "shell.execute_reply": "2024-07-03T15:52:24.363865Z"
        },
        "trusted": true,
        "id": "o-dZ0QZpIIvQ",
        "outputId": "d54997f7-c7ff-4696-9ced-86f74564fc36"
      },
      "execution_count": null,
      "outputs": [
        {
          "name": "stderr",
          "text": "\u001b[32m2024-07-03 15:51:49.097\u001b[0m | \u001b[1mINFO    \u001b[0m | \u001b[36mopr.trainers.place_recognition.unimodal\u001b[0m:\u001b[36mtest\u001b[0m:\u001b[36m172\u001b[0m - \u001b[1m=> Test stage:\u001b[0m\n                                                                       \r",
          "output_type": "stream"
        },
        {
          "traceback": [
            "\u001b[0;31m---------------------------------------------------------------------------\u001b[0m",
            "\u001b[0;31mOutOfMemoryError\u001b[0m                          Traceback (most recent call last)",
            "Cell \u001b[0;32mIn[101], line 1\u001b[0m\n\u001b[0;32m----> 1\u001b[0m \u001b[43mtrainer\u001b[49m\u001b[38;5;241;43m.\u001b[39;49m\u001b[43mtest\u001b[49m\u001b[43m(\u001b[49m\u001b[43mtest_dl\u001b[49m\u001b[43m,\u001b[49m\u001b[43m \u001b[49m\u001b[43mdistance_threshold\u001b[49m\u001b[38;5;241;43m=\u001b[39;49m\u001b[38;5;241;43m5\u001b[39;49m\u001b[43m)\u001b[49m\n",
            "File \u001b[0;32m/opt/conda/lib/python3.10/site-packages/opr/trainers/place_recognition/unimodal.py:178\u001b[0m, in \u001b[0;36mUnimodalPlaceRecognitionTrainer.test\u001b[0;34m(self, dataloader, distance_threshold)\u001b[0m\n\u001b[1;32m    176\u001b[0m embeddings_list \u001b[38;5;241m=\u001b[39m []\n\u001b[1;32m    177\u001b[0m \u001b[38;5;28;01mfor\u001b[39;00m batch \u001b[38;5;129;01min\u001b[39;00m tqdm(dataloader, desc\u001b[38;5;241m=\u001b[39m\u001b[38;5;124m\"\u001b[39m\u001b[38;5;124mCalculating test set descriptors\u001b[39m\u001b[38;5;124m\"\u001b[39m, leave\u001b[38;5;241m=\u001b[39m\u001b[38;5;28;01mFalse\u001b[39;00m):\n\u001b[0;32m--> 178\u001b[0m     batch \u001b[38;5;241m=\u001b[39m {e: batch[e]\u001b[38;5;241m.\u001b[39mto(\u001b[38;5;28mself\u001b[39m\u001b[38;5;241m.\u001b[39mdevice) \u001b[38;5;28;01mfor\u001b[39;00m e \u001b[38;5;129;01min\u001b[39;00m batch}\n\u001b[1;32m    179\u001b[0m     embeddings \u001b[38;5;241m=\u001b[39m \u001b[38;5;28mself\u001b[39m\u001b[38;5;241m.\u001b[39mmodel(batch)[\u001b[38;5;124m\"\u001b[39m\u001b[38;5;124mfinal_descriptor\u001b[39m\u001b[38;5;124m\"\u001b[39m]\n\u001b[1;32m    180\u001b[0m     embeddings_list\u001b[38;5;241m.\u001b[39mappend(embeddings\u001b[38;5;241m.\u001b[39mcpu()\u001b[38;5;241m.\u001b[39mnumpy())\n",
            "File \u001b[0;32m/opt/conda/lib/python3.10/site-packages/opr/trainers/place_recognition/unimodal.py:178\u001b[0m, in \u001b[0;36m<dictcomp>\u001b[0;34m(.0)\u001b[0m\n\u001b[1;32m    176\u001b[0m embeddings_list \u001b[38;5;241m=\u001b[39m []\n\u001b[1;32m    177\u001b[0m \u001b[38;5;28;01mfor\u001b[39;00m batch \u001b[38;5;129;01min\u001b[39;00m tqdm(dataloader, desc\u001b[38;5;241m=\u001b[39m\u001b[38;5;124m\"\u001b[39m\u001b[38;5;124mCalculating test set descriptors\u001b[39m\u001b[38;5;124m\"\u001b[39m, leave\u001b[38;5;241m=\u001b[39m\u001b[38;5;28;01mFalse\u001b[39;00m):\n\u001b[0;32m--> 178\u001b[0m     batch \u001b[38;5;241m=\u001b[39m {e: \u001b[43mbatch\u001b[49m\u001b[43m[\u001b[49m\u001b[43me\u001b[49m\u001b[43m]\u001b[49m\u001b[38;5;241;43m.\u001b[39;49m\u001b[43mto\u001b[49m\u001b[43m(\u001b[49m\u001b[38;5;28;43mself\u001b[39;49m\u001b[38;5;241;43m.\u001b[39;49m\u001b[43mdevice\u001b[49m\u001b[43m)\u001b[49m \u001b[38;5;28;01mfor\u001b[39;00m e \u001b[38;5;129;01min\u001b[39;00m batch}\n\u001b[1;32m    179\u001b[0m     embeddings \u001b[38;5;241m=\u001b[39m \u001b[38;5;28mself\u001b[39m\u001b[38;5;241m.\u001b[39mmodel(batch)[\u001b[38;5;124m\"\u001b[39m\u001b[38;5;124mfinal_descriptor\u001b[39m\u001b[38;5;124m\"\u001b[39m]\n\u001b[1;32m    180\u001b[0m     embeddings_list\u001b[38;5;241m.\u001b[39mappend(embeddings\u001b[38;5;241m.\u001b[39mcpu()\u001b[38;5;241m.\u001b[39mnumpy())\n",
            "\u001b[0;31mOutOfMemoryError\u001b[0m: CUDA out of memory. Tried to allocate 180.00 MiB. GPU 0 has a total capacty of 15.89 GiB of which 34.12 MiB is free. Process 2372 has 15.86 GiB memory in use. Of the allocated memory 15.17 GiB is allocated by PyTorch, and 403.04 MiB is reserved by PyTorch but unallocated. If reserved but unallocated memory is large try setting max_split_size_mb to avoid fragmentation.  See documentation for Memory Management and PYTORCH_CUDA_ALLOC_CONF"
          ],
          "ename": "OutOfMemoryError",
          "evalue": "CUDA out of memory. Tried to allocate 180.00 MiB. GPU 0 has a total capacty of 15.89 GiB of which 34.12 MiB is free. Process 2372 has 15.86 GiB memory in use. Of the allocated memory 15.17 GiB is allocated by PyTorch, and 403.04 MiB is reserved by PyTorch but unallocated. If reserved but unallocated memory is large try setting max_split_size_mb to avoid fragmentation.  See documentation for Memory Management and PYTORCH_CUDA_ALLOC_CONF",
          "output_type": "error"
        }
      ]
    },
    {
      "cell_type": "code",
      "source": [
        "!pip install faiss-cpu"
      ],
      "metadata": {
        "id": "VEvDUnRrMBeE"
      },
      "execution_count": null,
      "outputs": []
    },
    {
      "cell_type": "code",
      "source": [
        "import itertools\n",
        "import pandas as pd\n",
        "import numpy as np\n",
        "import torch\n",
        "from tqdm import tqdm\n",
        "import faiss\n",
        "\n",
        "def extract_embeddings(model, descriptor_key, dataloader, device):\n",
        "    model = model.to(device)\n",
        "    model.eval()\n",
        "    with torch.no_grad():\n",
        "        test_embeddings_list = []\n",
        "        for data in tqdm(dataloader, desc=\"Calculating test set descriptors\"):\n",
        "            batch = data\n",
        "            batch = {e: batch[e].to(device) for e in batch}\n",
        "            batch_embeddings = model(batch)\n",
        "            test_embeddings_list.append(batch_embeddings[descriptor_key].cpu().numpy())\n",
        "        test_embeddings = np.vstack(test_embeddings_list)\n",
        "    return test_embeddings\n",
        "\n",
        "def test_submission(\n",
        "    test_embeddings: np.ndarray, dataset_df: pd.DataFrame, filename: str = \"submission.txt\"\n",
        ") -> None:\n",
        "    \"\"\"Function to create submission txt file.\n",
        "\n",
        "    Args:\n",
        "        test_embeddings (np.ndarray): Array of embeddings.\n",
        "        dataset_df (pd.Dataframe): Test dataset dataframe ('test.csv').\n",
        "        filename (str): Name of the output txt file. Defaults to \"submission.txt\".\n",
        "    \"\"\"\n",
        "    tracks = []\n",
        "\n",
        "    for _, group in dataset_df.groupby(\"track\"):\n",
        "        tracks.append(group.index.to_numpy())\n",
        "    n = 1\n",
        "    ij_permutations = sorted(list(itertools.permutations(range(len(tracks)), 2)))\n",
        "    # ij_permutations = [(0, 1), (0, 2), (1, 0), (1, 2), (2, 0), (2, 1)]\n",
        "\n",
        "    submission_lines = []\n",
        "\n",
        "    for i, j in tqdm(ij_permutations, desc=\"Calculating metrics\"):\n",
        "        query_indices = tracks[i]\n",
        "        database_indices = tracks[j]\n",
        "        query_embs = test_embeddings[query_indices]\n",
        "        database_embs = test_embeddings[database_indices]\n",
        "\n",
        "        dimension = database_embs.shape[1]\n",
        "        index = faiss.IndexFlatL2(dimension)\n",
        "        index.add(database_embs)\n",
        "\n",
        "        _, indices = index.search(query_embs, n)\n",
        "\n",
        "        submission_lines.extend(list(database_indices[indices.squeeze()]))\n",
        "\n",
        "    with open(filename, \"w\") as f:\n",
        "        for l in submission_lines:\n",
        "            f.write(str(l)+\"\\n\")"
      ],
      "metadata": {
        "execution": {
          "iopub.status.busy": "2024-07-03T11:57:20.074422Z",
          "iopub.execute_input": "2024-07-03T11:57:20.074713Z",
          "iopub.status.idle": "2024-07-03T11:57:20.08684Z",
          "shell.execute_reply.started": "2024-07-03T11:57:20.074687Z",
          "shell.execute_reply": "2024-07-03T11:57:20.085969Z"
        },
        "trusted": true,
        "id": "zG2rH-GKIIvQ"
      },
      "execution_count": null,
      "outputs": []
    },
    {
      "cell_type": "code",
      "source": [
        "embeddings = extract_embeddings(model, descriptor_key=\"final_descriptor\", dataloader=test_dl, device='cuda')\n",
        "test_submission(embeddings, dataset_df=test_dl.dataset.dataset_df, filename=\"tuned_baseline_submission.txt\")"
      ],
      "metadata": {
        "execution": {
          "iopub.status.busy": "2024-07-03T11:57:20.088514Z",
          "iopub.execute_input": "2024-07-03T11:57:20.088786Z",
          "iopub.status.idle": "2024-07-03T11:59:10.818123Z",
          "shell.execute_reply.started": "2024-07-03T11:57:20.088763Z",
          "shell.execute_reply": "2024-07-03T11:59:10.817221Z"
        },
        "trusted": true,
        "id": "LhNzwf4pIIvQ"
      },
      "execution_count": null,
      "outputs": []
    },
    {
      "cell_type": "code",
      "source": [],
      "metadata": {
        "id": "hq3vozO3IIvR"
      },
      "execution_count": null,
      "outputs": []
    }
  ]
}