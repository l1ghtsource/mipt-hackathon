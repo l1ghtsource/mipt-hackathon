{
  "metadata": {
    "kernelspec": {
      "language": "python",
      "display_name": "Python 3",
      "name": "python3"
    },
    "language_info": {
      "name": "python",
      "version": "3.10.13",
      "mimetype": "text/x-python",
      "codemirror_mode": {
        "name": "ipython",
        "version": 3
      },
      "pygments_lexer": "ipython3",
      "nbconvert_exporter": "python",
      "file_extension": ".py"
    },
    "kaggle": {
      "accelerator": "gpu",
      "dataSources": [
        {
          "sourceId": 8846701,
          "sourceType": "datasetVersion",
          "datasetId": 5324734
        }
      ],
      "dockerImageVersionId": 30733,
      "isInternetEnabled": true,
      "language": "python",
      "sourceType": "notebook",
      "isGpuEnabled": true
    },
    "colab": {
      "provenance": []
    }
  },
  "nbformat_minor": 0,
  "nbformat": 4,
  "cells": [
    {
      "cell_type": "code",
      "source": [
        "!nvidia-smi"
      ],
      "metadata": {
        "_uuid": "8f2839f25d086af736a60e9eeb907d3b93b6e0e5",
        "_cell_guid": "b1076dfc-b9ad-4769-8c92-a6c4dae69d19",
        "execution": {
          "iopub.status.busy": "2024-07-03T18:54:32.833408Z",
          "iopub.execute_input": "2024-07-03T18:54:32.833804Z",
          "iopub.status.idle": "2024-07-03T18:54:34.044526Z",
          "shell.execute_reply.started": "2024-07-03T18:54:32.833770Z",
          "shell.execute_reply": "2024-07-03T18:54:34.043312Z"
        },
        "trusted": true,
        "id": "5BWRZNQISWty",
        "outputId": "158caebe-af9c-4fbb-f3b4-00ba104fdacd"
      },
      "execution_count": null,
      "outputs": [
        {
          "name": "stdout",
          "text": "Wed Jul  3 18:54:33 2024       \n+-----------------------------------------------------------------------------------------+\n| NVIDIA-SMI 550.90.07              Driver Version: 550.90.07      CUDA Version: 12.4     |\n|-----------------------------------------+------------------------+----------------------+\n| GPU  Name                 Persistence-M | Bus-Id          Disp.A | Volatile Uncorr. ECC |\n| Fan  Temp   Perf          Pwr:Usage/Cap |           Memory-Usage | GPU-Util  Compute M. |\n|                                         |                        |               MIG M. |\n|=========================================+========================+======================|\n|   0  Tesla P100-PCIE-16GB           Off |   00000000:00:04.0 Off |                    0 |\n| N/A   34C    P0             25W /  250W |       0MiB /  16384MiB |      0%      Default |\n|                                         |                        |                  N/A |\n+-----------------------------------------+------------------------+----------------------+\n                                                                                         \n+-----------------------------------------------------------------------------------------+\n| Processes:                                                                              |\n|  GPU   GI   CI        PID   Type   Process name                              GPU Memory |\n|        ID   ID                                                               Usage      |\n|=========================================================================================|\n|  No running processes found                                                             |\n+-----------------------------------------------------------------------------------------+\n",
          "output_type": "stream"
        }
      ]
    },
    {
      "cell_type": "code",
      "source": [
        "!sudo apt install build-essential python3-dev libopenblas-dev -y"
      ],
      "metadata": {
        "scrolled": true,
        "execution": {
          "iopub.status.busy": "2024-07-03T18:54:34.047431Z",
          "iopub.execute_input": "2024-07-03T18:54:34.048139Z",
          "iopub.status.idle": "2024-07-03T18:54:44.582248Z",
          "shell.execute_reply.started": "2024-07-03T18:54:34.048100Z",
          "shell.execute_reply": "2024-07-03T18:54:44.581058Z"
        },
        "trusted": true,
        "id": "F1vQQpPZSWt4"
      },
      "execution_count": null,
      "outputs": []
    },
    {
      "cell_type": "code",
      "source": [
        "!pip install torch ninja"
      ],
      "metadata": {
        "execution": {
          "iopub.status.busy": "2024-07-03T18:54:44.583777Z",
          "iopub.execute_input": "2024-07-03T18:54:44.584107Z",
          "iopub.status.idle": "2024-07-03T18:55:00.704448Z",
          "shell.execute_reply.started": "2024-07-03T18:54:44.584077Z",
          "shell.execute_reply": "2024-07-03T18:55:00.703179Z"
        },
        "trusted": true,
        "id": "whuVRgWiSWt6"
      },
      "execution_count": null,
      "outputs": []
    },
    {
      "cell_type": "code",
      "source": [
        "!pip install -U git+https://github.com/richlukich/MinkowskiEngine -v --no-deps \\\n",
        "                          --config-settings=\"--install-option=--force_cuda\" \\\n",
        "                          --config-settings=\"--install-option=--blas=openblas\""
      ],
      "metadata": {
        "scrolled": true,
        "execution": {
          "iopub.status.busy": "2024-07-03T18:55:00.708183Z",
          "iopub.execute_input": "2024-07-03T18:55:00.709120Z",
          "iopub.status.idle": "2024-07-03T19:06:32.447139Z",
          "shell.execute_reply.started": "2024-07-03T18:55:00.709084Z",
          "shell.execute_reply": "2024-07-03T19:06:32.445914Z"
        },
        "trusted": true,
        "id": "IrjtiqRCSWt7"
      },
      "execution_count": null,
      "outputs": []
    },
    {
      "cell_type": "code",
      "source": [
        "!pip install faiss-gpu\n",
        "!pip install loguru\n",
        "!pip install fuzzywuzzy\n",
        "!pip install paddlepaddle-gpu\n",
        "!pip install paddleocr\n",
        "!pip install numpy-quaternion\n",
        "!pip install dvc\n",
        "!pip install dvc_gdrive"
      ],
      "metadata": {
        "scrolled": true,
        "execution": {
          "iopub.status.busy": "2024-07-03T19:06:32.448978Z",
          "iopub.execute_input": "2024-07-03T19:06:32.449452Z",
          "iopub.status.idle": "2024-07-03T19:10:04.714354Z",
          "shell.execute_reply.started": "2024-07-03T19:06:32.449411Z",
          "shell.execute_reply": "2024-07-03T19:10:04.712935Z"
        },
        "trusted": true,
        "id": "pJerHO6uSWt9"
      },
      "execution_count": null,
      "outputs": []
    },
    {
      "cell_type": "code",
      "source": [
        "import torch\n",
        "import MinkowskiEngine as ME"
      ],
      "metadata": {
        "execution": {
          "iopub.status.busy": "2024-07-03T19:10:04.716422Z",
          "iopub.execute_input": "2024-07-03T19:10:04.716942Z",
          "iopub.status.idle": "2024-07-03T19:10:06.838525Z",
          "shell.execute_reply.started": "2024-07-03T19:10:04.716896Z",
          "shell.execute_reply": "2024-07-03T19:10:06.837442Z"
        },
        "trusted": true,
        "id": "qzwoVM0wSWt-"
      },
      "execution_count": null,
      "outputs": []
    },
    {
      "cell_type": "code",
      "source": [
        "DATA_ROOT = '/kaggle/input/itlp-campus-dataset/public'"
      ],
      "metadata": {
        "execution": {
          "iopub.status.busy": "2024-07-03T19:10:06.840407Z",
          "iopub.execute_input": "2024-07-03T19:10:06.841324Z",
          "iopub.status.idle": "2024-07-03T19:10:06.846476Z",
          "shell.execute_reply.started": "2024-07-03T19:10:06.841285Z",
          "shell.execute_reply": "2024-07-03T19:10:06.845491Z"
        },
        "trusted": true,
        "id": "LH_KwqwtSWt_"
      },
      "execution_count": null,
      "outputs": []
    },
    {
      "cell_type": "code",
      "source": [
        "import pandas as pd"
      ],
      "metadata": {
        "execution": {
          "iopub.status.busy": "2024-07-03T19:10:06.849911Z",
          "iopub.execute_input": "2024-07-03T19:10:06.853688Z",
          "iopub.status.idle": "2024-07-03T19:10:07.421953Z",
          "shell.execute_reply.started": "2024-07-03T19:10:06.853644Z",
          "shell.execute_reply": "2024-07-03T19:10:07.420798Z"
        },
        "trusted": true,
        "id": "ThbW7uOeSWt_"
      },
      "execution_count": null,
      "outputs": []
    },
    {
      "cell_type": "code",
      "source": [
        "train_df = pd.read_csv('/kaggle/input/itlp-campus-dataset/public/train.csv').drop(columns='Unnamed: 0')\n",
        "train_df"
      ],
      "metadata": {
        "execution": {
          "iopub.status.busy": "2024-07-03T19:10:07.423731Z",
          "iopub.execute_input": "2024-07-03T19:10:07.424372Z",
          "iopub.status.idle": "2024-07-03T19:10:07.520739Z",
          "shell.execute_reply.started": "2024-07-03T19:10:07.424328Z",
          "shell.execute_reply": "2024-07-03T19:10:07.519442Z"
        },
        "trusted": true,
        "id": "rM1crrooSWuA",
        "outputId": "f2aec128-fa21-4c44-dc79-7b6cca4ad448"
      },
      "execution_count": null,
      "outputs": [
        {
          "execution_count": 9,
          "output_type": "execute_result",
          "data": {
            "text/plain": "             timestamp                         track      front_cam_ts  \\\n0     1676034260851770  2023-02-10-08-04-19-twilight  1676034260821540   \n1     1676034268718093  2023-02-10-08-04-19-twilight  1676034268687989   \n2     1676034274365801  2023-02-10-08-04-19-twilight  1676034274404483   \n3     1676034280013503  2023-02-10-08-04-19-twilight  1676034280004376   \n4     1676034285358658  2023-02-10-08-04-19-twilight  1676034285387661   \n...                ...                           ...               ...   \n1354  1678905610167111     2023-03-15-13-25-48-night  1678905610166555   \n1355  1678905615814276     2023-03-15-13-25-48-night  1678905615783690   \n1356  1678905621059160     2023-03-15-13-25-48-night  1678905621067311   \n1357  1678905626909006     2023-03-15-13-25-48-night  1678905626884315   \n1358  1678905632657981     2023-03-15-13-25-48-night  1678905632684703   \n\n           back_cam_ts          tx         ty        tz        qx        qy  \\\n0     1676034260865870  -23.839826 -17.655232 -1.474530  0.013051  0.028187   \n1     1676034268708533  -19.060815 -19.003152 -2.513494  0.017344  0.019243   \n2     1676034274382407  -14.289875 -20.252643 -2.563523  0.019104  0.025107   \n3     1676034279987523  -10.200171 -17.323240 -2.689153  0.006686  0.016921   \n4     1676034285339092   -6.752502 -13.812644 -2.623646  0.003145  0.013536   \n...                ...         ...        ...       ...       ...       ...   \n1354  1678905610148946 -208.692754  19.746243 -2.661155  0.010751  0.021335   \n1355  1678905615831108 -204.946252  23.201232 -2.763870 -0.001526  0.012262   \n1356  1678905621028555 -200.439570  25.320586 -2.827866  0.000658  0.011407   \n1357  1678905626895739 -195.479406  26.327213 -2.666329  0.007004 -0.019667   \n1358  1678905632631545 -191.694618  23.119820 -2.412283  0.004840 -0.011440   \n\n            qz        qw        front_cam_text back_cam_text  \n0     0.003870  0.999510                    []            []  \n1    -0.121944  0.992199                    []            []  \n2     0.103990  0.994078                    []        ['KE']  \n3     0.394677  0.918640                    []        ['KB']  \n4     0.374985  0.926927                    []        ['KE']  \n...        ...       ...                   ...           ...  \n1354  0.389329  0.920789           ['АРКТИКА']            []  \n1355  0.270024  0.962774           ['АРКТИКА']            []  \n1356  0.146494  0.989146           ['АРКТИКА']            []  \n1357 -0.149021  0.988614           ['АВТОМАТ']            []  \n1358 -0.382727  0.923778  ['CENTRO', 'EUROPA']            []  \n\n[1359 rows x 13 columns]",
            "text/html": "<div>\n<style scoped>\n    .dataframe tbody tr th:only-of-type {\n        vertical-align: middle;\n    }\n\n    .dataframe tbody tr th {\n        vertical-align: top;\n    }\n\n    .dataframe thead th {\n        text-align: right;\n    }\n</style>\n<table border=\"1\" class=\"dataframe\">\n  <thead>\n    <tr style=\"text-align: right;\">\n      <th></th>\n      <th>timestamp</th>\n      <th>track</th>\n      <th>front_cam_ts</th>\n      <th>back_cam_ts</th>\n      <th>tx</th>\n      <th>ty</th>\n      <th>tz</th>\n      <th>qx</th>\n      <th>qy</th>\n      <th>qz</th>\n      <th>qw</th>\n      <th>front_cam_text</th>\n      <th>back_cam_text</th>\n    </tr>\n  </thead>\n  <tbody>\n    <tr>\n      <th>0</th>\n      <td>1676034260851770</td>\n      <td>2023-02-10-08-04-19-twilight</td>\n      <td>1676034260821540</td>\n      <td>1676034260865870</td>\n      <td>-23.839826</td>\n      <td>-17.655232</td>\n      <td>-1.474530</td>\n      <td>0.013051</td>\n      <td>0.028187</td>\n      <td>0.003870</td>\n      <td>0.999510</td>\n      <td>[]</td>\n      <td>[]</td>\n    </tr>\n    <tr>\n      <th>1</th>\n      <td>1676034268718093</td>\n      <td>2023-02-10-08-04-19-twilight</td>\n      <td>1676034268687989</td>\n      <td>1676034268708533</td>\n      <td>-19.060815</td>\n      <td>-19.003152</td>\n      <td>-2.513494</td>\n      <td>0.017344</td>\n      <td>0.019243</td>\n      <td>-0.121944</td>\n      <td>0.992199</td>\n      <td>[]</td>\n      <td>[]</td>\n    </tr>\n    <tr>\n      <th>2</th>\n      <td>1676034274365801</td>\n      <td>2023-02-10-08-04-19-twilight</td>\n      <td>1676034274404483</td>\n      <td>1676034274382407</td>\n      <td>-14.289875</td>\n      <td>-20.252643</td>\n      <td>-2.563523</td>\n      <td>0.019104</td>\n      <td>0.025107</td>\n      <td>0.103990</td>\n      <td>0.994078</td>\n      <td>[]</td>\n      <td>['KE']</td>\n    </tr>\n    <tr>\n      <th>3</th>\n      <td>1676034280013503</td>\n      <td>2023-02-10-08-04-19-twilight</td>\n      <td>1676034280004376</td>\n      <td>1676034279987523</td>\n      <td>-10.200171</td>\n      <td>-17.323240</td>\n      <td>-2.689153</td>\n      <td>0.006686</td>\n      <td>0.016921</td>\n      <td>0.394677</td>\n      <td>0.918640</td>\n      <td>[]</td>\n      <td>['KB']</td>\n    </tr>\n    <tr>\n      <th>4</th>\n      <td>1676034285358658</td>\n      <td>2023-02-10-08-04-19-twilight</td>\n      <td>1676034285387661</td>\n      <td>1676034285339092</td>\n      <td>-6.752502</td>\n      <td>-13.812644</td>\n      <td>-2.623646</td>\n      <td>0.003145</td>\n      <td>0.013536</td>\n      <td>0.374985</td>\n      <td>0.926927</td>\n      <td>[]</td>\n      <td>['KE']</td>\n    </tr>\n    <tr>\n      <th>...</th>\n      <td>...</td>\n      <td>...</td>\n      <td>...</td>\n      <td>...</td>\n      <td>...</td>\n      <td>...</td>\n      <td>...</td>\n      <td>...</td>\n      <td>...</td>\n      <td>...</td>\n      <td>...</td>\n      <td>...</td>\n      <td>...</td>\n    </tr>\n    <tr>\n      <th>1354</th>\n      <td>1678905610167111</td>\n      <td>2023-03-15-13-25-48-night</td>\n      <td>1678905610166555</td>\n      <td>1678905610148946</td>\n      <td>-208.692754</td>\n      <td>19.746243</td>\n      <td>-2.661155</td>\n      <td>0.010751</td>\n      <td>0.021335</td>\n      <td>0.389329</td>\n      <td>0.920789</td>\n      <td>['АРКТИКА']</td>\n      <td>[]</td>\n    </tr>\n    <tr>\n      <th>1355</th>\n      <td>1678905615814276</td>\n      <td>2023-03-15-13-25-48-night</td>\n      <td>1678905615783690</td>\n      <td>1678905615831108</td>\n      <td>-204.946252</td>\n      <td>23.201232</td>\n      <td>-2.763870</td>\n      <td>-0.001526</td>\n      <td>0.012262</td>\n      <td>0.270024</td>\n      <td>0.962774</td>\n      <td>['АРКТИКА']</td>\n      <td>[]</td>\n    </tr>\n    <tr>\n      <th>1356</th>\n      <td>1678905621059160</td>\n      <td>2023-03-15-13-25-48-night</td>\n      <td>1678905621067311</td>\n      <td>1678905621028555</td>\n      <td>-200.439570</td>\n      <td>25.320586</td>\n      <td>-2.827866</td>\n      <td>0.000658</td>\n      <td>0.011407</td>\n      <td>0.146494</td>\n      <td>0.989146</td>\n      <td>['АРКТИКА']</td>\n      <td>[]</td>\n    </tr>\n    <tr>\n      <th>1357</th>\n      <td>1678905626909006</td>\n      <td>2023-03-15-13-25-48-night</td>\n      <td>1678905626884315</td>\n      <td>1678905626895739</td>\n      <td>-195.479406</td>\n      <td>26.327213</td>\n      <td>-2.666329</td>\n      <td>0.007004</td>\n      <td>-0.019667</td>\n      <td>-0.149021</td>\n      <td>0.988614</td>\n      <td>['АВТОМАТ']</td>\n      <td>[]</td>\n    </tr>\n    <tr>\n      <th>1358</th>\n      <td>1678905632657981</td>\n      <td>2023-03-15-13-25-48-night</td>\n      <td>1678905632684703</td>\n      <td>1678905632631545</td>\n      <td>-191.694618</td>\n      <td>23.119820</td>\n      <td>-2.412283</td>\n      <td>0.004840</td>\n      <td>-0.011440</td>\n      <td>-0.382727</td>\n      <td>0.923778</td>\n      <td>['CENTRO', 'EUROPA']</td>\n      <td>[]</td>\n    </tr>\n  </tbody>\n</table>\n<p>1359 rows × 13 columns</p>\n</div>"
          },
          "metadata": {}
        }
      ]
    },
    {
      "cell_type": "code",
      "source": [
        "test_df = pd.read_csv('/kaggle/input/itlp-campus-dataset/public/test_with_rec_text.csv').drop(columns='Unnamed: 0')\n",
        "test_df"
      ],
      "metadata": {
        "execution": {
          "iopub.status.busy": "2024-07-03T19:10:07.525763Z",
          "iopub.execute_input": "2024-07-03T19:10:07.526161Z",
          "iopub.status.idle": "2024-07-03T19:10:07.575847Z",
          "shell.execute_reply.started": "2024-07-03T19:10:07.526111Z",
          "shell.execute_reply": "2024-07-03T19:10:07.574484Z"
        },
        "trusted": true,
        "id": "F5mJAL1bSWuC",
        "outputId": "d5c1ab19-b0ed-4fe6-ca77-aeb8e9741774"
      },
      "execution_count": null,
      "outputs": [
        {
          "execution_count": 10,
          "output_type": "execute_result",
          "data": {
            "text/plain": "             timestamp                         track      front_cam_ts  \\\n0     1676034260851770  2023-02-10-08-04-19-twilight  1676034260821540   \n1     1676034268718093  2023-02-10-08-04-19-twilight  1676034268687989   \n2     1676034274365801  2023-02-10-08-04-19-twilight  1676034274404483   \n3     1676034280013503  2023-02-10-08-04-19-twilight  1676034280004376   \n4     1676034285358658  2023-02-10-08-04-19-twilight  1676034285387661   \n...                ...                           ...               ...   \n1850  1678905610167111     2023-03-15-13-25-48-night  1678905610166555   \n1851  1678905615814276     2023-03-15-13-25-48-night  1678905615783690   \n1852  1678905621059160     2023-03-15-13-25-48-night  1678905621067311   \n1853  1678905626909006     2023-03-15-13-25-48-night  1678905626884315   \n1854  1678905632657981     2023-03-15-13-25-48-night  1678905632684703   \n\n           back_cam_ts          tx         ty        tz        qx        qy  \\\n0     1676034260865870  -23.839826 -17.655232 -1.474530  0.013051  0.028187   \n1     1676034268708533  -19.060815 -19.003152 -2.513494  0.017344  0.019243   \n2     1676034274382407  -14.289875 -20.252643 -2.563523  0.019104  0.025107   \n3     1676034279987523  -10.200171 -17.323240 -2.689153  0.006686  0.016921   \n4     1676034285339092   -6.752502 -13.812644 -2.623646  0.003145  0.013536   \n...                ...         ...        ...       ...       ...       ...   \n1850  1678905610148946 -208.692754  19.746243 -2.661155  0.010751  0.021335   \n1851  1678905615831108 -204.946252  23.201232 -2.763870 -0.001526  0.012262   \n1852  1678905621028555 -200.439570  25.320586 -2.827866  0.000658  0.011407   \n1853  1678905626895739 -195.479406  26.327213 -2.666329  0.007004 -0.019667   \n1854  1678905632631545 -191.694618  23.119820 -2.412283  0.004840 -0.011440   \n\n            qz        qw        front_cam_text back_cam_text  \n0     0.003870  0.999510                    []            []  \n1    -0.121944  0.992199                    []            []  \n2     0.103990  0.994078                    []        ['KE']  \n3     0.394677  0.918640                    []        ['KB']  \n4     0.374985  0.926927                    []        ['KE']  \n...        ...       ...                   ...           ...  \n1850  0.389329  0.920789           ['АРКТИКА']            []  \n1851  0.270024  0.962774           ['АРКТИКА']            []  \n1852  0.146494  0.989146           ['АРКТИКА']            []  \n1853 -0.149021  0.988614           ['АВТОМАТ']            []  \n1854 -0.382727  0.923778  ['CENTRO', 'EUROPA']            []  \n\n[1855 rows x 13 columns]",
            "text/html": "<div>\n<style scoped>\n    .dataframe tbody tr th:only-of-type {\n        vertical-align: middle;\n    }\n\n    .dataframe tbody tr th {\n        vertical-align: top;\n    }\n\n    .dataframe thead th {\n        text-align: right;\n    }\n</style>\n<table border=\"1\" class=\"dataframe\">\n  <thead>\n    <tr style=\"text-align: right;\">\n      <th></th>\n      <th>timestamp</th>\n      <th>track</th>\n      <th>front_cam_ts</th>\n      <th>back_cam_ts</th>\n      <th>tx</th>\n      <th>ty</th>\n      <th>tz</th>\n      <th>qx</th>\n      <th>qy</th>\n      <th>qz</th>\n      <th>qw</th>\n      <th>front_cam_text</th>\n      <th>back_cam_text</th>\n    </tr>\n  </thead>\n  <tbody>\n    <tr>\n      <th>0</th>\n      <td>1676034260851770</td>\n      <td>2023-02-10-08-04-19-twilight</td>\n      <td>1676034260821540</td>\n      <td>1676034260865870</td>\n      <td>-23.839826</td>\n      <td>-17.655232</td>\n      <td>-1.474530</td>\n      <td>0.013051</td>\n      <td>0.028187</td>\n      <td>0.003870</td>\n      <td>0.999510</td>\n      <td>[]</td>\n      <td>[]</td>\n    </tr>\n    <tr>\n      <th>1</th>\n      <td>1676034268718093</td>\n      <td>2023-02-10-08-04-19-twilight</td>\n      <td>1676034268687989</td>\n      <td>1676034268708533</td>\n      <td>-19.060815</td>\n      <td>-19.003152</td>\n      <td>-2.513494</td>\n      <td>0.017344</td>\n      <td>0.019243</td>\n      <td>-0.121944</td>\n      <td>0.992199</td>\n      <td>[]</td>\n      <td>[]</td>\n    </tr>\n    <tr>\n      <th>2</th>\n      <td>1676034274365801</td>\n      <td>2023-02-10-08-04-19-twilight</td>\n      <td>1676034274404483</td>\n      <td>1676034274382407</td>\n      <td>-14.289875</td>\n      <td>-20.252643</td>\n      <td>-2.563523</td>\n      <td>0.019104</td>\n      <td>0.025107</td>\n      <td>0.103990</td>\n      <td>0.994078</td>\n      <td>[]</td>\n      <td>['KE']</td>\n    </tr>\n    <tr>\n      <th>3</th>\n      <td>1676034280013503</td>\n      <td>2023-02-10-08-04-19-twilight</td>\n      <td>1676034280004376</td>\n      <td>1676034279987523</td>\n      <td>-10.200171</td>\n      <td>-17.323240</td>\n      <td>-2.689153</td>\n      <td>0.006686</td>\n      <td>0.016921</td>\n      <td>0.394677</td>\n      <td>0.918640</td>\n      <td>[]</td>\n      <td>['KB']</td>\n    </tr>\n    <tr>\n      <th>4</th>\n      <td>1676034285358658</td>\n      <td>2023-02-10-08-04-19-twilight</td>\n      <td>1676034285387661</td>\n      <td>1676034285339092</td>\n      <td>-6.752502</td>\n      <td>-13.812644</td>\n      <td>-2.623646</td>\n      <td>0.003145</td>\n      <td>0.013536</td>\n      <td>0.374985</td>\n      <td>0.926927</td>\n      <td>[]</td>\n      <td>['KE']</td>\n    </tr>\n    <tr>\n      <th>...</th>\n      <td>...</td>\n      <td>...</td>\n      <td>...</td>\n      <td>...</td>\n      <td>...</td>\n      <td>...</td>\n      <td>...</td>\n      <td>...</td>\n      <td>...</td>\n      <td>...</td>\n      <td>...</td>\n      <td>...</td>\n      <td>...</td>\n    </tr>\n    <tr>\n      <th>1850</th>\n      <td>1678905610167111</td>\n      <td>2023-03-15-13-25-48-night</td>\n      <td>1678905610166555</td>\n      <td>1678905610148946</td>\n      <td>-208.692754</td>\n      <td>19.746243</td>\n      <td>-2.661155</td>\n      <td>0.010751</td>\n      <td>0.021335</td>\n      <td>0.389329</td>\n      <td>0.920789</td>\n      <td>['АРКТИКА']</td>\n      <td>[]</td>\n    </tr>\n    <tr>\n      <th>1851</th>\n      <td>1678905615814276</td>\n      <td>2023-03-15-13-25-48-night</td>\n      <td>1678905615783690</td>\n      <td>1678905615831108</td>\n      <td>-204.946252</td>\n      <td>23.201232</td>\n      <td>-2.763870</td>\n      <td>-0.001526</td>\n      <td>0.012262</td>\n      <td>0.270024</td>\n      <td>0.962774</td>\n      <td>['АРКТИКА']</td>\n      <td>[]</td>\n    </tr>\n    <tr>\n      <th>1852</th>\n      <td>1678905621059160</td>\n      <td>2023-03-15-13-25-48-night</td>\n      <td>1678905621067311</td>\n      <td>1678905621028555</td>\n      <td>-200.439570</td>\n      <td>25.320586</td>\n      <td>-2.827866</td>\n      <td>0.000658</td>\n      <td>0.011407</td>\n      <td>0.146494</td>\n      <td>0.989146</td>\n      <td>['АРКТИКА']</td>\n      <td>[]</td>\n    </tr>\n    <tr>\n      <th>1853</th>\n      <td>1678905626909006</td>\n      <td>2023-03-15-13-25-48-night</td>\n      <td>1678905626884315</td>\n      <td>1678905626895739</td>\n      <td>-195.479406</td>\n      <td>26.327213</td>\n      <td>-2.666329</td>\n      <td>0.007004</td>\n      <td>-0.019667</td>\n      <td>-0.149021</td>\n      <td>0.988614</td>\n      <td>['АВТОМАТ']</td>\n      <td>[]</td>\n    </tr>\n    <tr>\n      <th>1854</th>\n      <td>1678905632657981</td>\n      <td>2023-03-15-13-25-48-night</td>\n      <td>1678905632684703</td>\n      <td>1678905632631545</td>\n      <td>-191.694618</td>\n      <td>23.119820</td>\n      <td>-2.412283</td>\n      <td>0.004840</td>\n      <td>-0.011440</td>\n      <td>-0.382727</td>\n      <td>0.923778</td>\n      <td>['CENTRO', 'EUROPA']</td>\n      <td>[]</td>\n    </tr>\n  </tbody>\n</table>\n<p>1855 rows × 13 columns</p>\n</div>"
          },
          "metadata": {}
        }
      ]
    },
    {
      "cell_type": "code",
      "source": [
        "val_df = pd.read_csv('/kaggle/input/itlp-campus-dataset/public/val.csv').drop(columns='Unnamed: 0')\n",
        "val_df"
      ],
      "metadata": {
        "execution": {
          "iopub.status.busy": "2024-07-03T19:10:07.577295Z",
          "iopub.execute_input": "2024-07-03T19:10:07.577772Z",
          "iopub.status.idle": "2024-07-03T19:10:07.615660Z",
          "shell.execute_reply.started": "2024-07-03T19:10:07.577727Z",
          "shell.execute_reply": "2024-07-03T19:10:07.614467Z"
        },
        "trusted": true,
        "id": "4mKvmaW1SWuD",
        "outputId": "4bba422b-f7bc-444b-cc32-eebeea6dcf26"
      },
      "execution_count": null,
      "outputs": [
        {
          "execution_count": 11,
          "output_type": "execute_result",
          "data": {
            "text/plain": "            timestamp                         track      front_cam_ts  \\\n0    1676035566075019  2023-02-10-08-04-19-twilight  1676035566108253   \n1    1676035571722667  2023-02-10-08-04-19-twilight  1676035571691405   \n2    1676035577269474  2023-02-10-08-04-19-twilight  1676035577291312   \n3    1676035582715506  2023-02-10-08-04-19-twilight  1676035582724463   \n4    1676035588262317  2023-02-10-08-04-19-twilight  1676035588290997   \n..                ...                           ...               ...   \n491  1678904283512023     2023-03-15-13-25-48-night  1678904283555720   \n492  1678904290067940     2023-03-15-13-25-48-night  1678904290056078   \n493  1678904296724738     2023-03-15-13-25-48-night  1678904296739853   \n494  1678904302373180     2023-03-15-13-25-48-night  1678904302356838   \n495  1678904307819439     2023-03-15-13-25-48-night  1678904307857224   \n\n          back_cam_ts          tx          ty        tz        qx        qy  \\\n0    1676035566077315   80.724531  -71.308620 -0.873446 -0.000971  0.007920   \n1    1676035571749351   84.696672  -67.969684 -0.886570 -0.000097  0.017570   \n2    1676035577284949   88.486198  -64.722221 -0.878774 -0.005348  0.022473   \n3    1676035582747679   92.378366  -61.577601 -0.906462 -0.004888  0.020862   \n4    1676035588289057   96.279563  -58.386627 -1.030017 -0.007974  0.017085   \n..                ...         ...         ...       ...       ...       ...   \n491  1678904283534244 -155.078201 -194.151665 -1.393639 -0.024897 -0.018326   \n492  1678904290072465 -154.392377 -189.269135 -1.392422 -0.013549  0.009834   \n493  1678904296744134 -153.911107 -184.344878 -1.207735 -0.001541  0.003475   \n494  1678904302348016 -153.259422 -179.365098 -1.463031  0.003824  0.010529   \n495  1678904307818647 -152.638029 -174.377394 -1.199025 -0.002852  0.004532   \n\n           qz        qw                            front_cam_text  \\\n0    0.327289  0.944891                            ['ФИЗТЕХ.БИО']   \n1    0.324952  0.945567                              ['ФИЗТЕХ.Б']   \n2    0.352585  0.935495            ['РАДИОТЕХНИЧЕСКИЙ ФАКУЛЬТЕТ']   \n3    0.231267  0.972654  ['ФИЗТЕХ', 'РАДИОТЕХНИЧЕСКИЙ', 'КОРПУС']   \n4    0.382182  0.923895       ['РАДИОТЕХНИЧЕСКИЙ', 'КОРПУС', 'P']   \n..        ...       ...                                       ...   \n491  0.741418  0.670331                                  ['ФИЗТ']   \n492  0.618619  0.785512                         ['ФИЗТЕХ. КВАНТ']   \n493  0.649004  0.760775                                ['Физтех']   \n494  0.686563  0.726984                                        []   \n495  0.687368  0.726289                                        []   \n\n                                       back_cam_text  \n0    ['МФТИ', 'ЛАБОРАТОРНЫЙ КОРПУС', '1945', '1957']  \n1            ['МФТИ', 'ЛАБОРАТОРНЫЙ КОРПУС', '1952']  \n2                    ['МФТИ', 'ЛАБОРАТОРНЫЙ КОРПУС']  \n3                    ['МФТИ', 'ЛАБОРАТОРНЫЙ КОРПУС']  \n4            ['МФТИ', 'ГОСУДАРСТВЕННЫЙ УНИВЕРСИТЕТ']  \n..                                               ...  \n491                                               []  \n492                                               []  \n493                                               []  \n494                                               []  \n495                                               []  \n\n[496 rows x 13 columns]",
            "text/html": "<div>\n<style scoped>\n    .dataframe tbody tr th:only-of-type {\n        vertical-align: middle;\n    }\n\n    .dataframe tbody tr th {\n        vertical-align: top;\n    }\n\n    .dataframe thead th {\n        text-align: right;\n    }\n</style>\n<table border=\"1\" class=\"dataframe\">\n  <thead>\n    <tr style=\"text-align: right;\">\n      <th></th>\n      <th>timestamp</th>\n      <th>track</th>\n      <th>front_cam_ts</th>\n      <th>back_cam_ts</th>\n      <th>tx</th>\n      <th>ty</th>\n      <th>tz</th>\n      <th>qx</th>\n      <th>qy</th>\n      <th>qz</th>\n      <th>qw</th>\n      <th>front_cam_text</th>\n      <th>back_cam_text</th>\n    </tr>\n  </thead>\n  <tbody>\n    <tr>\n      <th>0</th>\n      <td>1676035566075019</td>\n      <td>2023-02-10-08-04-19-twilight</td>\n      <td>1676035566108253</td>\n      <td>1676035566077315</td>\n      <td>80.724531</td>\n      <td>-71.308620</td>\n      <td>-0.873446</td>\n      <td>-0.000971</td>\n      <td>0.007920</td>\n      <td>0.327289</td>\n      <td>0.944891</td>\n      <td>['ФИЗТЕХ.БИО']</td>\n      <td>['МФТИ', 'ЛАБОРАТОРНЫЙ КОРПУС', '1945', '1957']</td>\n    </tr>\n    <tr>\n      <th>1</th>\n      <td>1676035571722667</td>\n      <td>2023-02-10-08-04-19-twilight</td>\n      <td>1676035571691405</td>\n      <td>1676035571749351</td>\n      <td>84.696672</td>\n      <td>-67.969684</td>\n      <td>-0.886570</td>\n      <td>-0.000097</td>\n      <td>0.017570</td>\n      <td>0.324952</td>\n      <td>0.945567</td>\n      <td>['ФИЗТЕХ.Б']</td>\n      <td>['МФТИ', 'ЛАБОРАТОРНЫЙ КОРПУС', '1952']</td>\n    </tr>\n    <tr>\n      <th>2</th>\n      <td>1676035577269474</td>\n      <td>2023-02-10-08-04-19-twilight</td>\n      <td>1676035577291312</td>\n      <td>1676035577284949</td>\n      <td>88.486198</td>\n      <td>-64.722221</td>\n      <td>-0.878774</td>\n      <td>-0.005348</td>\n      <td>0.022473</td>\n      <td>0.352585</td>\n      <td>0.935495</td>\n      <td>['РАДИОТЕХНИЧЕСКИЙ ФАКУЛЬТЕТ']</td>\n      <td>['МФТИ', 'ЛАБОРАТОРНЫЙ КОРПУС']</td>\n    </tr>\n    <tr>\n      <th>3</th>\n      <td>1676035582715506</td>\n      <td>2023-02-10-08-04-19-twilight</td>\n      <td>1676035582724463</td>\n      <td>1676035582747679</td>\n      <td>92.378366</td>\n      <td>-61.577601</td>\n      <td>-0.906462</td>\n      <td>-0.004888</td>\n      <td>0.020862</td>\n      <td>0.231267</td>\n      <td>0.972654</td>\n      <td>['ФИЗТЕХ', 'РАДИОТЕХНИЧЕСКИЙ', 'КОРПУС']</td>\n      <td>['МФТИ', 'ЛАБОРАТОРНЫЙ КОРПУС']</td>\n    </tr>\n    <tr>\n      <th>4</th>\n      <td>1676035588262317</td>\n      <td>2023-02-10-08-04-19-twilight</td>\n      <td>1676035588290997</td>\n      <td>1676035588289057</td>\n      <td>96.279563</td>\n      <td>-58.386627</td>\n      <td>-1.030017</td>\n      <td>-0.007974</td>\n      <td>0.017085</td>\n      <td>0.382182</td>\n      <td>0.923895</td>\n      <td>['РАДИОТЕХНИЧЕСКИЙ', 'КОРПУС', 'P']</td>\n      <td>['МФТИ', 'ГОСУДАРСТВЕННЫЙ УНИВЕРСИТЕТ']</td>\n    </tr>\n    <tr>\n      <th>...</th>\n      <td>...</td>\n      <td>...</td>\n      <td>...</td>\n      <td>...</td>\n      <td>...</td>\n      <td>...</td>\n      <td>...</td>\n      <td>...</td>\n      <td>...</td>\n      <td>...</td>\n      <td>...</td>\n      <td>...</td>\n      <td>...</td>\n    </tr>\n    <tr>\n      <th>491</th>\n      <td>1678904283512023</td>\n      <td>2023-03-15-13-25-48-night</td>\n      <td>1678904283555720</td>\n      <td>1678904283534244</td>\n      <td>-155.078201</td>\n      <td>-194.151665</td>\n      <td>-1.393639</td>\n      <td>-0.024897</td>\n      <td>-0.018326</td>\n      <td>0.741418</td>\n      <td>0.670331</td>\n      <td>['ФИЗТ']</td>\n      <td>[]</td>\n    </tr>\n    <tr>\n      <th>492</th>\n      <td>1678904290067940</td>\n      <td>2023-03-15-13-25-48-night</td>\n      <td>1678904290056078</td>\n      <td>1678904290072465</td>\n      <td>-154.392377</td>\n      <td>-189.269135</td>\n      <td>-1.392422</td>\n      <td>-0.013549</td>\n      <td>0.009834</td>\n      <td>0.618619</td>\n      <td>0.785512</td>\n      <td>['ФИЗТЕХ. КВАНТ']</td>\n      <td>[]</td>\n    </tr>\n    <tr>\n      <th>493</th>\n      <td>1678904296724738</td>\n      <td>2023-03-15-13-25-48-night</td>\n      <td>1678904296739853</td>\n      <td>1678904296744134</td>\n      <td>-153.911107</td>\n      <td>-184.344878</td>\n      <td>-1.207735</td>\n      <td>-0.001541</td>\n      <td>0.003475</td>\n      <td>0.649004</td>\n      <td>0.760775</td>\n      <td>['Физтех']</td>\n      <td>[]</td>\n    </tr>\n    <tr>\n      <th>494</th>\n      <td>1678904302373180</td>\n      <td>2023-03-15-13-25-48-night</td>\n      <td>1678904302356838</td>\n      <td>1678904302348016</td>\n      <td>-153.259422</td>\n      <td>-179.365098</td>\n      <td>-1.463031</td>\n      <td>0.003824</td>\n      <td>0.010529</td>\n      <td>0.686563</td>\n      <td>0.726984</td>\n      <td>[]</td>\n      <td>[]</td>\n    </tr>\n    <tr>\n      <th>495</th>\n      <td>1678904307819439</td>\n      <td>2023-03-15-13-25-48-night</td>\n      <td>1678904307857224</td>\n      <td>1678904307818647</td>\n      <td>-152.638029</td>\n      <td>-174.377394</td>\n      <td>-1.199025</td>\n      <td>-0.002852</td>\n      <td>0.004532</td>\n      <td>0.687368</td>\n      <td>0.726289</td>\n      <td>[]</td>\n      <td>[]</td>\n    </tr>\n  </tbody>\n</table>\n<p>496 rows × 13 columns</p>\n</div>"
          },
          "metadata": {}
        }
      ]
    },
    {
      "cell_type": "code",
      "source": [
        "!git clone -b feat/itlp_outdoor https://github.com/alexmelekhin/open_place_recognition\n",
        "%cd open_place_recognition\n",
        "!pip install -e .\n",
        "%cd .."
      ],
      "metadata": {
        "scrolled": true,
        "execution": {
          "iopub.status.busy": "2024-07-03T19:10:07.617270Z",
          "iopub.execute_input": "2024-07-03T19:10:07.618238Z",
          "iopub.status.idle": "2024-07-03T19:10:50.688696Z",
          "shell.execute_reply.started": "2024-07-03T19:10:07.618192Z",
          "shell.execute_reply": "2024-07-03T19:10:50.687245Z"
        },
        "trusted": true,
        "id": "go05c72PSWuE"
      },
      "execution_count": null,
      "outputs": []
    },
    {
      "cell_type": "code",
      "source": [
        "!pip install git+https://github.com/alexmelekhin/open_place_recognition.git@feat/itlp_outdoor"
      ],
      "metadata": {
        "scrolled": true,
        "execution": {
          "iopub.status.busy": "2024-07-03T19:10:50.690605Z",
          "iopub.execute_input": "2024-07-03T19:10:50.690980Z",
          "iopub.status.idle": "2024-07-03T19:11:42.745268Z",
          "shell.execute_reply.started": "2024-07-03T19:10:50.690948Z",
          "shell.execute_reply": "2024-07-03T19:11:42.743695Z"
        },
        "trusted": true,
        "id": "8XjraV2QSWuF"
      },
      "execution_count": null,
      "outputs": []
    },
    {
      "cell_type": "code",
      "source": [
        "!pip install gdown"
      ],
      "metadata": {
        "execution": {
          "iopub.status.busy": "2024-07-03T19:11:42.747072Z",
          "iopub.execute_input": "2024-07-03T19:11:42.747465Z",
          "iopub.status.idle": "2024-07-03T19:11:59.210099Z",
          "shell.execute_reply.started": "2024-07-03T19:11:42.747433Z",
          "shell.execute_reply": "2024-07-03T19:11:59.208733Z"
        },
        "trusted": true,
        "id": "cfv5JIyeSWuG"
      },
      "execution_count": null,
      "outputs": []
    },
    {
      "cell_type": "code",
      "source": [
        "from torch.utils.data import DataLoader\n",
        "\n",
        "from opr.datasets.itlp_outdoor import ITLPCampusOutdoor\n",
        "from opr.samplers import BatchSampler"
      ],
      "metadata": {
        "execution": {
          "iopub.status.busy": "2024-07-03T19:11:59.212345Z",
          "iopub.execute_input": "2024-07-03T19:11:59.213327Z",
          "iopub.status.idle": "2024-07-03T19:12:02.591110Z",
          "shell.execute_reply.started": "2024-07-03T19:11:59.213276Z",
          "shell.execute_reply": "2024-07-03T19:12:02.590055Z"
        },
        "trusted": true,
        "id": "gVRAGJTVSWuH"
      },
      "execution_count": null,
      "outputs": []
    },
    {
      "cell_type": "code",
      "source": [
        "train_dataset = ITLPCampusOutdoor(\n",
        "    DATA_ROOT,\n",
        "    subset='train',\n",
        "    sensors=('front_cam', 'back_cam'),\n",
        "    load_semantics=True,\n",
        "    #load_text_labels=True,\n",
        "    mink_quantization_size=0.06,\n",
        ")\n",
        "\n",
        "val_dataset = ITLPCampusOutdoor(\n",
        "    DATA_ROOT,\n",
        "    subset='val',\n",
        "    sensors=('front_cam', 'back_cam'),\n",
        "    load_semantics=True,\n",
        "    #load_text_labels=True,\n",
        "    mink_quantization_size=0.06,\n",
        ")\n",
        "\n",
        "test_dataset = ITLPCampusOutdoor(\n",
        "    DATA_ROOT,\n",
        "    subset='test',\n",
        "    sensors=('front_cam','back_cam'),\n",
        "    load_semantics=True,\n",
        "    #load_text_labels=True,\n",
        "    mink_quantization_size=0.06,\n",
        ")"
      ],
      "metadata": {
        "execution": {
          "iopub.status.busy": "2024-07-03T19:12:02.592560Z",
          "iopub.execute_input": "2024-07-03T19:12:02.593146Z",
          "iopub.status.idle": "2024-07-03T19:12:02.955109Z",
          "shell.execute_reply.started": "2024-07-03T19:12:02.593113Z",
          "shell.execute_reply": "2024-07-03T19:12:02.953893Z"
        },
        "trusted": true,
        "id": "LaDKQSGrSWuI"
      },
      "execution_count": null,
      "outputs": []
    },
    {
      "cell_type": "code",
      "source": [
        "train_sampler = BatchSampler(\n",
        "    train_dataset,\n",
        "    batch_size=16,\n",
        "    batch_size_limit=256,\n",
        "    batch_expansion_rate=1.4,\n",
        "    drop_last=True,\n",
        ")\n",
        "\n",
        "val_sampler = BatchSampler(\n",
        "    val_dataset,\n",
        "    batch_size=256,\n",
        "    drop_last=True,\n",
        ")"
      ],
      "metadata": {
        "execution": {
          "iopub.status.busy": "2024-07-03T19:12:02.956651Z",
          "iopub.execute_input": "2024-07-03T19:12:02.957024Z",
          "iopub.status.idle": "2024-07-03T19:12:03.316325Z",
          "shell.execute_reply.started": "2024-07-03T19:12:02.956993Z",
          "shell.execute_reply": "2024-07-03T19:12:03.315095Z"
        },
        "trusted": true,
        "id": "Ii0baMKfSWuJ"
      },
      "execution_count": null,
      "outputs": []
    },
    {
      "cell_type": "code",
      "source": [
        "train_dl = DataLoader(\n",
        "    dataset=train_dataset,\n",
        "    batch_sampler=train_sampler,\n",
        "    collate_fn=train_dataset.collate_fn,\n",
        "    pin_memory=True,\n",
        ")\n",
        "\n",
        "val_dl = DataLoader(\n",
        "    dataset=val_dataset,\n",
        "    batch_sampler=val_sampler,\n",
        "    collate_fn=val_dataset.collate_fn,\n",
        "    pin_memory=True,\n",
        ")\n",
        "\n",
        "test_dl = DataLoader(\n",
        "    dataset=test_dataset,\n",
        "    batch_size=256,\n",
        "    collate_fn=test_dataset.collate_fn,\n",
        "    pin_memory=True,\n",
        "    drop_last=False,\n",
        ")"
      ],
      "metadata": {
        "execution": {
          "iopub.status.busy": "2024-07-03T19:12:03.317936Z",
          "iopub.execute_input": "2024-07-03T19:12:03.318947Z",
          "iopub.status.idle": "2024-07-03T19:12:03.326753Z",
          "shell.execute_reply.started": "2024-07-03T19:12:03.318901Z",
          "shell.execute_reply": "2024-07-03T19:12:03.325240Z"
        },
        "trusted": true,
        "id": "_6ivuF3ASWuJ"
      },
      "execution_count": null,
      "outputs": []
    },
    {
      "cell_type": "code",
      "source": [
        "import torch\n",
        "from opr.models.place_recognition.base import ImageModel\n",
        "from opr.modules.feature_extractors import ConvNeXtTinyFeatureExtractor\n",
        "from opr.modules import Concat, GeM"
      ],
      "metadata": {
        "execution": {
          "iopub.status.busy": "2024-07-03T19:12:03.328536Z",
          "iopub.execute_input": "2024-07-03T19:12:03.329486Z",
          "iopub.status.idle": "2024-07-03T19:12:03.381282Z",
          "shell.execute_reply.started": "2024-07-03T19:12:03.329440Z",
          "shell.execute_reply": "2024-07-03T19:12:03.380171Z"
        },
        "trusted": true,
        "id": "EKuaVkeASWuK"
      },
      "execution_count": null,
      "outputs": []
    },
    {
      "cell_type": "code",
      "source": [
        "import gc\n",
        "torch.cuda.empty_cache()\n",
        "gc.collect()"
      ],
      "metadata": {
        "execution": {
          "iopub.status.busy": "2024-07-03T19:12:03.382891Z",
          "iopub.execute_input": "2024-07-03T19:12:03.383378Z",
          "iopub.status.idle": "2024-07-03T19:12:03.584658Z",
          "shell.execute_reply.started": "2024-07-03T19:12:03.383333Z",
          "shell.execute_reply": "2024-07-03T19:12:03.583385Z"
        },
        "trusted": true,
        "id": "7yLTT3QMSWuK",
        "outputId": "b5900894-808c-40bd-8774-bb522cb872f8"
      },
      "execution_count": null,
      "outputs": [
        {
          "execution_count": 20,
          "output_type": "execute_result",
          "data": {
            "text/plain": "0"
          },
          "metadata": {}
        }
      ]
    },
    {
      "cell_type": "code",
      "source": [
        "feature_extractor = ConvNeXtTinyFeatureExtractor(\n",
        "    in_channels=3,\n",
        "    pretrained=True,\n",
        ")\n",
        "\n",
        "pooling = GeM()\n",
        "descriptor_fusion_module = Concat()\n",
        "\n",
        "model = ImageModel(\n",
        "    backbone=feature_extractor,\n",
        "    head=pooling,\n",
        "    fusion=descriptor_fusion_module,\n",
        ")"
      ],
      "metadata": {
        "execution": {
          "iopub.status.busy": "2024-07-03T19:12:03.586171Z",
          "iopub.execute_input": "2024-07-03T19:12:03.586534Z",
          "iopub.status.idle": "2024-07-03T19:12:05.325269Z",
          "shell.execute_reply.started": "2024-07-03T19:12:03.586504Z",
          "shell.execute_reply": "2024-07-03T19:12:05.323891Z"
        },
        "trusted": true,
        "id": "G7bIKZ68SWuL",
        "outputId": "2d137221-ce12-44b4-ce32-77b26f274002"
      },
      "execution_count": null,
      "outputs": [
        {
          "name": "stderr",
          "text": "Downloading: \"https://download.pytorch.org/models/convnext_tiny-983f1562.pth\" to /root/.cache/torch/hub/checkpoints/convnext_tiny-983f1562.pth\n100%|██████████| 109M/109M [00:00<00:00, 134MB/s]  \n",
          "output_type": "stream"
        }
      ]
    },
    {
      "cell_type": "code",
      "source": [
        "IMAGE_LR = 0.001\n",
        "HEAD_LR = None\n",
        "FUSION_LR = None\n",
        "WEIGHT_DECAY = 0.0001\n",
        "WARMUP_STEPS = 90\n",
        "T_MAX = 1800"
      ],
      "metadata": {
        "execution": {
          "iopub.status.busy": "2024-07-03T19:12:05.329806Z",
          "iopub.execute_input": "2024-07-03T19:12:05.330240Z",
          "iopub.status.idle": "2024-07-03T19:12:05.336773Z",
          "shell.execute_reply.started": "2024-07-03T19:12:05.330206Z",
          "shell.execute_reply": "2024-07-03T19:12:05.335356Z"
        },
        "trusted": true,
        "id": "5LlnrVsrSWuM"
      },
      "execution_count": null,
      "outputs": []
    },
    {
      "cell_type": "code",
      "source": [
        "!pip install transformers"
      ],
      "metadata": {
        "execution": {
          "iopub.status.busy": "2024-07-03T19:12:05.338436Z",
          "iopub.execute_input": "2024-07-03T19:12:05.339499Z",
          "iopub.status.idle": "2024-07-03T19:12:21.394790Z",
          "shell.execute_reply.started": "2024-07-03T19:12:05.339452Z",
          "shell.execute_reply": "2024-07-03T19:12:21.393230Z"
        },
        "trusted": true,
        "id": "z__i0MIASWuM"
      },
      "execution_count": null,
      "outputs": []
    },
    {
      "cell_type": "code",
      "source": [
        "from torch.optim import AdamW\n",
        "from transformers import get_cosine_schedule_with_warmup"
      ],
      "metadata": {
        "execution": {
          "iopub.status.busy": "2024-07-03T19:12:21.396783Z",
          "iopub.execute_input": "2024-07-03T19:12:21.397201Z",
          "iopub.status.idle": "2024-07-03T19:12:21.420728Z",
          "shell.execute_reply.started": "2024-07-03T19:12:21.397139Z",
          "shell.execute_reply": "2024-07-03T19:12:21.419566Z"
        },
        "trusted": true,
        "id": "XDO9xBQwSWuN"
      },
      "execution_count": null,
      "outputs": []
    },
    {
      "cell_type": "code",
      "source": [
        "params_list = []\n",
        "if model.backbone is not None and IMAGE_LR is not None:\n",
        "    params_list.append({\"params\": model.backbone.parameters(), \"lr\": IMAGE_LR})\n",
        "if model.head is not None and HEAD_LR is not None:\n",
        "    params_list.append({\"params\": model.head.parameters(), \"lr\": HEAD_LR})\n",
        "if model.fusion is not None and FUSION_LR is not None:\n",
        "    params_list.append({\"params\": model.fusion.parameters(), \"lr\": FUSION_LR})"
      ],
      "metadata": {
        "execution": {
          "iopub.status.busy": "2024-07-03T19:12:21.422569Z",
          "iopub.execute_input": "2024-07-03T19:12:21.423036Z",
          "iopub.status.idle": "2024-07-03T19:12:21.431700Z",
          "shell.execute_reply.started": "2024-07-03T19:12:21.422995Z",
          "shell.execute_reply": "2024-07-03T19:12:21.430518Z"
        },
        "trusted": true,
        "id": "eWW0K8pFSWuO"
      },
      "execution_count": null,
      "outputs": []
    },
    {
      "cell_type": "code",
      "source": [
        "from opr.trainers.place_recognition import UnimodalPlaceRecognitionTrainer\n",
        "from opr.losses import BatchHardTripletMarginLoss"
      ],
      "metadata": {
        "execution": {
          "iopub.status.busy": "2024-07-03T19:12:21.433055Z",
          "iopub.execute_input": "2024-07-03T19:12:21.433468Z",
          "iopub.status.idle": "2024-07-03T19:12:22.287788Z",
          "shell.execute_reply.started": "2024-07-03T19:12:21.433430Z",
          "shell.execute_reply": "2024-07-03T19:12:22.286640Z"
        },
        "trusted": true,
        "id": "Qf5ZNsOxSWuO"
      },
      "execution_count": null,
      "outputs": []
    },
    {
      "cell_type": "code",
      "source": [
        "!mkdir checkpoints"
      ],
      "metadata": {
        "execution": {
          "iopub.status.busy": "2024-07-03T19:12:22.289187Z",
          "iopub.execute_input": "2024-07-03T19:12:22.289552Z",
          "iopub.status.idle": "2024-07-03T19:12:23.467074Z",
          "shell.execute_reply.started": "2024-07-03T19:12:22.289519Z",
          "shell.execute_reply": "2024-07-03T19:12:23.465420Z"
        },
        "trusted": true,
        "id": "zyg7RbSQSWuP"
      },
      "execution_count": null,
      "outputs": []
    },
    {
      "cell_type": "code",
      "source": [
        "import wandb"
      ],
      "metadata": {
        "execution": {
          "iopub.status.busy": "2024-07-03T19:12:23.474548Z",
          "iopub.execute_input": "2024-07-03T19:12:23.475028Z",
          "iopub.status.idle": "2024-07-03T19:12:23.480682Z",
          "shell.execute_reply.started": "2024-07-03T19:12:23.474978Z",
          "shell.execute_reply": "2024-07-03T19:12:23.479432Z"
        },
        "trusted": true,
        "id": "qrBc5AriSWuP"
      },
      "execution_count": null,
      "outputs": []
    },
    {
      "cell_type": "code",
      "source": [
        "wandb.login()"
      ],
      "metadata": {
        "execution": {
          "iopub.status.busy": "2024-07-03T19:12:23.482185Z",
          "iopub.execute_input": "2024-07-03T19:12:23.482565Z",
          "iopub.status.idle": "2024-07-03T19:15:14.274743Z",
          "shell.execute_reply.started": "2024-07-03T19:12:23.482533Z",
          "shell.execute_reply": "2024-07-03T19:15:14.273605Z"
        },
        "trusted": true,
        "id": "bHeSqAmTSWuP",
        "outputId": "8e99a438-5776-4699-8360-0ab6f74fb963"
      },
      "execution_count": null,
      "outputs": [
        {
          "name": "stderr",
          "text": "\u001b[34m\u001b[1mwandb\u001b[0m: Logging into wandb.ai. (Learn how to deploy a W&B server locally: https://wandb.me/wandb-server)\n\u001b[34m\u001b[1mwandb\u001b[0m: You can find your API key in your browser here: https://wandb.ai/authorize\n\u001b[34m\u001b[1mwandb\u001b[0m: Paste an API key from your profile and hit enter, or press ctrl+c to quit:",
          "output_type": "stream"
        },
        {
          "output_type": "stream",
          "name": "stdin",
          "text": "  ········································\n"
        },
        {
          "name": "stderr",
          "text": "\u001b[34m\u001b[1mwandb\u001b[0m: Appending key for api.wandb.ai to your netrc file: /root/.netrc\n",
          "output_type": "stream"
        },
        {
          "execution_count": 29,
          "output_type": "execute_result",
          "data": {
            "text/plain": "True"
          },
          "metadata": {}
        }
      ]
    },
    {
      "cell_type": "code",
      "source": [
        "loss_fn = BatchHardTripletMarginLoss(margin=0.5)\n",
        "optimizer = AdamW(params_list, weight_decay=WEIGHT_DECAY)\n",
        "scheduler = get_cosine_schedule_with_warmup(optimizer, num_warmup_steps=WARMUP_STEPS, num_training_steps=T_MAX)\n",
        "\n",
        "trainer = UnimodalPlaceRecognitionTrainer(\n",
        "    checkpoints_dir='/kaggle/working/checkpoints',\n",
        "    model=model,\n",
        "    loss_fn=loss_fn,\n",
        "    wandb_log=True,\n",
        "    optimizer=optimizer,\n",
        "    scheduler=scheduler,\n",
        "    batch_expansion_threshold=0.7,\n",
        "    device='cuda',\n",
        ")"
      ],
      "metadata": {
        "execution": {
          "iopub.status.busy": "2024-07-03T19:15:14.276399Z",
          "iopub.execute_input": "2024-07-03T19:15:14.277716Z",
          "iopub.status.idle": "2024-07-03T19:15:14.514077Z",
          "shell.execute_reply.started": "2024-07-03T19:15:14.277671Z",
          "shell.execute_reply": "2024-07-03T19:15:14.513124Z"
        },
        "trusted": true,
        "id": "-vhRoFO_SWuR"
      },
      "execution_count": null,
      "outputs": []
    },
    {
      "cell_type": "code",
      "source": [
        "wandb.init()"
      ],
      "metadata": {
        "execution": {
          "iopub.status.busy": "2024-07-03T19:15:14.515589Z",
          "iopub.execute_input": "2024-07-03T19:15:14.516035Z",
          "iopub.status.idle": "2024-07-03T19:15:31.508845Z",
          "shell.execute_reply.started": "2024-07-03T19:15:14.515990Z",
          "shell.execute_reply": "2024-07-03T19:15:31.507830Z"
        },
        "trusted": true,
        "id": "S-S1v3AVSWuV",
        "outputId": "29b5c472-74b8-415d-af3d-a2b480549b07"
      },
      "execution_count": null,
      "outputs": [
        {
          "name": "stderr",
          "text": "\u001b[34m\u001b[1mwandb\u001b[0m: Currently logged in as: \u001b[33ma-zamyshevskaya\u001b[0m (\u001b[33mmine_nimble\u001b[0m). Use \u001b[1m`wandb login --relogin`\u001b[0m to force relogin\n",
          "output_type": "stream"
        },
        {
          "output_type": "display_data",
          "data": {
            "text/plain": "<IPython.core.display.HTML object>",
            "text/html": "wandb version 0.17.4 is available!  To upgrade, please run:\n $ pip install wandb --upgrade"
          },
          "metadata": {}
        },
        {
          "output_type": "display_data",
          "data": {
            "text/plain": "<IPython.core.display.HTML object>",
            "text/html": "Tracking run with wandb version 0.17.0"
          },
          "metadata": {}
        },
        {
          "output_type": "display_data",
          "data": {
            "text/plain": "<IPython.core.display.HTML object>",
            "text/html": "Run data is saved locally in <code>/kaggle/working/wandb/run-20240703_191514-1g4bntxs</code>"
          },
          "metadata": {}
        },
        {
          "output_type": "display_data",
          "data": {
            "text/plain": "<IPython.core.display.HTML object>",
            "text/html": "Syncing run <strong><a href='https://wandb.ai/mine_nimble/uncategorized/runs/1g4bntxs' target=\"_blank\">gallant-gorge-8</a></strong> to <a href='https://wandb.ai/mine_nimble/uncategorized' target=\"_blank\">Weights & Biases</a> (<a href='https://wandb.me/run' target=\"_blank\">docs</a>)<br/>"
          },
          "metadata": {}
        },
        {
          "output_type": "display_data",
          "data": {
            "text/plain": "<IPython.core.display.HTML object>",
            "text/html": " View project at <a href='https://wandb.ai/mine_nimble/uncategorized' target=\"_blank\">https://wandb.ai/mine_nimble/uncategorized</a>"
          },
          "metadata": {}
        },
        {
          "output_type": "display_data",
          "data": {
            "text/plain": "<IPython.core.display.HTML object>",
            "text/html": " View run at <a href='https://wandb.ai/mine_nimble/uncategorized/runs/1g4bntxs' target=\"_blank\">https://wandb.ai/mine_nimble/uncategorized/runs/1g4bntxs</a>"
          },
          "metadata": {}
        },
        {
          "execution_count": 31,
          "output_type": "execute_result",
          "data": {
            "text/html": "<button onClick=\"this.nextSibling.style.display='block';this.style.display='none';\">Display W&B run</button><iframe src='https://wandb.ai/mine_nimble/uncategorized/runs/1g4bntxs?jupyter=true' style='border:none;width:100%;height:420px;display:none;'></iframe>",
            "text/plain": "<wandb.sdk.wandb_run.Run at 0x7df55213f520>"
          },
          "metadata": {}
        }
      ]
    },
    {
      "cell_type": "code",
      "source": [
        "trainer.train(\n",
        "    epochs=8,\n",
        "    train_dataloader=train_dl,\n",
        "    val_dataloader=val_dl,\n",
        "    test_dataloader=test_dl,\n",
        ")"
      ],
      "metadata": {
        "scrolled": true,
        "execution": {
          "iopub.status.busy": "2024-07-03T19:18:22.542216Z",
          "iopub.execute_input": "2024-07-03T19:18:22.542920Z",
          "iopub.status.idle": "2024-07-03T20:11:40.044091Z",
          "shell.execute_reply.started": "2024-07-03T19:18:22.542884Z",
          "shell.execute_reply": "2024-07-03T20:11:40.042529Z"
        },
        "trusted": true,
        "id": "N7nIyKOzSWuW",
        "outputId": "fe76fa6e-df84-4dda-e8b5-4f540dd5ef9d"
      },
      "execution_count": null,
      "outputs": [
        {
          "name": "stderr",
          "text": "\u001b[32m2024-07-03 19:18:22.545\u001b[0m | \u001b[1mINFO    \u001b[0m | \u001b[36mopr.trainers.place_recognition.unimodal\u001b[0m:\u001b[36mtrain\u001b[0m:\u001b[36m113\u001b[0m - \u001b[1m=====> Epoch:   1/8:\u001b[0m\n\u001b[32m2024-07-03 19:18:22.547\u001b[0m | \u001b[1mINFO    \u001b[0m | \u001b[36mopr.trainers.place_recognition.unimodal\u001b[0m:\u001b[36m_loop_epoch\u001b[0m:\u001b[36m244\u001b[0m - \u001b[1m=> Train stage:\u001b[0m\n\u001b[32m2024-07-03 19:21:52.031\u001b[0m | \u001b[1mINFO    \u001b[0m | \u001b[36mopr.trainers.place_recognition.unimodal\u001b[0m:\u001b[36m_loop_epoch\u001b[0m:\u001b[36m277\u001b[0m - \u001b[1mTrain time: 03:29\u001b[0m\n\u001b[32m2024-07-03 19:21:52.033\u001b[0m | \u001b[1mINFO    \u001b[0m | \u001b[36mopr.trainers.place_recognition.unimodal\u001b[0m:\u001b[36m_loop_epoch\u001b[0m:\u001b[36m278\u001b[0m - \u001b[1mTrain stats: {'loss': 1.3753778770052154, 'avg_embedding_norm': 10.919632045702002, 'num_triplets': 16.0, 'num_non_zero_triplets': 15.068965517241379, 'non_zero_rate': 0.9418103448275862, 'max_pos_pair_dist': 6.459713601517952, 'max_neg_pair_dist': 5.483606398790732, 'mean_pos_pair_dist': 5.3001554532982835, 'mean_neg_pair_dist': 4.592523936567636, 'min_pos_pair_dist': 4.1654526502236555, 'min_neg_pair_dist': 3.9849961680927497}\u001b[0m\n\u001b[32m2024-07-03 19:21:52.034\u001b[0m | \u001b[1mINFO    \u001b[0m | \u001b[36mopr.trainers.place_recognition.unimodal\u001b[0m:\u001b[36m_loop_epoch\u001b[0m:\u001b[36m244\u001b[0m - \u001b[1m=> Val stage:\u001b[0m\n\u001b[32m2024-07-03 19:22:50.582\u001b[0m | \u001b[1mINFO    \u001b[0m | \u001b[36mopr.trainers.place_recognition.unimodal\u001b[0m:\u001b[36m_loop_epoch\u001b[0m:\u001b[36m277\u001b[0m - \u001b[1mVal time: 00:58\u001b[0m\n\u001b[32m2024-07-03 19:22:50.583\u001b[0m | \u001b[1mINFO    \u001b[0m | \u001b[36mopr.trainers.place_recognition.unimodal\u001b[0m:\u001b[36m_loop_epoch\u001b[0m:\u001b[36m278\u001b[0m - \u001b[1mVal stats: {'loss': 2.0043081641197205, 'avg_embedding_norm': 10.850851058959961, 'num_triplets': 256.0, 'num_non_zero_triplets': 256.0, 'non_zero_rate': 1.0, 'max_pos_pair_dist': 6.547260522842407, 'max_neg_pair_dist': 5.295592308044434, 'mean_pos_pair_dist': 5.380330801010132, 'mean_neg_pair_dist': 3.8762266635894775, 'min_pos_pair_dist': 4.177180767059326, 'min_neg_pair_dist': 3.1571671962738037}\u001b[0m\n\u001b[32m2024-07-03 19:22:50.585\u001b[0m | \u001b[1mINFO    \u001b[0m | \u001b[36mopr.trainers.place_recognition.unimodal\u001b[0m:\u001b[36mtest\u001b[0m:\u001b[36m172\u001b[0m - \u001b[1m=> Test stage:\u001b[0m\n\u001b[32m2024-07-03 19:25:16.207\u001b[0m | \u001b[34m\u001b[1mDEBUG   \u001b[0m | \u001b[36mopr.trainers.place_recognition.unimodal\u001b[0m:\u001b[36mtest\u001b[0m:\u001b[36m194\u001b[0m - \u001b[34m\u001b[1mTest embeddings: (1855, 1536)\u001b[0m\n\u001b[32m2024-07-03 19:25:24.790\u001b[0m | \u001b[1mINFO    \u001b[0m | \u001b[36mopr.trainers.place_recognition.unimodal\u001b[0m:\u001b[36mtest\u001b[0m:\u001b[36m228\u001b[0m - \u001b[1mTest time: 02:34\u001b[0m\n\u001b[32m2024-07-03 19:25:24.792\u001b[0m | \u001b[1mINFO    \u001b[0m | \u001b[36mopr.trainers.place_recognition.unimodal\u001b[0m:\u001b[36mtest\u001b[0m:\u001b[36m229\u001b[0m - \u001b[1mMean Recall@N:\n[0.18721496 0.26157862 0.31582175 0.36624136 0.40467317 0.43983876\n 0.46963369 0.49320941 0.51780714 0.54081278 0.55809123 0.5770274\n 0.5929625  0.60839683 0.62408655 0.63925493 0.65304015 0.66632077\n 0.67768182 0.68850725 0.69552731 0.703078   0.71145679 0.72009644\n 0.7273893 ]\u001b[0m\n\u001b[32m2024-07-03 19:25:24.794\u001b[0m | \u001b[1mINFO    \u001b[0m | \u001b[36mopr.trainers.place_recognition.unimodal\u001b[0m:\u001b[36mtest\u001b[0m:\u001b[36m230\u001b[0m - \u001b[1mMean Recall@1% = 0.4398387626079683\u001b[0m\n\u001b[32m2024-07-03 19:25:24.795\u001b[0m | \u001b[1mINFO    \u001b[0m | \u001b[36mopr.trainers.place_recognition.unimodal\u001b[0m:\u001b[36mtest\u001b[0m:\u001b[36m231\u001b[0m - \u001b[1mMean top-1 distance = 4.237952913600796\u001b[0m\n\u001b[34m\u001b[1mwandb\u001b[0m: \u001b[33mWARNING\u001b[0m Saving files without folders. If you want to preserve subdirectories pass base_path to wandb.save, i.e. wandb.save(\"/mnt/folder/file.h5\", base_path=\"/mnt\")\n\u001b[32m2024-07-03 19:25:25.465\u001b[0m | \u001b[1mINFO    \u001b[0m | \u001b[36mopr.trainers.place_recognition.unimodal\u001b[0m:\u001b[36mtrain\u001b[0m:\u001b[36m159\u001b[0m - \u001b[1mRecall@1 improved!\u001b[0m\n\u001b[32m2024-07-03 19:25:26.197\u001b[0m | \u001b[1mINFO    \u001b[0m | \u001b[36mopr.trainers.place_recognition.unimodal\u001b[0m:\u001b[36mtrain\u001b[0m:\u001b[36m113\u001b[0m - \u001b[1m=====> Epoch:   2/8:\u001b[0m\n\u001b[32m2024-07-03 19:25:26.199\u001b[0m | \u001b[1mINFO    \u001b[0m | \u001b[36mopr.trainers.place_recognition.unimodal\u001b[0m:\u001b[36m_loop_epoch\u001b[0m:\u001b[36m244\u001b[0m - \u001b[1m=> Train stage:\u001b[0m\n\u001b[32m2024-07-03 19:28:43.681\u001b[0m | \u001b[1mINFO    \u001b[0m | \u001b[36mopr.trainers.place_recognition.unimodal\u001b[0m:\u001b[36m_loop_epoch\u001b[0m:\u001b[36m277\u001b[0m - \u001b[1mTrain time: 03:17\u001b[0m\n\u001b[32m2024-07-03 19:28:43.683\u001b[0m | \u001b[1mINFO    \u001b[0m | \u001b[36mopr.trainers.place_recognition.unimodal\u001b[0m:\u001b[36m_loop_epoch\u001b[0m:\u001b[36m278\u001b[0m - \u001b[1mTrain stats: {'loss': 0.9755352315577593, 'avg_embedding_norm': 10.148471875624223, 'num_triplets': 16.0, 'num_non_zero_triplets': 14.886363636363637, 'non_zero_rate': 0.9303977272727273, 'max_pos_pair_dist': 5.3682198903777385, 'max_neg_pair_dist': 4.883677206256173, 'mean_pos_pair_dist': 4.466157780452208, 'mean_neg_pair_dist': 4.150032249363986, 'min_pos_pair_dist': 3.5572309548204597, 'min_neg_pair_dist': 3.665020381862467}\u001b[0m\n\u001b[32m2024-07-03 19:28:43.685\u001b[0m | \u001b[1mINFO    \u001b[0m | \u001b[36mopr.trainers.place_recognition.unimodal\u001b[0m:\u001b[36m_loop_epoch\u001b[0m:\u001b[36m244\u001b[0m - \u001b[1m=> Val stage:\u001b[0m\n\u001b[32m2024-07-03 19:29:23.322\u001b[0m | \u001b[1mINFO    \u001b[0m | \u001b[36mopr.trainers.place_recognition.unimodal\u001b[0m:\u001b[36m_loop_epoch\u001b[0m:\u001b[36m277\u001b[0m - \u001b[1mVal time: 00:39\u001b[0m\n\u001b[32m2024-07-03 19:29:23.324\u001b[0m | \u001b[1mINFO    \u001b[0m | \u001b[36mopr.trainers.place_recognition.unimodal\u001b[0m:\u001b[36m_loop_epoch\u001b[0m:\u001b[36m278\u001b[0m - \u001b[1mVal stats: {'loss': 1.3060356378555298, 'avg_embedding_norm': 9.668081283569336, 'num_triplets': 256.0, 'num_non_zero_triplets': 255.5, 'non_zero_rate': 0.998046875, 'max_pos_pair_dist': 5.172347068786621, 'max_neg_pair_dist': 4.532750368118286, 'mean_pos_pair_dist': 4.255481958389282, 'mean_neg_pair_dist': 3.4607664346694946, 'min_pos_pair_dist': 3.036639451980591, 'min_neg_pair_dist': 2.828269362449646}\u001b[0m\n\u001b[32m2024-07-03 19:29:23.326\u001b[0m | \u001b[1mINFO    \u001b[0m | \u001b[36mopr.trainers.place_recognition.unimodal\u001b[0m:\u001b[36mtest\u001b[0m:\u001b[36m172\u001b[0m - \u001b[1m=> Test stage:\u001b[0m\n\u001b[32m2024-07-03 19:31:48.395\u001b[0m | \u001b[34m\u001b[1mDEBUG   \u001b[0m | \u001b[36mopr.trainers.place_recognition.unimodal\u001b[0m:\u001b[36mtest\u001b[0m:\u001b[36m194\u001b[0m - \u001b[34m\u001b[1mTest embeddings: (1855, 1536)\u001b[0m\n\u001b[32m2024-07-03 19:31:57.073\u001b[0m | \u001b[1mINFO    \u001b[0m | \u001b[36mopr.trainers.place_recognition.unimodal\u001b[0m:\u001b[36mtest\u001b[0m:\u001b[36m228\u001b[0m - \u001b[1mTest time: 02:33\u001b[0m\n\u001b[32m2024-07-03 19:31:57.075\u001b[0m | \u001b[1mINFO    \u001b[0m | \u001b[36mopr.trainers.place_recognition.unimodal\u001b[0m:\u001b[36mtest\u001b[0m:\u001b[36m229\u001b[0m - \u001b[1mMean Recall@N:\n[0.52959439 0.62290293 0.67371925 0.70882198 0.73716189 0.76118485\n 0.77930055 0.79603014 0.80819322 0.82060456 0.83220728 0.8432582\n 0.85429053 0.85996238 0.86830898 0.87504    0.87932619 0.88661841\n 0.89064448 0.89628798 0.89978636 0.90436978 0.90760493 0.91137705\n 0.91326409]\u001b[0m\n\u001b[32m2024-07-03 19:31:57.077\u001b[0m | \u001b[1mINFO    \u001b[0m | \u001b[36mopr.trainers.place_recognition.unimodal\u001b[0m:\u001b[36mtest\u001b[0m:\u001b[36m230\u001b[0m - \u001b[1mMean Recall@1% = 0.7611848505900776\u001b[0m\n\u001b[32m2024-07-03 19:31:57.078\u001b[0m | \u001b[1mINFO    \u001b[0m | \u001b[36mopr.trainers.place_recognition.unimodal\u001b[0m:\u001b[36mtest\u001b[0m:\u001b[36m231\u001b[0m - \u001b[1mMean top-1 distance = 3.433419758704529\u001b[0m\n\u001b[32m2024-07-03 19:31:57.982\u001b[0m | \u001b[1mINFO    \u001b[0m | \u001b[36mopr.trainers.place_recognition.unimodal\u001b[0m:\u001b[36mtrain\u001b[0m:\u001b[36m159\u001b[0m - \u001b[1mRecall@1 improved!\u001b[0m\n\u001b[32m2024-07-03 19:31:59.043\u001b[0m | \u001b[1mINFO    \u001b[0m | \u001b[36mopr.trainers.place_recognition.unimodal\u001b[0m:\u001b[36mtrain\u001b[0m:\u001b[36m113\u001b[0m - \u001b[1m=====> Epoch:   3/8:\u001b[0m\n\u001b[32m2024-07-03 19:31:59.045\u001b[0m | \u001b[1mINFO    \u001b[0m | \u001b[36mopr.trainers.place_recognition.unimodal\u001b[0m:\u001b[36m_loop_epoch\u001b[0m:\u001b[36m244\u001b[0m - \u001b[1m=> Train stage:\u001b[0m\n\u001b[32m2024-07-03 19:35:16.931\u001b[0m | \u001b[1mINFO    \u001b[0m | \u001b[36mopr.trainers.place_recognition.unimodal\u001b[0m:\u001b[36m_loop_epoch\u001b[0m:\u001b[36m277\u001b[0m - \u001b[1mTrain time: 03:17\u001b[0m\n\u001b[32m2024-07-03 19:35:16.933\u001b[0m | \u001b[1mINFO    \u001b[0m | \u001b[36mopr.trainers.place_recognition.unimodal\u001b[0m:\u001b[36m_loop_epoch\u001b[0m:\u001b[36m278\u001b[0m - \u001b[1mTrain stats: {'loss': 0.6499709849330512, 'avg_embedding_norm': 9.984386823394082, 'num_triplets': 16.0, 'num_non_zero_triplets': 12.284090909090908, 'non_zero_rate': 0.7677556818181818, 'max_pos_pair_dist': 4.797777625647458, 'max_neg_pair_dist': 4.669350862503052, 'mean_pos_pair_dist': 3.965593533082442, 'mean_neg_pair_dist': 4.120208434083245, 'min_pos_pair_dist': 3.1119787178256293, 'min_neg_pair_dist': 3.7122347219423815}\u001b[0m\n\u001b[32m2024-07-03 19:35:16.934\u001b[0m | \u001b[1mINFO    \u001b[0m | \u001b[36mopr.trainers.place_recognition.unimodal\u001b[0m:\u001b[36m_loop_epoch\u001b[0m:\u001b[36m244\u001b[0m - \u001b[1m=> Val stage:\u001b[0m\n\u001b[32m2024-07-03 19:35:57.488\u001b[0m | \u001b[1mINFO    \u001b[0m | \u001b[36mopr.trainers.place_recognition.unimodal\u001b[0m:\u001b[36m_loop_epoch\u001b[0m:\u001b[36m277\u001b[0m - \u001b[1mVal time: 00:40\u001b[0m\n\u001b[32m2024-07-03 19:35:57.489\u001b[0m | \u001b[1mINFO    \u001b[0m | \u001b[36mopr.trainers.place_recognition.unimodal\u001b[0m:\u001b[36m_loop_epoch\u001b[0m:\u001b[36m278\u001b[0m - \u001b[1mVal stats: {'loss': 1.081959068775177, 'avg_embedding_norm': 9.899499893188477, 'num_triplets': 256.0, 'num_non_zero_triplets': 256.0, 'non_zero_rate': 1.0, 'max_pos_pair_dist': 4.8084845542907715, 'max_neg_pair_dist': 4.3582611083984375, 'mean_pos_pair_dist': 4.14889669418335, 'mean_neg_pair_dist': 3.5769591331481934, 'min_pos_pair_dist': 3.409511923789978, 'min_neg_pair_dist': 3.0349583625793457}\u001b[0m\n\u001b[32m2024-07-03 19:35:57.491\u001b[0m | \u001b[1mINFO    \u001b[0m | \u001b[36mopr.trainers.place_recognition.unimodal\u001b[0m:\u001b[36mtest\u001b[0m:\u001b[36m172\u001b[0m - \u001b[1m=> Test stage:\u001b[0m\n\u001b[32m2024-07-03 19:38:24.497\u001b[0m | \u001b[34m\u001b[1mDEBUG   \u001b[0m | \u001b[36mopr.trainers.place_recognition.unimodal\u001b[0m:\u001b[36mtest\u001b[0m:\u001b[36m194\u001b[0m - \u001b[34m\u001b[1mTest embeddings: (1855, 1536)\u001b[0m\n\u001b[32m2024-07-03 19:38:33.370\u001b[0m | \u001b[1mINFO    \u001b[0m | \u001b[36mopr.trainers.place_recognition.unimodal\u001b[0m:\u001b[36mtest\u001b[0m:\u001b[36m228\u001b[0m - \u001b[1mTest time: 02:35\u001b[0m\n\u001b[32m2024-07-03 19:38:33.373\u001b[0m | \u001b[1mINFO    \u001b[0m | \u001b[36mopr.trainers.place_recognition.unimodal\u001b[0m:\u001b[36mtest\u001b[0m:\u001b[36m229\u001b[0m - \u001b[1mMean Recall@N:\n[0.78392383 0.84601557 0.88002377 0.90105873 0.91482434 0.92532872\n 0.93070286 0.93743308 0.94363155 0.94928071 0.95252335 0.95603\n 0.95790972 0.96032964 0.96167688 0.96438041 0.96843625 0.97004918\n 0.97085791 0.97220029 0.97301646 0.97463602 0.9759942  0.97734495\n 0.97949004]\u001b[0m\n\u001b[32m2024-07-03 19:38:33.374\u001b[0m | \u001b[1mINFO    \u001b[0m | \u001b[36mopr.trainers.place_recognition.unimodal\u001b[0m:\u001b[36mtest\u001b[0m:\u001b[36m230\u001b[0m - \u001b[1mMean Recall@1% = 0.9253287199657306\u001b[0m\n\u001b[32m2024-07-03 19:38:33.376\u001b[0m | \u001b[1mINFO    \u001b[0m | \u001b[36mopr.trainers.place_recognition.unimodal\u001b[0m:\u001b[36mtest\u001b[0m:\u001b[36m231\u001b[0m - \u001b[1mMean top-1 distance = 3.288586412612144\u001b[0m\n\u001b[32m2024-07-03 19:38:34.359\u001b[0m | \u001b[1mINFO    \u001b[0m | \u001b[36mopr.trainers.place_recognition.unimodal\u001b[0m:\u001b[36mtrain\u001b[0m:\u001b[36m159\u001b[0m - \u001b[1mRecall@1 improved!\u001b[0m\n\u001b[32m2024-07-03 19:38:35.419\u001b[0m | \u001b[1mINFO    \u001b[0m | \u001b[36mopr.trainers.place_recognition.unimodal\u001b[0m:\u001b[36mtrain\u001b[0m:\u001b[36m113\u001b[0m - \u001b[1m=====> Epoch:   4/8:\u001b[0m\n\u001b[32m2024-07-03 19:38:35.422\u001b[0m | \u001b[1mINFO    \u001b[0m | \u001b[36mopr.trainers.place_recognition.unimodal\u001b[0m:\u001b[36m_loop_epoch\u001b[0m:\u001b[36m244\u001b[0m - \u001b[1m=> Train stage:\u001b[0m\n\u001b[32m2024-07-03 19:41:50.875\u001b[0m | \u001b[1mINFO    \u001b[0m | \u001b[36mopr.trainers.place_recognition.unimodal\u001b[0m:\u001b[36m_loop_epoch\u001b[0m:\u001b[36m277\u001b[0m - \u001b[1mTrain time: 03:15\u001b[0m\n\u001b[32m2024-07-03 19:41:50.877\u001b[0m | \u001b[1mINFO    \u001b[0m | \u001b[36mopr.trainers.place_recognition.unimodal\u001b[0m:\u001b[36m_loop_epoch\u001b[0m:\u001b[36m278\u001b[0m - \u001b[1mTrain stats: {'loss': 0.5739993377663624, 'avg_embedding_norm': 10.437311567109207, 'num_triplets': 16.0, 'num_non_zero_triplets': 9.908045977011493, 'non_zero_rate': 0.6192528735632183, 'max_pos_pair_dist': 4.796376535262184, 'max_neg_pair_dist': 4.902936847730615, 'mean_pos_pair_dist': 3.984100884404676, 'mean_neg_pair_dist': 4.38575913440222, 'min_pos_pair_dist': 3.0704780419667563, 'min_neg_pair_dist': 3.9536011876731085}\u001b[0m\n\u001b[32m2024-07-03 19:41:50.879\u001b[0m | \u001b[1mINFO    \u001b[0m | \u001b[36mopr.trainers.place_recognition.unimodal\u001b[0m:\u001b[36m_loop_epoch\u001b[0m:\u001b[36m244\u001b[0m - \u001b[1m=> Val stage:\u001b[0m\n\u001b[32m2024-07-03 19:42:31.069\u001b[0m | \u001b[1mINFO    \u001b[0m | \u001b[36mopr.trainers.place_recognition.unimodal\u001b[0m:\u001b[36m_loop_epoch\u001b[0m:\u001b[36m277\u001b[0m - \u001b[1mVal time: 00:40\u001b[0m\n\u001b[32m2024-07-03 19:42:31.070\u001b[0m | \u001b[1mINFO    \u001b[0m | \u001b[36mopr.trainers.place_recognition.unimodal\u001b[0m:\u001b[36m_loop_epoch\u001b[0m:\u001b[36m278\u001b[0m - \u001b[1mVal stats: {'loss': 0.9567816853523254, 'avg_embedding_norm': 10.584986686706543, 'num_triplets': 256.0, 'num_non_zero_triplets': 254.0, 'non_zero_rate': 0.9921875, 'max_pos_pair_dist': 5.089160442352295, 'max_neg_pair_dist': 4.697394847869873, 'mean_pos_pair_dist': 4.266346454620361, 'mean_neg_pair_dist': 3.8322935104370117, 'min_pos_pair_dist': 3.3176995515823364, 'min_neg_pair_dist': 3.181854009628296}\u001b[0m\n\u001b[32m2024-07-03 19:42:31.072\u001b[0m | \u001b[1mINFO    \u001b[0m | \u001b[36mopr.trainers.place_recognition.unimodal\u001b[0m:\u001b[36mtrain\u001b[0m:\u001b[36m131\u001b[0m - \u001b[1mNon-zero rate is below threshold: 0.619 < 0.7.\u001b[0m\n\u001b[32m2024-07-03 19:42:31.341\u001b[0m | \u001b[1mINFO    \u001b[0m | \u001b[36mopr.trainers.place_recognition.unimodal\u001b[0m:\u001b[36mtest\u001b[0m:\u001b[36m172\u001b[0m - \u001b[1m=> Test stage:\u001b[0m\n\u001b[32m2024-07-03 19:44:57.644\u001b[0m | \u001b[34m\u001b[1mDEBUG   \u001b[0m | \u001b[36mopr.trainers.place_recognition.unimodal\u001b[0m:\u001b[36mtest\u001b[0m:\u001b[36m194\u001b[0m - \u001b[34m\u001b[1mTest embeddings: (1855, 1536)\u001b[0m\n\u001b[32m2024-07-03 19:45:06.317\u001b[0m | \u001b[1mINFO    \u001b[0m | \u001b[36mopr.trainers.place_recognition.unimodal\u001b[0m:\u001b[36mtest\u001b[0m:\u001b[36m228\u001b[0m - \u001b[1mTest time: 02:34\u001b[0m\n\u001b[32m2024-07-03 19:45:06.319\u001b[0m | \u001b[1mINFO    \u001b[0m | \u001b[36mopr.trainers.place_recognition.unimodal\u001b[0m:\u001b[36mtest\u001b[0m:\u001b[36m229\u001b[0m - \u001b[1mMean Recall@N:\n[0.88210547 0.91910784 0.93506179 0.94475563 0.94985777 0.95282779\n 0.95715277 0.96199581 0.96604712 0.96874547 0.97062877 0.97251153\n 0.97386104 0.97601425 0.97655761 0.97898156 0.97925389 0.9797938\n 0.98060254 0.98140869 0.98275679 0.98302913 0.98383651 0.98464039\n 0.98544513]\u001b[0m\n\u001b[32m2024-07-03 19:45:06.321\u001b[0m | \u001b[1mINFO    \u001b[0m | \u001b[36mopr.trainers.place_recognition.unimodal\u001b[0m:\u001b[36mtest\u001b[0m:\u001b[36m230\u001b[0m - \u001b[1mMean Recall@1% = 0.952827792052131\u001b[0m\n\u001b[32m2024-07-03 19:45:06.322\u001b[0m | \u001b[1mINFO    \u001b[0m | \u001b[36mopr.trainers.place_recognition.unimodal\u001b[0m:\u001b[36mtest\u001b[0m:\u001b[36m231\u001b[0m - \u001b[1mMean top-1 distance = 3.3517328396264694\u001b[0m\n\u001b[32m2024-07-03 19:45:07.256\u001b[0m | \u001b[1mINFO    \u001b[0m | \u001b[36mopr.trainers.place_recognition.unimodal\u001b[0m:\u001b[36mtrain\u001b[0m:\u001b[36m159\u001b[0m - \u001b[1mRecall@1 improved!\u001b[0m\n\u001b[32m2024-07-03 19:45:08.208\u001b[0m | \u001b[1mINFO    \u001b[0m | \u001b[36mopr.trainers.place_recognition.unimodal\u001b[0m:\u001b[36mtrain\u001b[0m:\u001b[36m113\u001b[0m - \u001b[1m=====> Epoch:   5/8:\u001b[0m\n\u001b[32m2024-07-03 19:45:08.210\u001b[0m | \u001b[1mINFO    \u001b[0m | \u001b[36mopr.trainers.place_recognition.unimodal\u001b[0m:\u001b[36m_loop_epoch\u001b[0m:\u001b[36m244\u001b[0m - \u001b[1m=> Train stage:\u001b[0m\n\u001b[32m2024-07-03 19:48:25.911\u001b[0m | \u001b[1mINFO    \u001b[0m | \u001b[36mopr.trainers.place_recognition.unimodal\u001b[0m:\u001b[36m_loop_epoch\u001b[0m:\u001b[36m277\u001b[0m - \u001b[1mTrain time: 03:17\u001b[0m\n\u001b[32m2024-07-03 19:48:25.913\u001b[0m | \u001b[1mINFO    \u001b[0m | \u001b[36mopr.trainers.place_recognition.unimodal\u001b[0m:\u001b[36m_loop_epoch\u001b[0m:\u001b[36m278\u001b[0m - \u001b[1mTrain stats: {'loss': 0.5198548128828406, 'avg_embedding_norm': 10.788770392537117, 'num_triplets': 22.0, 'num_non_zero_triplets': 11.234375, 'non_zero_rate': 0.5106534090909091, 'max_pos_pair_dist': 4.953904718160629, 'max_neg_pair_dist': 5.128519207239151, 'mean_pos_pair_dist': 3.966660164296627, 'mean_neg_pair_dist': 4.529515653848648, 'min_pos_pair_dist': 2.9644304420799017, 'min_neg_pair_dist': 4.025397807359695}\u001b[0m\n\u001b[32m2024-07-03 19:48:25.914\u001b[0m | \u001b[1mINFO    \u001b[0m | \u001b[36mopr.trainers.place_recognition.unimodal\u001b[0m:\u001b[36m_loop_epoch\u001b[0m:\u001b[36m244\u001b[0m - \u001b[1m=> Val stage:\u001b[0m\n\u001b[32m2024-07-03 19:49:06.839\u001b[0m | \u001b[1mINFO    \u001b[0m | \u001b[36mopr.trainers.place_recognition.unimodal\u001b[0m:\u001b[36m_loop_epoch\u001b[0m:\u001b[36m277\u001b[0m - \u001b[1mVal time: 00:40\u001b[0m\n\u001b[32m2024-07-03 19:49:06.841\u001b[0m | \u001b[1mINFO    \u001b[0m | \u001b[36mopr.trainers.place_recognition.unimodal\u001b[0m:\u001b[36m_loop_epoch\u001b[0m:\u001b[36m278\u001b[0m - \u001b[1mVal stats: {'loss': 0.9032074511051178, 'avg_embedding_norm': 10.933301448822021, 'num_triplets': 256.0, 'num_non_zero_triplets': 249.0, 'non_zero_rate': 0.97265625, 'max_pos_pair_dist': 5.3170788288116455, 'max_neg_pair_dist': 4.757391691207886, 'mean_pos_pair_dist': 4.342601776123047, 'mean_neg_pair_dist': 3.9866933822631836, 'min_pos_pair_dist': 3.016639828681946, 'min_neg_pair_dist': 3.4364503622055054}\u001b[0m\n\u001b[32m2024-07-03 19:49:06.843\u001b[0m | \u001b[1mINFO    \u001b[0m | \u001b[36mopr.trainers.place_recognition.unimodal\u001b[0m:\u001b[36mtrain\u001b[0m:\u001b[36m131\u001b[0m - \u001b[1mNon-zero rate is below threshold: 0.511 < 0.7.\u001b[0m\n\u001b[32m2024-07-03 19:49:07.112\u001b[0m | \u001b[1mINFO    \u001b[0m | \u001b[36mopr.trainers.place_recognition.unimodal\u001b[0m:\u001b[36mtest\u001b[0m:\u001b[36m172\u001b[0m - \u001b[1m=> Test stage:\u001b[0m\n\u001b[32m2024-07-03 19:51:35.951\u001b[0m | \u001b[34m\u001b[1mDEBUG   \u001b[0m | \u001b[36mopr.trainers.place_recognition.unimodal\u001b[0m:\u001b[36mtest\u001b[0m:\u001b[36m194\u001b[0m - \u001b[34m\u001b[1mTest embeddings: (1855, 1536)\u001b[0m\n\u001b[32m2024-07-03 19:51:45.225\u001b[0m | \u001b[1mINFO    \u001b[0m | \u001b[36mopr.trainers.place_recognition.unimodal\u001b[0m:\u001b[36mtest\u001b[0m:\u001b[36m228\u001b[0m - \u001b[1mTest time: 02:38\u001b[0m\n\u001b[32m2024-07-03 19:51:45.226\u001b[0m | \u001b[1mINFO    \u001b[0m | \u001b[36mopr.trainers.place_recognition.unimodal\u001b[0m:\u001b[36mtest\u001b[0m:\u001b[36m229\u001b[0m - \u001b[1mMean Recall@N:\n[0.9290869  0.95225286 0.96218673 0.96757258 0.97405236 0.97647229\n 0.97782837 0.97836828 0.97999006 0.98133595 0.9826942  0.98432127\n 0.98485719 0.98620794 0.98701356 0.98728238 0.98890847 0.98944962\n 0.9905346  0.99134808 0.99188923 0.99297638 0.99324871 0.99351753\n 0.99378634]\u001b[0m\n\u001b[32m2024-07-03 19:51:45.228\u001b[0m | \u001b[1mINFO    \u001b[0m | \u001b[36mopr.trainers.place_recognition.unimodal\u001b[0m:\u001b[36mtest\u001b[0m:\u001b[36m230\u001b[0m - \u001b[1mMean Recall@1% = 0.9764722919255089\u001b[0m\n\u001b[32m2024-07-03 19:51:45.230\u001b[0m | \u001b[1mINFO    \u001b[0m | \u001b[36mopr.trainers.place_recognition.unimodal\u001b[0m:\u001b[36mtest\u001b[0m:\u001b[36m231\u001b[0m - \u001b[1mMean top-1 distance = 3.320199930781873\u001b[0m\n\u001b[32m2024-07-03 19:51:46.159\u001b[0m | \u001b[1mINFO    \u001b[0m | \u001b[36mopr.trainers.place_recognition.unimodal\u001b[0m:\u001b[36mtrain\u001b[0m:\u001b[36m159\u001b[0m - \u001b[1mRecall@1 improved!\u001b[0m\n\u001b[32m2024-07-03 19:51:47.269\u001b[0m | \u001b[1mINFO    \u001b[0m | \u001b[36mopr.trainers.place_recognition.unimodal\u001b[0m:\u001b[36mtrain\u001b[0m:\u001b[36m113\u001b[0m - \u001b[1m=====> Epoch:   6/8:\u001b[0m\n\u001b[32m2024-07-03 19:51:47.272\u001b[0m | \u001b[1mINFO    \u001b[0m | \u001b[36mopr.trainers.place_recognition.unimodal\u001b[0m:\u001b[36m_loop_epoch\u001b[0m:\u001b[36m244\u001b[0m - \u001b[1m=> Train stage:\u001b[0m\n\u001b[32m2024-07-03 19:55:08.064\u001b[0m | \u001b[1mINFO    \u001b[0m | \u001b[36mopr.trainers.place_recognition.unimodal\u001b[0m:\u001b[36m_loop_epoch\u001b[0m:\u001b[36m277\u001b[0m - \u001b[1mTrain time: 03:20\u001b[0m\n\u001b[32m2024-07-03 19:55:08.065\u001b[0m | \u001b[1mINFO    \u001b[0m | \u001b[36mopr.trainers.place_recognition.unimodal\u001b[0m:\u001b[36m_loop_epoch\u001b[0m:\u001b[36m278\u001b[0m - \u001b[1mTrain stats: {'loss': 0.4807223065736446, 'avg_embedding_norm': 11.593834410322474, 'num_triplets': 30.0, 'num_non_zero_triplets': 12.702127659574469, 'non_zero_rate': 0.4234042553191489, 'max_pos_pair_dist': 5.325310057782112, 'max_neg_pair_dist': 5.522940382044366, 'mean_pos_pair_dist': 4.188219871926815, 'mean_neg_pair_dist': 4.898378301174082, 'min_pos_pair_dist': 2.99750521335196, 'min_neg_pair_dist': 4.306808086151772}\u001b[0m\n\u001b[32m2024-07-03 19:55:08.067\u001b[0m | \u001b[1mINFO    \u001b[0m | \u001b[36mopr.trainers.place_recognition.unimodal\u001b[0m:\u001b[36m_loop_epoch\u001b[0m:\u001b[36m244\u001b[0m - \u001b[1m=> Val stage:\u001b[0m\n\u001b[32m2024-07-03 19:55:49.035\u001b[0m | \u001b[1mINFO    \u001b[0m | \u001b[36mopr.trainers.place_recognition.unimodal\u001b[0m:\u001b[36m_loop_epoch\u001b[0m:\u001b[36m277\u001b[0m - \u001b[1mVal time: 00:40\u001b[0m\n\u001b[32m2024-07-03 19:55:49.036\u001b[0m | \u001b[1mINFO    \u001b[0m | \u001b[36mopr.trainers.place_recognition.unimodal\u001b[0m:\u001b[36m_loop_epoch\u001b[0m:\u001b[36m278\u001b[0m - \u001b[1mVal stats: {'loss': 0.9268812537193298, 'avg_embedding_norm': 11.598124504089355, 'num_triplets': 256.0, 'num_non_zero_triplets': 235.5, 'non_zero_rate': 0.919921875, 'max_pos_pair_dist': 5.620317697525024, 'max_neg_pair_dist': 5.004477500915527, 'mean_pos_pair_dist': 4.551892518997192, 'mean_neg_pair_dist': 4.231549978256226, 'min_pos_pair_dist': 3.3528857231140137, 'min_neg_pair_dist': 3.771432876586914}\u001b[0m\n\u001b[32m2024-07-03 19:55:49.038\u001b[0m | \u001b[1mINFO    \u001b[0m | \u001b[36mopr.trainers.place_recognition.unimodal\u001b[0m:\u001b[36mtrain\u001b[0m:\u001b[36m131\u001b[0m - \u001b[1mNon-zero rate is below threshold: 0.423 < 0.7.\u001b[0m\n\u001b[32m2024-07-03 19:55:49.321\u001b[0m | \u001b[1mINFO    \u001b[0m | \u001b[36mopr.trainers.place_recognition.unimodal\u001b[0m:\u001b[36mtest\u001b[0m:\u001b[36m172\u001b[0m - \u001b[1m=> Test stage:\u001b[0m\n\u001b[32m2024-07-03 19:58:16.695\u001b[0m | \u001b[34m\u001b[1mDEBUG   \u001b[0m | \u001b[36mopr.trainers.place_recognition.unimodal\u001b[0m:\u001b[36mtest\u001b[0m:\u001b[36m194\u001b[0m - \u001b[34m\u001b[1mTest embeddings: (1855, 1536)\u001b[0m\n\u001b[32m2024-07-03 19:58:25.446\u001b[0m | \u001b[1mINFO    \u001b[0m | \u001b[36mopr.trainers.place_recognition.unimodal\u001b[0m:\u001b[36mtest\u001b[0m:\u001b[36m228\u001b[0m - \u001b[1mTest time: 02:36\u001b[0m\n\u001b[32m2024-07-03 19:58:25.448\u001b[0m | \u001b[1mINFO    \u001b[0m | \u001b[36mopr.trainers.place_recognition.unimodal\u001b[0m:\u001b[36mtest\u001b[0m:\u001b[36m229\u001b[0m - \u001b[1mMean Recall@N:\n[0.93899375 0.96137572 0.96758872 0.97217094 0.97621961 0.97838166\n 0.98107965 0.98351497 0.98486964 0.98648311 0.98783035 0.98891047\n 0.98999411 0.99161368 0.99269333 0.99295957 0.99377047 0.99377047\n 0.99377047 0.99404281 0.99431162 0.99512035 0.99539004 0.99539004\n 0.99619743]\u001b[0m\n\u001b[32m2024-07-03 19:58:25.450\u001b[0m | \u001b[1mINFO    \u001b[0m | \u001b[36mopr.trainers.place_recognition.unimodal\u001b[0m:\u001b[36mtest\u001b[0m:\u001b[36m230\u001b[0m - \u001b[1mMean Recall@1% = 0.9783816630629615\u001b[0m\n\u001b[32m2024-07-03 19:58:25.451\u001b[0m | \u001b[1mINFO    \u001b[0m | \u001b[36mopr.trainers.place_recognition.unimodal\u001b[0m:\u001b[36mtest\u001b[0m:\u001b[36m231\u001b[0m - \u001b[1mMean top-1 distance = 3.4864092185555724\u001b[0m\n\u001b[32m2024-07-03 19:58:26.380\u001b[0m | \u001b[1mINFO    \u001b[0m | \u001b[36mopr.trainers.place_recognition.unimodal\u001b[0m:\u001b[36mtrain\u001b[0m:\u001b[36m159\u001b[0m - \u001b[1mRecall@1 improved!\u001b[0m\n\u001b[32m2024-07-03 19:58:27.359\u001b[0m | \u001b[1mINFO    \u001b[0m | \u001b[36mopr.trainers.place_recognition.unimodal\u001b[0m:\u001b[36mtrain\u001b[0m:\u001b[36m113\u001b[0m - \u001b[1m=====> Epoch:   7/8:\u001b[0m\n\u001b[32m2024-07-03 19:58:27.362\u001b[0m | \u001b[1mINFO    \u001b[0m | \u001b[36mopr.trainers.place_recognition.unimodal\u001b[0m:\u001b[36m_loop_epoch\u001b[0m:\u001b[36m244\u001b[0m - \u001b[1m=> Train stage:\u001b[0m\n\u001b[32m2024-07-03 20:01:44.504\u001b[0m | \u001b[1mINFO    \u001b[0m | \u001b[36mopr.trainers.place_recognition.unimodal\u001b[0m:\u001b[36m_loop_epoch\u001b[0m:\u001b[36m277\u001b[0m - \u001b[1mTrain time: 03:17\u001b[0m\n\u001b[32m2024-07-03 20:01:44.505\u001b[0m | \u001b[1mINFO    \u001b[0m | \u001b[36mopr.trainers.place_recognition.unimodal\u001b[0m:\u001b[36m_loop_epoch\u001b[0m:\u001b[36m278\u001b[0m - \u001b[1mTrain stats: {'loss': 0.4785993722352115, 'avg_embedding_norm': 12.29158439058246, 'num_triplets': 42.0, 'num_non_zero_triplets': 15.454545454545455, 'non_zero_rate': 0.36796536796536794, 'max_pos_pair_dist': 5.689395918990627, 'max_neg_pair_dist': 6.009547508124149, 'mean_pos_pair_dist': 4.458071015097878, 'mean_neg_pair_dist': 5.267388502756755, 'min_pos_pair_dist': 3.2087856711763325, 'min_neg_pair_dist': 4.54194941665187}\u001b[0m\n\u001b[32m2024-07-03 20:01:44.506\u001b[0m | \u001b[1mINFO    \u001b[0m | \u001b[36mopr.trainers.place_recognition.unimodal\u001b[0m:\u001b[36m_loop_epoch\u001b[0m:\u001b[36m244\u001b[0m - \u001b[1m=> Val stage:\u001b[0m\n\u001b[32m2024-07-03 20:02:24.794\u001b[0m | \u001b[1mINFO    \u001b[0m | \u001b[36mopr.trainers.place_recognition.unimodal\u001b[0m:\u001b[36m_loop_epoch\u001b[0m:\u001b[36m277\u001b[0m - \u001b[1mVal time: 00:40\u001b[0m\n\u001b[32m2024-07-03 20:02:24.796\u001b[0m | \u001b[1mINFO    \u001b[0m | \u001b[36mopr.trainers.place_recognition.unimodal\u001b[0m:\u001b[36m_loop_epoch\u001b[0m:\u001b[36m278\u001b[0m - \u001b[1mVal stats: {'loss': 0.9390684068202972, 'avg_embedding_norm': 12.008644104003906, 'num_triplets': 256.0, 'num_non_zero_triplets': 232.5, 'non_zero_rate': 0.908203125, 'max_pos_pair_dist': 5.890128135681152, 'max_neg_pair_dist': 5.2426087856292725, 'mean_pos_pair_dist': 4.769582033157349, 'mean_neg_pair_dist': 4.454472064971924, 'min_pos_pair_dist': 3.2763582468032837, 'min_neg_pair_dist': 3.8398863077163696}\u001b[0m\n\u001b[32m2024-07-03 20:02:24.797\u001b[0m | \u001b[1mINFO    \u001b[0m | \u001b[36mopr.trainers.place_recognition.unimodal\u001b[0m:\u001b[36mtrain\u001b[0m:\u001b[36m131\u001b[0m - \u001b[1mNon-zero rate is below threshold: 0.368 < 0.7.\u001b[0m\n\u001b[32m2024-07-03 20:02:25.064\u001b[0m | \u001b[1mINFO    \u001b[0m | \u001b[36mopr.trainers.place_recognition.unimodal\u001b[0m:\u001b[36mtest\u001b[0m:\u001b[36m172\u001b[0m - \u001b[1m=> Test stage:\u001b[0m\n\u001b[32m2024-07-03 20:04:50.520\u001b[0m | \u001b[34m\u001b[1mDEBUG   \u001b[0m | \u001b[36mopr.trainers.place_recognition.unimodal\u001b[0m:\u001b[36mtest\u001b[0m:\u001b[36m194\u001b[0m - \u001b[34m\u001b[1mTest embeddings: (1855, 1536)\u001b[0m\n\u001b[32m2024-07-03 20:04:59.202\u001b[0m | \u001b[1mINFO    \u001b[0m | \u001b[36mopr.trainers.place_recognition.unimodal\u001b[0m:\u001b[36mtest\u001b[0m:\u001b[36m228\u001b[0m - \u001b[1mTest time: 02:34\u001b[0m\n\u001b[32m2024-07-03 20:04:59.205\u001b[0m | \u001b[1mINFO    \u001b[0m | \u001b[36mopr.trainers.place_recognition.unimodal\u001b[0m:\u001b[36mtest\u001b[0m:\u001b[36m229\u001b[0m - \u001b[1mMean Recall@N:\n[0.95004751 0.96757984 0.97351462 0.97784483 0.98081666 0.98243616\n 0.98433026 0.985685   0.98783611 0.98864959 0.99026571 0.99053938\n 0.99080562 0.99134811 0.99242689 0.99322819 0.99349701 0.99403638\n 0.99458373 0.99458373 0.99485255 0.99485255 0.99539855 0.99566737\n 0.99566737]\u001b[0m\n\u001b[32m2024-07-03 20:04:59.206\u001b[0m | \u001b[1mINFO    \u001b[0m | \u001b[36mopr.trainers.place_recognition.unimodal\u001b[0m:\u001b[36mtest\u001b[0m:\u001b[36m230\u001b[0m - \u001b[1mMean Recall@1% = 0.9824361553431107\u001b[0m\n\u001b[32m2024-07-03 20:04:59.207\u001b[0m | \u001b[1mINFO    \u001b[0m | \u001b[36mopr.trainers.place_recognition.unimodal\u001b[0m:\u001b[36mtest\u001b[0m:\u001b[36m231\u001b[0m - \u001b[1mMean top-1 distance = 3.641162358740246\u001b[0m\n\u001b[32m2024-07-03 20:05:00.038\u001b[0m | \u001b[1mINFO    \u001b[0m | \u001b[36mopr.trainers.place_recognition.unimodal\u001b[0m:\u001b[36mtrain\u001b[0m:\u001b[36m159\u001b[0m - \u001b[1mRecall@1 improved!\u001b[0m\n\u001b[32m2024-07-03 20:05:00.916\u001b[0m | \u001b[1mINFO    \u001b[0m | \u001b[36mopr.trainers.place_recognition.unimodal\u001b[0m:\u001b[36mtrain\u001b[0m:\u001b[36m113\u001b[0m - \u001b[1m=====> Epoch:   8/8:\u001b[0m\n\u001b[32m2024-07-03 20:05:00.918\u001b[0m | \u001b[1mINFO    \u001b[0m | \u001b[36mopr.trainers.place_recognition.unimodal\u001b[0m:\u001b[36m_loop_epoch\u001b[0m:\u001b[36m244\u001b[0m - \u001b[1m=> Train stage:\u001b[0m\n\u001b[32m2024-07-03 20:08:23.607\u001b[0m | \u001b[1mINFO    \u001b[0m | \u001b[36mopr.trainers.place_recognition.unimodal\u001b[0m:\u001b[36m_loop_epoch\u001b[0m:\u001b[36m277\u001b[0m - \u001b[1mTrain time: 03:22\u001b[0m\n\u001b[32m2024-07-03 20:08:23.609\u001b[0m | \u001b[1mINFO    \u001b[0m | \u001b[36mopr.trainers.place_recognition.unimodal\u001b[0m:\u001b[36m_loop_epoch\u001b[0m:\u001b[36m278\u001b[0m - \u001b[1mTrain stats: {'loss': 0.47036816986898583, 'avg_embedding_norm': 12.74266242980957, 'num_triplets': 58.0, 'num_non_zero_triplets': 19.5, 'non_zero_rate': 0.3362068965517242, 'max_pos_pair_dist': 5.782812297344208, 'max_neg_pair_dist': 6.151257594426473, 'mean_pos_pair_dist': 4.557779590288798, 'mean_neg_pair_dist': 5.433940589427948, 'min_pos_pair_dist': 3.0870338877042136, 'min_neg_pair_dist': 4.680192639430364}\u001b[0m\n\u001b[32m2024-07-03 20:08:23.610\u001b[0m | \u001b[1mINFO    \u001b[0m | \u001b[36mopr.trainers.place_recognition.unimodal\u001b[0m:\u001b[36m_loop_epoch\u001b[0m:\u001b[36m244\u001b[0m - \u001b[1m=> Val stage:\u001b[0m\n\u001b[32m2024-07-03 20:09:03.562\u001b[0m | \u001b[1mINFO    \u001b[0m | \u001b[36mopr.trainers.place_recognition.unimodal\u001b[0m:\u001b[36m_loop_epoch\u001b[0m:\u001b[36m277\u001b[0m - \u001b[1mVal time: 00:39\u001b[0m\n\u001b[32m2024-07-03 20:09:03.563\u001b[0m | \u001b[1mINFO    \u001b[0m | \u001b[36mopr.trainers.place_recognition.unimodal\u001b[0m:\u001b[36m_loop_epoch\u001b[0m:\u001b[36m278\u001b[0m - \u001b[1mVal stats: {'loss': 0.9518060982227325, 'avg_embedding_norm': 12.573297023773193, 'num_triplets': 256.0, 'num_non_zero_triplets': 235.5, 'non_zero_rate': 0.919921875, 'max_pos_pair_dist': 6.205946445465088, 'max_neg_pair_dist': 5.476249694824219, 'mean_pos_pair_dist': 4.986964702606201, 'mean_neg_pair_dist': 4.653949022293091, 'min_pos_pair_dist': 3.58235239982605, 'min_neg_pair_dist': 3.9521617889404297}\u001b[0m\n\u001b[32m2024-07-03 20:09:03.565\u001b[0m | \u001b[1mINFO    \u001b[0m | \u001b[36mopr.trainers.place_recognition.unimodal\u001b[0m:\u001b[36mtrain\u001b[0m:\u001b[36m131\u001b[0m - \u001b[1mNon-zero rate is below threshold: 0.336 < 0.7.\u001b[0m\n\u001b[32m2024-07-03 20:09:03.830\u001b[0m | \u001b[1mINFO    \u001b[0m | \u001b[36mopr.trainers.place_recognition.unimodal\u001b[0m:\u001b[36mtest\u001b[0m:\u001b[36m172\u001b[0m - \u001b[1m=> Test stage:\u001b[0m\n\u001b[32m2024-07-03 20:11:29.706\u001b[0m | \u001b[34m\u001b[1mDEBUG   \u001b[0m | \u001b[36mopr.trainers.place_recognition.unimodal\u001b[0m:\u001b[36mtest\u001b[0m:\u001b[36m194\u001b[0m - \u001b[34m\u001b[1mTest embeddings: (1855, 1536)\u001b[0m\n\u001b[32m2024-07-03 20:11:38.336\u001b[0m | \u001b[1mINFO    \u001b[0m | \u001b[36mopr.trainers.place_recognition.unimodal\u001b[0m:\u001b[36mtest\u001b[0m:\u001b[36m228\u001b[0m - \u001b[1mTest time: 02:34\u001b[0m\n\u001b[32m2024-07-03 20:11:38.337\u001b[0m | \u001b[1mINFO    \u001b[0m | \u001b[36mopr.trainers.place_recognition.unimodal\u001b[0m:\u001b[36mtest\u001b[0m:\u001b[36m229\u001b[0m - \u001b[1mMean Recall@N:\n[0.95413337 0.96948573 0.9751449  0.98081146 0.98403935 0.98537915\n 0.98645365 0.9891665  0.99106851 0.99133733 0.9918759  0.99242324\n 0.99295917 0.99377142 0.99484505 0.99511872 0.99566074 0.99566074\n 0.99566074 0.99566074 0.99620276 0.99647509 0.99647509 0.99701711\n 0.99701711]\u001b[0m\n\u001b[32m2024-07-03 20:11:38.339\u001b[0m | \u001b[1mINFO    \u001b[0m | \u001b[36mopr.trainers.place_recognition.unimodal\u001b[0m:\u001b[36mtest\u001b[0m:\u001b[36m230\u001b[0m - \u001b[1mMean Recall@1% = 0.9853791505372332\u001b[0m\n\u001b[32m2024-07-03 20:11:38.340\u001b[0m | \u001b[1mINFO    \u001b[0m | \u001b[36mopr.trainers.place_recognition.unimodal\u001b[0m:\u001b[36mtest\u001b[0m:\u001b[36m231\u001b[0m - \u001b[1mMean top-1 distance = 3.77455849771096\u001b[0m\n\u001b[32m2024-07-03 20:11:39.204\u001b[0m | \u001b[1mINFO    \u001b[0m | \u001b[36mopr.trainers.place_recognition.unimodal\u001b[0m:\u001b[36mtrain\u001b[0m:\u001b[36m159\u001b[0m - \u001b[1mRecall@1 improved!\u001b[0m\n",
          "output_type": "stream"
        }
      ]
    },
    {
      "cell_type": "code",
      "source": [
        "trainer.test(test_dl, distance_threshold=5)"
      ],
      "metadata": {
        "execution": {
          "iopub.status.busy": "2024-07-03T20:11:40.046941Z",
          "iopub.execute_input": "2024-07-03T20:11:40.047909Z",
          "iopub.status.idle": "2024-07-03T20:14:15.041480Z",
          "shell.execute_reply.started": "2024-07-03T20:11:40.047854Z",
          "shell.execute_reply": "2024-07-03T20:14:15.039827Z"
        },
        "trusted": true,
        "id": "QqfxCuWZSWuY",
        "outputId": "b07c6eb1-91f1-4777-8a0a-be6e695eaaac"
      },
      "execution_count": null,
      "outputs": [
        {
          "name": "stderr",
          "text": "\u001b[32m2024-07-03 20:11:40.051\u001b[0m | \u001b[1mINFO    \u001b[0m | \u001b[36mopr.trainers.place_recognition.unimodal\u001b[0m:\u001b[36mtest\u001b[0m:\u001b[36m172\u001b[0m - \u001b[1m=> Test stage:\u001b[0m\n\u001b[32m2024-07-03 20:14:06.466\u001b[0m | \u001b[34m\u001b[1mDEBUG   \u001b[0m | \u001b[36mopr.trainers.place_recognition.unimodal\u001b[0m:\u001b[36mtest\u001b[0m:\u001b[36m194\u001b[0m - \u001b[34m\u001b[1mTest embeddings: (1855, 1536)\u001b[0m\n\u001b[32m2024-07-03 20:14:15.030\u001b[0m | \u001b[1mINFO    \u001b[0m | \u001b[36mopr.trainers.place_recognition.unimodal\u001b[0m:\u001b[36mtest\u001b[0m:\u001b[36m228\u001b[0m - \u001b[1mTest time: 02:34\u001b[0m\n\u001b[32m2024-07-03 20:14:15.032\u001b[0m | \u001b[1mINFO    \u001b[0m | \u001b[36mopr.trainers.place_recognition.unimodal\u001b[0m:\u001b[36mtest\u001b[0m:\u001b[36m229\u001b[0m - \u001b[1mMean Recall@N:\n[0.75562399 0.88127643 0.91546123 0.93768096 0.94994068 0.95799139\n 0.96267286 0.96626773 0.97016465 0.97266847 0.97376773 0.97459808\n 0.9778952  0.97927836 0.98010075 0.9817496  0.98285498 0.98423545\n 0.98534307 0.98563242 0.98619044 0.98646502 0.98673959 0.98729194\n 0.9878393 ]\u001b[0m\n\u001b[32m2024-07-03 20:14:15.033\u001b[0m | \u001b[1mINFO    \u001b[0m | \u001b[36mopr.trainers.place_recognition.unimodal\u001b[0m:\u001b[36mtest\u001b[0m:\u001b[36m230\u001b[0m - \u001b[1mMean Recall@1% = 0.9579913918811037\u001b[0m\n\u001b[32m2024-07-03 20:14:15.035\u001b[0m | \u001b[1mINFO    \u001b[0m | \u001b[36mopr.trainers.place_recognition.unimodal\u001b[0m:\u001b[36mtest\u001b[0m:\u001b[36m231\u001b[0m - \u001b[1mMean top-1 distance = 3.716408165799979\u001b[0m\n",
          "output_type": "stream"
        }
      ]
    },
    {
      "cell_type": "code",
      "source": [
        "embeddings = extract_embeddings(model, descriptor_key=\"final_descriptor\", dataloader=test_dl, device='cuda')\n",
        "test_submission(embeddings, dataset_df=test_dl.dataset.dataset_df, filename=\"tuned_baseline_submission.txt\")"
      ],
      "metadata": {
        "execution": {
          "iopub.status.busy": "2024-07-03T20:16:44.483892Z",
          "iopub.execute_input": "2024-07-03T20:16:44.484654Z",
          "iopub.status.idle": "2024-07-03T20:19:16.968534Z",
          "shell.execute_reply.started": "2024-07-03T20:16:44.484619Z",
          "shell.execute_reply": "2024-07-03T20:19:16.966883Z"
        },
        "trusted": true,
        "id": "fG8qVgzMSWua",
        "outputId": "7ff10e16-6885-4970-fe69-059db3f64e0b"
      },
      "execution_count": null,
      "outputs": [
        {
          "name": "stderr",
          "text": "Calculating test set descriptors: 100%|██████████| 8/8 [02:24<00:00, 18.00s/it]\nCalculating metrics: 100%|██████████| 6/6 [00:08<00:00,  1.40s/it]\n",
          "output_type": "stream"
        }
      ]
    },
    {
      "cell_type": "code",
      "source": [
        "torch.save(model.state_dict(), 'model.pt')"
      ],
      "metadata": {
        "execution": {
          "iopub.status.busy": "2024-07-03T20:19:48.457406Z",
          "iopub.execute_input": "2024-07-03T20:19:48.457836Z",
          "iopub.status.idle": "2024-07-03T20:19:48.655572Z",
          "shell.execute_reply.started": "2024-07-03T20:19:48.457803Z",
          "shell.execute_reply": "2024-07-03T20:19:48.654240Z"
        },
        "trusted": true,
        "id": "Xz9aZPFsSWua"
      },
      "execution_count": null,
      "outputs": []
    },
    {
      "cell_type": "markdown",
      "source": [
        "На основе статьи модификация пайплайна сабмита."
      ],
      "metadata": {
        "id": "1NVomydESWub"
      }
    },
    {
      "cell_type": "code",
      "source": [
        "import itertools\n",
        "import pandas as pd\n",
        "from sklearn.neighbors import KDTree\n",
        "import numpy as np\n",
        "import torch\n",
        "from tqdm import tqdm\n",
        "\n",
        "def extract_embeddings(model, descriptor_key, dataloader, device):\n",
        "    model = model.to(device)\n",
        "    model.eval()\n",
        "    with torch.no_grad():\n",
        "        test_embeddings_list = []\n",
        "        for data in tqdm(dataloader, desc=\"Calculating test set descriptors\"):\n",
        "            batch = data\n",
        "            batch = {e: batch[e].to(device) for e in batch}\n",
        "            batch_embeddings = model(batch)\n",
        "            test_embeddings_list.append(batch_embeddings[descriptor_key].cpu().numpy())\n",
        "        test_embeddings = np.vstack(test_embeddings_list)\n",
        "    return test_embeddings\n",
        "\n",
        "def extract_patches(emb, patch_size, stride):\n",
        "    if len(emb.shape) == 1:\n",
        "        # патчи с помощью скользящего окна\n",
        "        patches = []\n",
        "        for i in range(0, len(emb) - patch_size + 1, stride):\n",
        "            patch = emb[i:i + patch_size]\n",
        "            patches.append(patch)\n",
        "        return np.array(patches)\n",
        "\n",
        "\n",
        "    patches = []\n",
        "    for i in range(0, emb.shape[0] - patch_size + 1, stride):\n",
        "        for j in range(0, emb.shape[1] - patch_size + 1, stride):\n",
        "            patch = emb[i:i + patch_size, j:j + patch_size]\n",
        "            patches.append(patch.flatten())\n",
        "    return np.array(patches)\n",
        "\n",
        "def re_rank_candidates(query_embs, database_embs, top_k=20, patch_size=64, stride=32):\n",
        "    database_tree = KDTree(database_embs)\n",
        "    distances, indices = database_tree.query(query_embs, k=top_k)\n",
        "    re_ranked_indices = np.zeros((len(query_embs), top_k), dtype=int)\n",
        "\n",
        "    for i in range(len(query_embs)):\n",
        "        initial_candidates = indices[i]\n",
        "        candidate_embs = database_embs[initial_candidates]\n",
        "        query_emb = query_embs[i]\n",
        "\n",
        "        query_patches = extract_patches(query_emb, patch_size, stride)\n",
        "        candidate_patches = [extract_patches(candidate_emb, patch_size, stride) for candidate_emb in candidate_embs]\n",
        "\n",
        "        new_distances = []\n",
        "        for candidate_patch_embs in candidate_patches:\n",
        "            patch_distances = np.linalg.norm(query_patches[:, np.newaxis] - candidate_patch_embs, axis=2)\n",
        "            new_distances.append(np.mean(patch_distances))\n",
        "\n",
        "        new_distances = np.array(new_distances)\n",
        "        re_ranked_order = np.argsort(new_distances)\n",
        "        re_ranked_indices[i] = initial_candidates[re_ranked_order]\n",
        "\n",
        "    return re_ranked_indices\n",
        "\n",
        "def test_submission(\n",
        "    test_embeddings: np.ndarray, dataset_df: pd.DataFrame, filename: str = \"submission.txt\", re_rank=True\n",
        ") -> None:\n",
        "    \"\"\"Function to create submission txt file.\n",
        "\n",
        "    Args:\n",
        "        test_embeddings (np.ndarray): Array of embeddings.\n",
        "        dataset_df (pd.Dataframe): Test dataset dataframe ('test.csv').\n",
        "        filename (str): Name of the output txt file. Defaults to \"submission.txt\".\n",
        "        re_rank (bool): Whether to re-rank the candidates. Defaults to False.\n",
        "    \"\"\"\n",
        "    tracks = []\n",
        "\n",
        "    for _, group in dataset_df.groupby(\"track\"):\n",
        "        tracks.append(group.index.to_numpy())\n",
        "    n = 3\n",
        "    ij_permutations = sorted(list(itertools.permutations(range(len(tracks)), 2)))\n",
        "    # ij_permutations = [(0, 1), (0, 2), (1, 0), (1, 2), (2, 0), (2, 1)]\n",
        "\n",
        "    submission_lines = []\n",
        "\n",
        "    for i, j in tqdm(ij_permutations, desc=\"Calculating metrics\"):\n",
        "        query_indices = tracks[i]\n",
        "        database_indices = tracks[j]\n",
        "        query_embs = test_embeddings[query_indices]\n",
        "        database_embs = test_embeddings[database_indices]\n",
        "\n",
        "        if re_rank:\n",
        "            top_k_indices = re_rank_candidates(query_embs, database_embs, top_k=n)\n",
        "            best_indices = top_k_indices[:, 0]\n",
        "        else:\n",
        "            database_tree = KDTree(database_embs)\n",
        "            _, indices = database_tree.query(query_embs, k=1)\n",
        "            best_indices = indices.squeeze()\n",
        "\n",
        "        submission_lines.extend(list(database_indices[best_indices]))\n",
        "\n",
        "    with open(filename, \"w\") as f:\n",
        "        for l in submission_lines:\n",
        "            f.write(str(l)+\"\\n\")"
      ],
      "metadata": {
        "execution": {
          "iopub.status.busy": "2024-07-03T21:15:24.718317Z",
          "iopub.execute_input": "2024-07-03T21:15:24.718777Z",
          "iopub.status.idle": "2024-07-03T21:15:24.749078Z",
          "shell.execute_reply.started": "2024-07-03T21:15:24.718747Z",
          "shell.execute_reply": "2024-07-03T21:15:24.747849Z"
        },
        "trusted": true,
        "id": "z1D7p4yuSWuh"
      },
      "execution_count": null,
      "outputs": []
    },
    {
      "cell_type": "code",
      "source": [
        "embeddings = extract_embeddings(model, descriptor_key=\"final_descriptor\", dataloader=test_dl, device='cuda')"
      ],
      "metadata": {
        "execution": {
          "iopub.status.busy": "2024-07-03T21:15:28.165692Z",
          "iopub.execute_input": "2024-07-03T21:15:28.166421Z",
          "iopub.status.idle": "2024-07-03T21:17:55.939641Z",
          "shell.execute_reply.started": "2024-07-03T21:15:28.166383Z",
          "shell.execute_reply": "2024-07-03T21:17:55.938419Z"
        },
        "trusted": true,
        "id": "DbT4uN-9SWuk",
        "outputId": "c65f8692-f39b-4510-a541-7a9f0742f491"
      },
      "execution_count": null,
      "outputs": [
        {
          "name": "stderr",
          "text": "Calculating test set descriptors: 100%|██████████| 8/8 [02:27<00:00, 18.47s/it]\n",
          "output_type": "stream"
        }
      ]
    },
    {
      "cell_type": "code",
      "source": [
        "test_submission(embeddings, dataset_df=test_dl.dataset.dataset_df, filename=\"new_baseline_submission.txt\")"
      ],
      "metadata": {
        "execution": {
          "iopub.status.busy": "2024-07-03T21:17:55.941823Z",
          "iopub.execute_input": "2024-07-03T21:17:55.942219Z",
          "iopub.status.idle": "2024-07-03T21:18:08.265204Z",
          "shell.execute_reply.started": "2024-07-03T21:17:55.942180Z",
          "shell.execute_reply": "2024-07-03T21:18:08.263025Z"
        },
        "trusted": true,
        "id": "qPAvj6qCSWum",
        "outputId": "c0ef5a94-9c2b-4759-80aa-e1ca5289ac6c"
      },
      "execution_count": null,
      "outputs": [
        {
          "name": "stderr",
          "text": "Calculating metrics: 100%|██████████| 6/6 [00:12<00:00,  2.05s/it]\n",
          "output_type": "stream"
        }
      ]
    },
    {
      "cell_type": "code",
      "source": [],
      "metadata": {
        "id": "NqDNBCvSSWun"
      },
      "execution_count": null,
      "outputs": []
    }
  ]
}
